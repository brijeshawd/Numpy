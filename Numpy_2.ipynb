{
  "cells": [
    {
      "cell_type": "code",
      "execution_count": null,
      "id": "399090e8",
      "metadata": {
        "id": "399090e8",
        "outputId": "cd015492-60e7-49e2-c612-62f487a87eaa"
      },
      "outputs": [
        {
          "name": "stdout",
          "output_type": "stream",
          "text": [
            "Welcome to Numpy-2\n"
          ]
        }
      ],
      "source": [
        "print(\"Welcome to Numpy-2\")"
      ]
    },
    {
      "cell_type": "code",
      "execution_count": null,
      "id": "9c78a631",
      "metadata": {
        "id": "9c78a631"
      },
      "outputs": [],
      "source": [
        "import numpy as np"
      ]
    },
    {
      "cell_type": "code",
      "execution_count": null,
      "id": "6467d875",
      "metadata": {
        "id": "6467d875",
        "outputId": "6d3e330b-15ce-4251-c601-d3f048f6a15c",
        "colab": {
          "base_uri": "https://localhost:8080/"
        }
      },
      "outputs": [
        {
          "output_type": "stream",
          "name": "stdout",
          "text": [
            "[[ 1  2  3  4]\n",
            " [ 5  6  7  8]\n",
            " [ 9 10 11 12]]\n"
          ]
        },
        {
          "output_type": "execute_result",
          "data": {
            "text/plain": [
              "array([[ 4,  3,  2,  1],\n",
              "       [ 8,  7,  6,  5],\n",
              "       [12, 11, 10,  9]])"
            ]
          },
          "metadata": {},
          "execution_count": 3
        }
      ],
      "source": [
        "a=np.arange(1,13).reshape((3,4))\n",
        "print(a)\n",
        "a[:,::-1]"
      ]
    },
    {
      "cell_type": "code",
      "execution_count": null,
      "id": "3e71ef04",
      "metadata": {
        "id": "3e71ef04",
        "outputId": "238eae9d-bda3-4794-eba5-67df63534dba"
      },
      "outputs": [
        {
          "name": "stdout",
          "output_type": "stream",
          "text": [
            "[[ 1  2  3  4]\n",
            " [ 5  6  7  8]\n",
            " [ 9 10 11 12]]\n"
          ]
        }
      ],
      "source": [
        "a=np.arange(1,13).reshape((3,4))\n",
        "print(a)"
      ]
    },
    {
      "cell_type": "code",
      "execution_count": null,
      "id": "011c665b",
      "metadata": {
        "id": "011c665b",
        "outputId": "2f26400d-f183-4f10-b667-4dc73142ad38"
      },
      "outputs": [
        {
          "data": {
            "text/plain": [
              "78"
            ]
          },
          "execution_count": 8,
          "metadata": {},
          "output_type": "execute_result"
        }
      ],
      "source": [
        "# gives us the sum of all the values present in the numpy array\n",
        "np.sum(a)"
      ]
    },
    {
      "cell_type": "code",
      "execution_count": null,
      "id": "131ce69e",
      "metadata": {
        "id": "131ce69e",
        "outputId": "4009c455-d962-4125-89a0-f4c88eda5b3d"
      },
      "outputs": [
        {
          "data": {
            "text/plain": [
              "array([10, 26, 42])"
            ]
          },
          "execution_count": 9,
          "metadata": {},
          "output_type": "execute_result"
        }
      ],
      "source": [
        "# axis = 1 ---> for horizontal operations \n",
        "# in this case calculating the sum for each row\n",
        "\n",
        "# Method 1\n",
        "np.sum(a,axis=1)"
      ]
    },
    {
      "cell_type": "code",
      "execution_count": null,
      "id": "ae9c080c",
      "metadata": {
        "id": "ae9c080c",
        "outputId": "ce151d00-14f9-495d-8fba-ff0e71c2237c"
      },
      "outputs": [
        {
          "data": {
            "text/plain": [
              "array([15, 18, 21, 24])"
            ]
          },
          "execution_count": 10,
          "metadata": {},
          "output_type": "execute_result"
        }
      ],
      "source": [
        "# axis = 0 ---> for vertical operations \n",
        "# in this case calculating the sum for each column\n",
        "np.sum(a,axis=0)"
      ]
    },
    {
      "cell_type": "code",
      "execution_count": null,
      "id": "496fac1c",
      "metadata": {
        "id": "496fac1c",
        "outputId": "a6dca604-0b25-467e-fa2f-752e5e20e2b6"
      },
      "outputs": [
        {
          "data": {
            "text/plain": [
              "array([10, 26, 42])"
            ]
          },
          "execution_count": 11,
          "metadata": {},
          "output_type": "execute_result"
        }
      ],
      "source": [
        "# Method 2 \n",
        "a.sum(axis=1)"
      ]
    },
    {
      "cell_type": "code",
      "execution_count": null,
      "id": "822159e8",
      "metadata": {
        "id": "822159e8",
        "outputId": "d67d8f5a-f3a8-48b9-eafc-470899814de6"
      },
      "outputs": [
        {
          "data": {
            "text/plain": [
              "array([15, 18, 21, 24])"
            ]
          },
          "execution_count": 12,
          "metadata": {},
          "output_type": "execute_result"
        }
      ],
      "source": [
        "a.sum(axis=0)"
      ]
    },
    {
      "cell_type": "code",
      "execution_count": null,
      "id": "8437beaa",
      "metadata": {
        "id": "8437beaa",
        "outputId": "33151c34-6258-48b1-fc91-9d9e0d0d1c8f"
      },
      "outputs": [
        {
          "data": {
            "text/plain": [
              "array([5., 6., 7., 8.])"
            ]
          },
          "execution_count": 13,
          "metadata": {},
          "output_type": "execute_result"
        }
      ],
      "source": [
        "# we can calculate mean across rows and columns based on the axis chosen.\n",
        "np.mean(a,axis=0)"
      ]
    },
    {
      "cell_type": "code",
      "execution_count": null,
      "id": "7824cd06",
      "metadata": {
        "id": "7824cd06",
        "outputId": "59699cdc-0bcd-4ea8-c75f-6aae667bd734"
      },
      "outputs": [
        {
          "data": {
            "text/plain": [
              "array([1, 2, 3, 4])"
            ]
          },
          "execution_count": 14,
          "metadata": {},
          "output_type": "execute_result"
        }
      ],
      "source": [
        "np.min(a,axis=0)"
      ]
    },
    {
      "cell_type": "code",
      "execution_count": null,
      "id": "4a3136b7",
      "metadata": {
        "id": "4a3136b7",
        "outputId": "7fa994c4-299f-41b2-ea65-09c042e33785"
      },
      "outputs": [
        {
          "data": {
            "text/plain": [
              "array([1, 5, 9])"
            ]
          },
          "execution_count": 15,
          "metadata": {},
          "output_type": "execute_result"
        }
      ],
      "source": [
        "np.min(a,axis=1)"
      ]
    },
    {
      "cell_type": "code",
      "execution_count": null,
      "id": "212eb0bb",
      "metadata": {
        "id": "212eb0bb",
        "outputId": "17f0ccf2-c3ab-4800-f81f-5d05310a48e3"
      },
      "outputs": [
        {
          "data": {
            "text/plain": [
              "1"
            ]
          },
          "execution_count": 16,
          "metadata": {},
          "output_type": "execute_result"
        }
      ],
      "source": [
        "# calculating min values\n",
        "np.min(a)"
      ]
    },
    {
      "cell_type": "code",
      "execution_count": null,
      "id": "b4774f56",
      "metadata": {
        "id": "b4774f56",
        "outputId": "e996d375-1348-43b4-c3e4-d617f2d2c0e6"
      },
      "outputs": [
        {
          "data": {
            "text/plain": [
              "1"
            ]
          },
          "execution_count": 17,
          "metadata": {},
          "output_type": "execute_result"
        }
      ],
      "source": [
        "np.min(a[0])"
      ]
    },
    {
      "cell_type": "code",
      "execution_count": null,
      "id": "8a0d7af0",
      "metadata": {
        "id": "8a0d7af0",
        "outputId": "92b5e745-b23d-45c9-b4fd-cc6d9317ed12"
      },
      "outputs": [
        {
          "data": {
            "text/plain": [
              "6.5"
            ]
          },
          "execution_count": 19,
          "metadata": {},
          "output_type": "execute_result"
        }
      ],
      "source": [
        "np.mean(a)"
      ]
    },
    {
      "cell_type": "code",
      "execution_count": null,
      "id": "6158d2ca",
      "metadata": {
        "id": "6158d2ca",
        "outputId": "bf283ea1-5f11-424e-def6-5959163b3d54"
      },
      "outputs": [
        {
          "data": {
            "text/plain": [
              "True"
            ]
          },
          "execution_count": 20,
          "metadata": {},
          "output_type": "execute_result"
        }
      ],
      "source": [
        "# np.any tries to find out for atleast one non zero value in the array\n",
        "a=np.array([True,False,True])\n",
        "np.any(a)"
      ]
    },
    {
      "cell_type": "code",
      "execution_count": null,
      "id": "1ee67da2",
      "metadata": {
        "id": "1ee67da2",
        "outputId": "804aa976-eb39-461b-e6bf-688cd71e5207"
      },
      "outputs": [
        {
          "data": {
            "text/plain": [
              "False"
            ]
          },
          "execution_count": 22,
          "metadata": {},
          "output_type": "execute_result"
        }
      ],
      "source": [
        "b=np.zeros(10)\n",
        "np.any(b)"
      ]
    },
    {
      "cell_type": "code",
      "execution_count": null,
      "id": "81807b21",
      "metadata": {
        "id": "81807b21",
        "outputId": "8e42a09a-a1e3-4f91-ca3f-96e382cc942f"
      },
      "outputs": [
        {
          "data": {
            "text/plain": [
              "array([False, False,  True,  True])"
            ]
          },
          "execution_count": 24,
          "metadata": {},
          "output_type": "execute_result"
        }
      ],
      "source": [
        "m=np.array([4,3,2,1])\n",
        "n=np.array([1,2,3,4])\n",
        "mask=m<n\n",
        "mask"
      ]
    },
    {
      "cell_type": "code",
      "execution_count": null,
      "id": "0f32fceb",
      "metadata": {
        "id": "0f32fceb",
        "outputId": "01494bce-7f85-40a3-b947-3090a5e9d2ca"
      },
      "outputs": [
        {
          "data": {
            "text/plain": [
              "True"
            ]
          },
          "execution_count": 25,
          "metadata": {},
          "output_type": "execute_result"
        }
      ],
      "source": [
        "# passing conditions inside np.any to look for atleast 1 non zero value.\n",
        "np.any(m<n)"
      ]
    },
    {
      "cell_type": "code",
      "execution_count": null,
      "id": "709cf5dc",
      "metadata": {
        "colab": {
          "base_uri": "https://localhost:8080/"
        },
        "id": "709cf5dc",
        "outputId": "c149418f-5313-47d8-8e5e-1ea61897b72f"
      },
      "outputs": [
        {
          "output_type": "stream",
          "name": "stdout",
          "text": [
            "[ True False False False]\n",
            "[ True False False False]\n",
            "[4]\n"
          ]
        }
      ],
      "source": [
        "m=np.array([4,3,2,1])\n",
        "n=np.array([4,2,3,4])\n",
        "print(m==n)\n",
        "np.any(m==n)\n",
        "mask=m==n\n",
        "print(mask)\n",
        "print(m[mask])"
      ]
    },
    {
      "cell_type": "code",
      "execution_count": null,
      "id": "de303490",
      "metadata": {
        "id": "de303490",
        "outputId": "571d6464-9214-44be-ac8a-fc7ff9099401"
      },
      "outputs": [
        {
          "name": "stdout",
          "output_type": "stream",
          "text": [
            "[[ 1  2  3  4]\n",
            " [ 5  6  7  8]\n",
            " [ 9 10 11 12]]\n",
            "[[ 2  3  4  5]\n",
            " [ 6  7  8  9]\n",
            " [10 11 12 13]]\n"
          ]
        }
      ],
      "source": [
        "g=np.arange(1,13).reshape((3,4))\n",
        "h=np.arange(2,14).reshape((3,4))\n",
        "print(g)\n",
        "print(h)"
      ]
    },
    {
      "cell_type": "code",
      "execution_count": null,
      "id": "009cc66a",
      "metadata": {
        "id": "009cc66a",
        "outputId": "3ad3d00c-e77a-4cb5-d40f-4d3e1821af95"
      },
      "outputs": [
        {
          "data": {
            "text/plain": [
              "False"
            ]
          },
          "execution_count": 29,
          "metadata": {},
          "output_type": "execute_result"
        }
      ],
      "source": [
        "np.any(h<g)"
      ]
    },
    {
      "cell_type": "code",
      "execution_count": null,
      "id": "d95255e9",
      "metadata": {
        "id": "d95255e9",
        "outputId": "612c0cd4-dbdc-42cb-9a47-dbe488f3cad1"
      },
      "outputs": [
        {
          "data": {
            "text/plain": [
              "True"
            ]
          },
          "execution_count": 31,
          "metadata": {},
          "output_type": "execute_result"
        }
      ],
      "source": [
        "np.any(h<10)"
      ]
    },
    {
      "cell_type": "code",
      "execution_count": null,
      "id": "ef883781",
      "metadata": {
        "id": "ef883781",
        "outputId": "454a3ffd-7df0-45e4-9575-1bc491a40855"
      },
      "outputs": [
        {
          "data": {
            "text/plain": [
              "array([[ True,  True,  True,  True],\n",
              "       [ True,  True,  True,  True],\n",
              "       [False, False, False, False]])"
            ]
          },
          "execution_count": 32,
          "metadata": {},
          "output_type": "execute_result"
        }
      ],
      "source": [
        "h<10"
      ]
    },
    {
      "cell_type": "code",
      "execution_count": null,
      "id": "38f25974",
      "metadata": {
        "id": "38f25974",
        "outputId": "e6eb54d3-0f4e-40f2-b029-9f759f3da7db"
      },
      "outputs": [
        {
          "data": {
            "text/plain": [
              "False"
            ]
          },
          "execution_count": 33,
          "metadata": {},
          "output_type": "execute_result"
        }
      ],
      "source": [
        "a=np.array([True,False,True])\n",
        "# no.all returns true if all the values are non zero\n",
        "# returns False if all the values atleast value is zero\n",
        "np.all(a)"
      ]
    },
    {
      "cell_type": "code",
      "execution_count": null,
      "id": "ee1d051f",
      "metadata": {
        "id": "ee1d051f",
        "outputId": "6a7bfe1f-cda2-45a0-fcb3-7db9732ab744"
      },
      "outputs": [
        {
          "name": "stdout",
          "output_type": "stream",
          "text": [
            "[[ 1  2  3  4]\n",
            " [ 5  6  7  8]\n",
            " [ 9 10 11 12]]\n",
            "[[ 2  3  4  5]\n",
            " [ 6  7  8  9]\n",
            " [10 11 12 13]]\n"
          ]
        },
        {
          "data": {
            "text/plain": [
              "True"
            ]
          },
          "execution_count": 34,
          "metadata": {},
          "output_type": "execute_result"
        }
      ],
      "source": [
        "g=np.arange(1,13).reshape((3,4))\n",
        "h=np.arange(2,14).reshape((3,4))\n",
        "print(g)\n",
        "print(h)\n",
        "np.all(g<h)"
      ]
    },
    {
      "cell_type": "code",
      "execution_count": null,
      "id": "ae316e21",
      "metadata": {
        "id": "ae316e21",
        "outputId": "ae5b6930-499f-4ffa-fb0b-4e1247b8e414"
      },
      "outputs": [
        {
          "name": "stdout",
          "output_type": "stream",
          "text": [
            "True\n"
          ]
        }
      ],
      "source": [
        "a=np.array([[1, 2, 3],\n",
        " [4, 5, 6],\n",
        " [7, 8, 9]])\n",
        "\n",
        "b=np.array([[1, 2, 3],\n",
        " [4, 5, 6],\n",
        " [7, 8, 9]])\n",
        "\n",
        "print(np.all(a==b))"
      ]
    },
    {
      "cell_type": "code",
      "execution_count": null,
      "id": "1803515c",
      "metadata": {
        "id": "1803515c",
        "outputId": "c526f091-a304-4cc5-d933-185e3d5356c5"
      },
      "outputs": [
        {
          "name": "stdout",
          "output_type": "stream",
          "text": [
            "True\n"
          ]
        }
      ],
      "source": [
        "a=np.array([[1, 2, 3],\n",
        " [4, 6, 6],\n",
        " [7, 8, 9]])\n",
        "\n",
        "b=np.array([[1, 2, 3],\n",
        " [4, 5, 6],\n",
        " [7, 8, 9]])\n",
        "\n",
        "print(np.any(a>b))"
      ]
    },
    {
      "cell_type": "code",
      "execution_count": null,
      "id": "49a7b10a",
      "metadata": {
        "id": "49a7b10a",
        "outputId": "dbb9fa32-e1f6-4d4c-cdcd-8cfc5db15bea"
      },
      "outputs": [
        {
          "data": {
            "text/plain": [
              "True"
            ]
          },
          "execution_count": 38,
          "metadata": {},
          "output_type": "execute_result"
        }
      ],
      "source": [
        "np.any(a==b)"
      ]
    },
    {
      "cell_type": "code",
      "execution_count": null,
      "id": "cd6889dd",
      "metadata": {
        "id": "cd6889dd",
        "outputId": "27746182-ff24-4a34-a52d-7ff4d5a43872"
      },
      "outputs": [
        {
          "data": {
            "text/plain": [
              "array([False, False, False])"
            ]
          },
          "execution_count": 39,
          "metadata": {},
          "output_type": "execute_result"
        }
      ],
      "source": [
        "a = np.array([0,2,3]) \n",
        "b = np.array([1,3,5])  \n",
        "# What'll be the output of a >= b?\n",
        "a >= b"
      ]
    },
    {
      "cell_type": "code",
      "execution_count": null,
      "id": "a2be9629",
      "metadata": {
        "id": "a2be9629",
        "outputId": "b1363b54-048f-4d08-fe38-221305d9d147"
      },
      "outputs": [
        {
          "data": {
            "text/plain": [
              "True"
            ]
          },
          "execution_count": 40,
          "metadata": {},
          "output_type": "execute_result"
        }
      ],
      "source": [
        "m=np.array([4,3,2,1])\n",
        "n=np.array([4,2,3,4])\n",
        "k=np.array([1,1,1,1])\n",
        "np.any((m<n)|(n>k))"
      ]
    },
    {
      "cell_type": "code",
      "execution_count": null,
      "id": "0ec59cce",
      "metadata": {
        "id": "0ec59cce",
        "outputId": "5673d041-e1ec-4b0a-da47-13ed7c39697a"
      },
      "outputs": [
        {
          "data": {
            "text/plain": [
              "True"
            ]
          },
          "execution_count": 45,
          "metadata": {},
          "output_type": "execute_result"
        }
      ],
      "source": [
        "np.all((m<n)|(n>k))"
      ]
    },
    {
      "cell_type": "code",
      "execution_count": null,
      "id": "6d4a3ef6",
      "metadata": {
        "id": "6d4a3ef6",
        "outputId": "7c2fe29c-d944-4305-dc9a-6ec1c82b2f57"
      },
      "outputs": [
        {
          "data": {
            "text/plain": [
              "array([False, False,  True,  True])"
            ]
          },
          "execution_count": 42,
          "metadata": {},
          "output_type": "execute_result"
        }
      ],
      "source": [
        "(m<n)"
      ]
    },
    {
      "cell_type": "code",
      "execution_count": null,
      "id": "51a0c57b",
      "metadata": {
        "id": "51a0c57b",
        "outputId": "241713d1-0e3f-41e4-d02e-19cb3add1396"
      },
      "outputs": [
        {
          "data": {
            "text/plain": [
              "array([ True,  True,  True,  True])"
            ]
          },
          "execution_count": 43,
          "metadata": {},
          "output_type": "execute_result"
        }
      ],
      "source": [
        "(n>k)"
      ]
    },
    {
      "cell_type": "code",
      "execution_count": null,
      "id": "02879426",
      "metadata": {
        "id": "02879426"
      },
      "outputs": [],
      "source": []
    },
    {
      "cell_type": "code",
      "execution_count": null,
      "id": "ac6bbf58",
      "metadata": {
        "id": "ac6bbf58"
      },
      "outputs": [],
      "source": []
    },
    {
      "cell_type": "code",
      "execution_count": null,
      "id": "43adc8eb",
      "metadata": {
        "id": "43adc8eb"
      },
      "outputs": [],
      "source": [
        "# Sorting\n"
      ]
    },
    {
      "cell_type": "code",
      "execution_count": null,
      "id": "ba88717e",
      "metadata": {
        "id": "ba88717e",
        "outputId": "7b3fd01b-a7a1-44aa-e75b-95bc172e34d2"
      },
      "outputs": [
        {
          "data": {
            "text/plain": [
              "array([ 1,  7, 17, 21, 30, 41, 52])"
            ]
          },
          "execution_count": 51,
          "metadata": {},
          "output_type": "execute_result"
        }
      ],
      "source": [
        "l=np.array([21,30,1,41,7,52,17])\n",
        "# sorting 1D array\n",
        "np.sort(l)"
      ]
    },
    {
      "cell_type": "code",
      "execution_count": null,
      "id": "e3e443ce",
      "metadata": {
        "id": "e3e443ce",
        "outputId": "415511f5-1f8c-47de-d035-ec5be477d706"
      },
      "outputs": [
        {
          "data": {
            "text/plain": [
              "array([2, 4, 6, 0, 1, 3, 5])"
            ]
          },
          "execution_count": 52,
          "metadata": {},
          "output_type": "execute_result"
        }
      ],
      "source": [
        "# argsort returns an array of the indexes of sorted elements in the original unsorted array\n",
        "np.argsort(l)"
      ]
    },
    {
      "cell_type": "code",
      "execution_count": null,
      "id": "7a86b647",
      "metadata": {
        "id": "7a86b647",
        "outputId": "359eced4-50aa-4efa-8aec-47984b446dc3"
      },
      "outputs": [
        {
          "data": {
            "text/plain": [
              "2"
            ]
          },
          "execution_count": 53,
          "metadata": {},
          "output_type": "execute_result"
        }
      ],
      "source": [
        "\n",
        "# returns the index of min value element in the array\n",
        "np.argmin(l)"
      ]
    },
    {
      "cell_type": "code",
      "execution_count": null,
      "id": "d86ba0f4",
      "metadata": {
        "id": "d86ba0f4",
        "outputId": "e1760b81-5aa3-4b82-b83b-e09713893ea3"
      },
      "outputs": [
        {
          "data": {
            "text/plain": [
              "5"
            ]
          },
          "execution_count": 54,
          "metadata": {},
          "output_type": "execute_result"
        }
      ],
      "source": [
        "# returns the index of max value element in the array\n",
        "np.argmax(l)"
      ]
    },
    {
      "cell_type": "code",
      "execution_count": null,
      "id": "34e72c86",
      "metadata": {
        "id": "34e72c86",
        "outputId": "4bcb7c72-b190-4c27-d42d-9513c46d56a6"
      },
      "outputs": [
        {
          "name": "stdout",
          "output_type": "stream",
          "text": [
            "[[ 32  80  12]\n",
            " [  3   6   9]\n",
            " [ 98  75 110]]\n"
          ]
        }
      ],
      "source": [
        "j=np.array([[32,80,12],[3,6,9],[98,75,110]])\n",
        "print(j)\n"
      ]
    },
    {
      "cell_type": "code",
      "execution_count": null,
      "id": "3dc2ecef",
      "metadata": {
        "id": "3dc2ecef",
        "outputId": "5d078d6b-3d3b-4283-8559-408f66a69ce4"
      },
      "outputs": [
        {
          "data": {
            "text/plain": [
              "array([[  3,   6,   9],\n",
              "       [ 32,  75,  12],\n",
              "       [ 98,  80, 110]])"
            ]
          },
          "execution_count": 61,
          "metadata": {},
          "output_type": "execute_result"
        }
      ],
      "source": [
        "# we can sort on a chosen axis\n",
        "# axis=0 sorting will sort columns\n",
        "np.sort(j,axis=0)"
      ]
    },
    {
      "cell_type": "code",
      "execution_count": null,
      "id": "f0fa7eb1",
      "metadata": {
        "id": "f0fa7eb1",
        "outputId": "00970a11-0ef7-488d-fcf0-9594ef1b57b0"
      },
      "outputs": [
        {
          "data": {
            "text/plain": [
              "array([[ 12,  32,  80],\n",
              "       [  3,   6,   9],\n",
              "       [ 75,  98, 110]])"
            ]
          },
          "execution_count": 62,
          "metadata": {},
          "output_type": "execute_result"
        }
      ],
      "source": [
        "# axis=0 sorting will sort rows\n",
        "np.sort(j,axis=1)"
      ]
    },
    {
      "cell_type": "code",
      "execution_count": null,
      "id": "9e9d7056",
      "metadata": {
        "id": "9e9d7056",
        "outputId": "bad0218e-52f6-4d84-906c-8f0e5fd549ad"
      },
      "outputs": [
        {
          "data": {
            "text/plain": [
              "array([[ 12,  32,  80],\n",
              "       [  3,   6,   9],\n",
              "       [ 75,  98, 110]])"
            ]
          },
          "execution_count": 63,
          "metadata": {},
          "output_type": "execute_result"
        }
      ],
      "source": [
        "np.sort(j)"
      ]
    },
    {
      "cell_type": "code",
      "execution_count": null,
      "id": "6848e5cc",
      "metadata": {
        "id": "6848e5cc",
        "outputId": "2a33aa67-b442-47bb-d64c-98ab16dbbd0e"
      },
      "outputs": [
        {
          "name": "stdout",
          "output_type": "stream",
          "text": [
            "Downloading...\n",
            "From: https://drive.google.com/uc?id=1kXqcJo4YzmwF1G2BPoA17CI49TZVHANF\n",
            "To: /Users/nikhilsanghi/Downloads/dsml-course-main-live/June_Intermediate/fitness.txt\n",
            "100%|██████████████████████████████████████| 3.14k/3.14k [00:00<00:00, 3.65MB/s]\n"
          ]
        }
      ],
      "source": [
        "# downloading the dataset\n",
        "!gdown 1kXqcJo4YzmwF1G2BPoA17CI49TZVHANF"
      ]
    },
    {
      "cell_type": "code",
      "execution_count": null,
      "id": "29435298",
      "metadata": {
        "id": "29435298"
      },
      "outputs": [],
      "source": [
        "data=np.loadtxt(\"/Users/nikhilsanghi/Downloads/dsml-course-main-live/June_Intermediate/fitness.txt\",dtype=\"str\")"
      ]
    },
    {
      "cell_type": "code",
      "source": [
        "date,step_count,mood,calories_burned,hours_of_sleep,bool_active,weight=data\n",
        "find out the max calorie he burned\n",
        "find out the day where he burned max/low calories\n",
        "find out the day where he has max/min step count\n",
        "find out the day where he has max/min hours_of_sleep,weight\n",
        "find out no of days where he is active\n",
        "find out in which day he is burning more calories\n",
        "find out if he is happy/sad (his mood)when he is burning more calories\n",
        "find out if his step count is more is he sleeping more on that day\n",
        "find out if his mood is happy if he is sleeping more on that day\n",
        "find out if his weight is more he is burning more calories\n",
        "sort the date according to his step count/calories_burned\n",
        "sort the data according to specific calories burned column\n",
        "find out the days where his weight is max/min\n",
        "find out the mean calorie burned and mean calories is more closest on which day\n",
        "find out the mean step count and mean step count is more closest on which day"
      ],
      "metadata": {
        "id": "6-2u8Oyl0zbG"
      },
      "id": "6-2u8Oyl0zbG",
      "execution_count": null,
      "outputs": []
    },
    {
      "cell_type": "code",
      "source": [
        "ls"
      ],
      "metadata": {
        "colab": {
          "base_uri": "https://localhost:8080/"
        },
        "id": "sufLExzm8DUO",
        "outputId": "c1dd2e64-53d2-40ee-9e2d-8631f88e0452"
      },
      "id": "sufLExzm8DUO",
      "execution_count": null,
      "outputs": [
        {
          "output_type": "stream",
          "name": "stdout",
          "text": [
            "fitness.txt  \u001b[0m\u001b[01;34msample_data\u001b[0m/\n"
          ]
        }
      ]
    },
    {
      "cell_type": "code",
      "source": [
        "data=np.loadtxt(\"fitness.txt\",dtype=\"str\")"
      ],
      "metadata": {
        "id": "a8a7kCIf73ZR"
      },
      "id": "a8a7kCIf73ZR",
      "execution_count": null,
      "outputs": []
    },
    {
      "cell_type": "code",
      "source": [
        "ctrl+ /  -->comment/uncomment that line"
      ],
      "metadata": {
        "id": "Xp1yIjJJ79Mi"
      },
      "id": "Xp1yIjJJ79Mi",
      "execution_count": null,
      "outputs": []
    },
    {
      "cell_type": "code",
      "execution_count": null,
      "id": "76f34a09",
      "metadata": {
        "id": "76f34a09",
        "outputId": "d5a9c493-5240-41e4-b14a-004da7f11bcc"
      },
      "outputs": [
        {
          "data": {
            "text/plain": [
              "array([['06-10-2017', '5464', '200', '181', '5', '0', '66'],\n",
              "       ['07-10-2017', '6041', '100', '197', '8', '0', '66'],\n",
              "       ['08-10-2017', '25', '100', '0', '5', '0', '66'],\n",
              "       ['09-10-2017', '5461', '100', '174', '4', '0', '66'],\n",
              "       ['10-10-2017', '6915', '200', '223', '5', '500', '66'],\n",
              "       ['11-10-2017', '4545', '100', '149', '6', '0', '66'],\n",
              "       ['12-10-2017', '4340', '100', '140', '6', '0', '66'],\n",
              "       ['13-10-2017', '1230', '100', '38', '7', '0', '66'],\n",
              "       ['14-10-2017', '61', '100', '1', '5', '0', '66'],\n",
              "       ['15-10-2017', '1258', '100', '40', '6', '0', '65'],\n",
              "       ['16-10-2017', '3148', '100', '101', '8', '0', '65'],\n",
              "       ['17-10-2017', '4687', '100', '152', '5', '0', '65'],\n",
              "       ['18-10-2017', '4732', '300', '150', '6', '500', '65'],\n",
              "       ['19-10-2017', '3519', '100', '113', '7', '0', '65'],\n",
              "       ['20-10-2017', '1580', '100', '49', '5', '0', '65'],\n",
              "       ['21-10-2017', '2822', '100', '86', '6', '0', '65'],\n",
              "       ['22-10-2017', '181', '100', '6', '8', '0', '65'],\n",
              "       ['23-10-2017', '3158', '200', '99', '5', '0', '65'],\n",
              "       ['24-10-2017', '4383', '200', '143', '4', '0', '64'],\n",
              "       ['25-10-2017', '3881', '200', '125', '5', '0', '64'],\n",
              "       ['26-10-2017', '4037', '200', '129', '6', '0', '64'],\n",
              "       ['27-10-2017', '202', '200', '6', '8', '0', '64'],\n",
              "       ['28-10-2017', '292', '200', '9', '5', '0', '64'],\n",
              "       ['29-10-2017', '330', '300', '10', '6', '0', '64'],\n",
              "       ['30-10-2017', '2209', '200', '72', '5', '0', '64'],\n",
              "       ['31-10-2017', '4550', '300', '150', '8', '500', '64'],\n",
              "       ['01-11-2017', '4435', '300', '141', '5', '0', '64'],\n",
              "       ['02-11-2017', '4779', '300', '156', '4', '0', '64'],\n",
              "       ['03-11-2017', '1831', '300', '57', '5', '0', '64'],\n",
              "       ['04-11-2017', '2255', '300', '72', '4', '0', '64'],\n",
              "       ['05-11-2017', '539', '300', '17', '5', '500', '64'],\n",
              "       ['06-11-2017', '5464', '300', '181', '4', '0', '64'],\n",
              "       ['07-11-2017', '6041', '200', '197', '3', '0', '64'],\n",
              "       ['08-11-2017', '4068', '300', '131', '2', '0', '64'],\n",
              "       ['09-11-2017', '4683', '300', '154', '9', '0', '64'],\n",
              "       ['10-11-2017', '4033', '300', '137', '5', '0', '64'],\n",
              "       ['11-11-2017', '6314', '300', '193', '6', '500', '64'],\n",
              "       ['12-11-2017', '614', '300', '19', '4', '500', '64'],\n",
              "       ['13-11-2017', '3149', '300', '101', '5', '500', '64'],\n",
              "       ['14-11-2017', '4005', '300', '139', '8', '500', '64'],\n",
              "       ['15-11-2017', '4880', '300', '164', '4', '500', '64'],\n",
              "       ['16-11-2017', '4136', '300', '137', '5', '500', '64'],\n",
              "       ['17-11-2017', '705', '300', '22', '6', '500', '64'],\n",
              "       ['18-11-2017', '570', '200', '17', '5', '500', '64'],\n",
              "       ['19-11-2017', '269', '300', '9', '6', '500', '64'],\n",
              "       ['20-11-2017', '4275', '300', '145', '5', '0', '64'],\n",
              "       ['21-11-2017', '5999', '300', '192', '6', '0', '64'],\n",
              "       ['22-11-2017', '4421', '300', '146', '5', '0', '64'],\n",
              "       ['23-11-2017', '6930', '300', '234', '6', '0', '64'],\n",
              "       ['24-11-2017', '5195', '300', '167', '5', '0', '64'],\n",
              "       ['25-11-2017', '546', '300', '16', '6', '0', '64'],\n",
              "       ['26-11-2017', '493', '300', '17', '7', '500', '64'],\n",
              "       ['27-11-2017', '995', '300', '32', '6', '500', '64'],\n",
              "       ['28-11-2017', '1163', '200', '35', '7', '500', '64'],\n",
              "       ['29-11-2017', '6676', '100', '220', '6', '500', '64'],\n",
              "       ['30-11-2017', '3608', '300', '116', '5', '500', '64'],\n",
              "       ['01-12-2017', '774', '300', '23', '6', '500', '64'],\n",
              "       ['02-12-2017', '1421', '300', '44', '7', '500', '64'],\n",
              "       ['03-12-2017', '4064', '300', '131', '8', '500', '64'],\n",
              "       ['04-12-2017', '2725', '300', '86', '8', '500', '64'],\n",
              "       ['05-12-2017', '5934', '300', '194', '7', '500', '64'],\n",
              "       ['06-12-2017', '1867', '300', '60', '8', '500', '64'],\n",
              "       ['07-12-2017', '3721', '100', '121', '5', '500', '64'],\n",
              "       ['08-12-2017', '2374', '200', '76', '4', '0', '64'],\n",
              "       ['09-12-2017', '2909', '200', '93', '3', '500', '64'],\n",
              "       ['10-12-2017', '1648', '100', '53', '3', '500', '64'],\n",
              "       ['11-12-2017', '799', '100', '25', '4', '0', '64'],\n",
              "       ['12-12-2017', '7102', '200', '227', '5', '500', '64'],\n",
              "       ['13-12-2017', '3941', '200', '125', '5', '500', '64'],\n",
              "       ['14-12-2017', '7422', '300', '243', '5', '500', '64'],\n",
              "       ['15-12-2017', '437', '200', '14', '3', '500', '64'],\n",
              "       ['16-12-2017', '1231', '200', '39', '4', '500', '64'],\n",
              "       ['17-12-2017', '1696', '100', '55', '4', '0', '64'],\n",
              "       ['18-12-2017', '4921', '200', '158', '5', '500', '64'],\n",
              "       ['19-12-2017', '221', '100', '7', '5', '500', '64'],\n",
              "       ['20-12-2017', '6500', '200', '213', '5', '500', '64'],\n",
              "       ['21-12-2017', '3575', '200', '116', '5', '500', '64'],\n",
              "       ['22-12-2017', '4061', '100', '129', '5', '0', '64'],\n",
              "       ['23-12-2017', '651', '100', '21', '5', '0', '64'],\n",
              "       ['24-12-2017', '753', '100', '28', '4', '0', '64'],\n",
              "       ['25-12-2017', '518', '100', '16', '3', '0', '64'],\n",
              "       ['26-12-2017', '5537', '300', '180', '4', '500', '64'],\n",
              "       ['27-12-2017', '4108', '200', '138', '5', '500', '64'],\n",
              "       ['28-12-2017', '5376', '300', '176', '5', '500', '64'],\n",
              "       ['29-12-2017', '3066', '200', '99', '4', '500', '64'],\n",
              "       ['30-12-2017', '177', '100', '5', '5', '0', '64'],\n",
              "       ['31-12-2017', '36', '100', '1', '3', '0', '64'],\n",
              "       ['01-01-2018', '299', '100', '10', '3', '0', '64'],\n",
              "       ['02-01-2018', '1447', '200', '47', '3', '0', '64'],\n",
              "       ['03-01-2018', '2599', '200', '84', '2', '0', '64'],\n",
              "       ['04-01-2018', '702', '100', '23', '3', '0', '64'],\n",
              "       ['05-01-2018', '133', '100', '4', '2', '0', '64'],\n",
              "       ['06-01-2018', '153', '300', '0', '8', '0', '64'],\n",
              "       ['07-01-2018', '500', '200', '0', '5', '500', '64'],\n",
              "       ['08-01-2018', '2127', '200', '0', '5', '0', '64'],\n",
              "       ['09-01-2018', '2203', '300', '0', '5', '500', '64']], dtype='<U10')"
            ]
          },
          "execution_count": 66,
          "metadata": {},
          "output_type": "execute_result"
        }
      ],
      "source": [
        "data"
      ]
    },
    {
      "cell_type": "code",
      "execution_count": null,
      "id": "0a558667",
      "metadata": {
        "id": "0a558667",
        "outputId": "41b8be22-70d5-4250-d9ef-31251185ea0b"
      },
      "outputs": [
        {
          "data": {
            "text/plain": [
              "array(['06-10-2017', '07-10-2017', '08-10-2017', '09-10-2017',\n",
              "       '10-10-2017', '11-10-2017', '12-10-2017', '13-10-2017',\n",
              "       '14-10-2017', '15-10-2017', '16-10-2017', '17-10-2017',\n",
              "       '18-10-2017', '19-10-2017', '20-10-2017', '21-10-2017',\n",
              "       '22-10-2017', '23-10-2017', '24-10-2017', '25-10-2017',\n",
              "       '26-10-2017', '27-10-2017', '28-10-2017', '29-10-2017',\n",
              "       '30-10-2017', '31-10-2017', '01-11-2017', '02-11-2017',\n",
              "       '03-11-2017', '04-11-2017', '05-11-2017', '06-11-2017',\n",
              "       '07-11-2017', '08-11-2017', '09-11-2017', '10-11-2017',\n",
              "       '11-11-2017', '12-11-2017', '13-11-2017', '14-11-2017',\n",
              "       '15-11-2017', '16-11-2017', '17-11-2017', '18-11-2017',\n",
              "       '19-11-2017', '20-11-2017', '21-11-2017', '22-11-2017',\n",
              "       '23-11-2017', '24-11-2017', '25-11-2017', '26-11-2017',\n",
              "       '27-11-2017', '28-11-2017', '29-11-2017', '30-11-2017',\n",
              "       '01-12-2017', '02-12-2017', '03-12-2017', '04-12-2017',\n",
              "       '05-12-2017', '06-12-2017', '07-12-2017', '08-12-2017',\n",
              "       '09-12-2017', '10-12-2017', '11-12-2017', '12-12-2017',\n",
              "       '13-12-2017', '14-12-2017', '15-12-2017', '16-12-2017',\n",
              "       '17-12-2017', '18-12-2017', '19-12-2017', '20-12-2017',\n",
              "       '21-12-2017', '22-12-2017', '23-12-2017', '24-12-2017',\n",
              "       '25-12-2017', '26-12-2017', '27-12-2017', '28-12-2017',\n",
              "       '29-12-2017', '30-12-2017', '31-12-2017', '01-01-2018',\n",
              "       '02-01-2018', '03-01-2018', '04-01-2018', '05-01-2018',\n",
              "       '06-01-2018', '07-01-2018', '08-01-2018', '09-01-2018'],\n",
              "      dtype='<U10')"
            ]
          },
          "execution_count": 67,
          "metadata": {},
          "output_type": "execute_result"
        }
      ],
      "source": [
        "data[:,0]"
      ]
    },
    {
      "cell_type": "code",
      "execution_count": null,
      "id": "057c4075",
      "metadata": {
        "id": "057c4075",
        "outputId": "a844b9e4-7363-4740-c587-b85475b441b2"
      },
      "outputs": [
        {
          "ename": "NameError",
          "evalue": "name 'calories_burned' is not defined",
          "output_type": "error",
          "traceback": [
            "\u001b[0;31m---------------------------------------------------------------------------\u001b[0m",
            "\u001b[0;31mNameError\u001b[0m                                 Traceback (most recent call last)",
            "\u001b[0;32m/var/folders/hd/9z4dczb56dj54lb7q8w7s4zw0000gn/T/ipykernel_22371/1614041964.py\u001b[0m in \u001b[0;36m<module>\u001b[0;34m\u001b[0m\n\u001b[0;32m----> 1\u001b[0;31m \u001b[0mdate\u001b[0m\u001b[0;34m,\u001b[0m\u001b[0mstep_count\u001b[0m\u001b[0;34m,\u001b[0m\u001b[0mmood\u001b[0m\u001b[0;34m,\u001b[0m\u001b[0mcalories_burned\u001b[0m\u001b[0;34m,\u001b[0m\u001b[0mhours_of_sleep\u001b[0m\u001b[0;34m,\u001b[0m\u001b[0mbool_active\u001b[0m\u001b[0;34m,\u001b[0m\u001b[0mweight\u001b[0m\u001b[0;34m\u001b[0m\u001b[0;34m\u001b[0m\u001b[0m\n\u001b[0m",
            "\u001b[0;31mNameError\u001b[0m: name 'calories_burned' is not defined"
          ]
        }
      ],
      "source": [
        "# columns \n",
        "# date,step_count,mood,calories_burned,hours_of_sleep,bool_active,weight\n"
      ]
    },
    {
      "cell_type": "code",
      "execution_count": null,
      "id": "3f7ca578",
      "metadata": {
        "id": "3f7ca578"
      },
      "outputs": [],
      "source": [
        "# date=data[:,0]\n",
        "# data[:,1]\n",
        "\n",
        "#Taking a transpose of data to convert each feature into rows \n",
        "data=data.T"
      ]
    },
    {
      "cell_type": "code",
      "execution_count": null,
      "id": "c4e70387",
      "metadata": {
        "id": "c4e70387"
      },
      "outputs": [],
      "source": [
        "# unpacking the data\n",
        "\n",
        "date,step_count,mood,calories_burned,hours_of_sleep,bool_active,weight=data"
      ]
    },
    {
      "cell_type": "code",
      "execution_count": null,
      "id": "d7d53964",
      "metadata": {
        "id": "d7d53964",
        "outputId": "9770c0e3-b564-402d-c115-d7048000dc0c"
      },
      "outputs": [
        {
          "data": {
            "text/plain": [
              "array(['06-10-2017', '07-10-2017', '08-10-2017', '09-10-2017',\n",
              "       '10-10-2017', '11-10-2017', '12-10-2017', '13-10-2017',\n",
              "       '14-10-2017', '15-10-2017', '16-10-2017', '17-10-2017',\n",
              "       '18-10-2017', '19-10-2017', '20-10-2017', '21-10-2017',\n",
              "       '22-10-2017', '23-10-2017', '24-10-2017', '25-10-2017',\n",
              "       '26-10-2017', '27-10-2017', '28-10-2017', '29-10-2017',\n",
              "       '30-10-2017', '31-10-2017', '01-11-2017', '02-11-2017',\n",
              "       '03-11-2017', '04-11-2017', '05-11-2017', '06-11-2017',\n",
              "       '07-11-2017', '08-11-2017', '09-11-2017', '10-11-2017',\n",
              "       '11-11-2017', '12-11-2017', '13-11-2017', '14-11-2017',\n",
              "       '15-11-2017', '16-11-2017', '17-11-2017', '18-11-2017',\n",
              "       '19-11-2017', '20-11-2017', '21-11-2017', '22-11-2017',\n",
              "       '23-11-2017', '24-11-2017', '25-11-2017', '26-11-2017',\n",
              "       '27-11-2017', '28-11-2017', '29-11-2017', '30-11-2017',\n",
              "       '01-12-2017', '02-12-2017', '03-12-2017', '04-12-2017',\n",
              "       '05-12-2017', '06-12-2017', '07-12-2017', '08-12-2017',\n",
              "       '09-12-2017', '10-12-2017', '11-12-2017', '12-12-2017',\n",
              "       '13-12-2017', '14-12-2017', '15-12-2017', '16-12-2017',\n",
              "       '17-12-2017', '18-12-2017', '19-12-2017', '20-12-2017',\n",
              "       '21-12-2017', '22-12-2017', '23-12-2017', '24-12-2017',\n",
              "       '25-12-2017', '26-12-2017', '27-12-2017', '28-12-2017',\n",
              "       '29-12-2017', '30-12-2017', '31-12-2017', '01-01-2018',\n",
              "       '02-01-2018', '03-01-2018', '04-01-2018', '05-01-2018',\n",
              "       '06-01-2018', '07-01-2018', '08-01-2018', '09-01-2018'],\n",
              "      dtype='<U10')"
            ]
          },
          "execution_count": 95,
          "metadata": {},
          "output_type": "execute_result"
        }
      ],
      "source": [
        "date"
      ]
    },
    {
      "cell_type": "code",
      "execution_count": null,
      "id": "46f03ae8",
      "metadata": {
        "id": "46f03ae8",
        "outputId": "a93ac76a-1332-4b78-c3e6-5be4ed80ceea"
      },
      "outputs": [
        {
          "data": {
            "text/plain": [
              "array(['200', '100', '100', '100', '200', '100', '100', '100', '100',\n",
              "       '100', '100', '100', '300', '100', '100', '100', '100', '200',\n",
              "       '200', '200', '200', '200', '200', '300', '200', '300', '300',\n",
              "       '300', '300', '300', '300', '300', '200', '300', '300', '300',\n",
              "       '300', '300', '300', '300', '300', '300', '300', '200', '300',\n",
              "       '300', '300', '300', '300', '300', '300', '300', '300', '200',\n",
              "       '100', '300', '300', '300', '300', '300', '300', '300', '100',\n",
              "       '200', '200', '100', '100', '200', '200', '300', '200', '200',\n",
              "       '100', '200', '100', '200', '200', '100', '100', '100', '100',\n",
              "       '300', '200', '300', '200', '100', '100', '100', '200', '200',\n",
              "       '100', '100', '300', '200', '200', '300'], dtype='<U10')"
            ]
          },
          "execution_count": 96,
          "metadata": {},
          "output_type": "execute_result"
        }
      ],
      "source": [
        "mood"
      ]
    },
    {
      "cell_type": "code",
      "execution_count": null,
      "id": "87ef4ed7",
      "metadata": {
        "id": "87ef4ed7",
        "outputId": "6e25619a-0270-4e45-a69f-df6fe000d4d5"
      },
      "outputs": [
        {
          "data": {
            "text/plain": [
              "array(['5464', '6041', '25', '5461', '6915', '4545', '4340', '1230', '61',\n",
              "       '1258', '3148', '4687', '4732', '3519', '1580', '2822', '181',\n",
              "       '3158', '4383', '3881', '4037', '202', '292', '330', '2209',\n",
              "       '4550', '4435', '4779', '1831', '2255', '539', '5464', '6041',\n",
              "       '4068', '4683', '4033', '6314', '614', '3149', '4005', '4880',\n",
              "       '4136', '705', '570', '269', '4275', '5999', '4421', '6930',\n",
              "       '5195', '546', '493', '995', '1163', '6676', '3608', '774', '1421',\n",
              "       '4064', '2725', '5934', '1867', '3721', '2374', '2909', '1648',\n",
              "       '799', '7102', '3941', '7422', '437', '1231', '1696', '4921',\n",
              "       '221', '6500', '3575', '4061', '651', '753', '518', '5537', '4108',\n",
              "       '5376', '3066', '177', '36', '299', '1447', '2599', '702', '133',\n",
              "       '153', '500', '2127', '2203'], dtype='<U10')"
            ]
          },
          "execution_count": 97,
          "metadata": {},
          "output_type": "execute_result"
        }
      ],
      "source": [
        "step_count"
      ]
    },
    {
      "cell_type": "code",
      "execution_count": null,
      "id": "b76b4ff1",
      "metadata": {
        "id": "b76b4ff1",
        "outputId": "94abb695-a9e4-4221-c152-9ac698e3cf0f"
      },
      "outputs": [
        {
          "data": {
            "text/plain": [
              "array([5464, 6041,   25, 5461, 6915, 4545, 4340, 1230,   61, 1258, 3148,\n",
              "       4687, 4732, 3519, 1580, 2822,  181, 3158, 4383, 3881, 4037,  202,\n",
              "        292,  330, 2209, 4550, 4435, 4779, 1831, 2255,  539, 5464, 6041,\n",
              "       4068, 4683, 4033, 6314,  614, 3149, 4005, 4880, 4136,  705,  570,\n",
              "        269, 4275, 5999, 4421, 6930, 5195,  546,  493,  995, 1163, 6676,\n",
              "       3608,  774, 1421, 4064, 2725, 5934, 1867, 3721, 2374, 2909, 1648,\n",
              "        799, 7102, 3941, 7422,  437, 1231, 1696, 4921,  221, 6500, 3575,\n",
              "       4061,  651,  753,  518, 5537, 4108, 5376, 3066,  177,   36,  299,\n",
              "       1447, 2599,  702,  133,  153,  500, 2127, 2203])"
            ]
          },
          "execution_count": 98,
          "metadata": {},
          "output_type": "execute_result"
        }
      ],
      "source": [
        "# converting data type of columns to integer\n",
        "step_count=np.array(step_count,dtype=\"int\")\n",
        "step_count"
      ]
    },
    {
      "cell_type": "code",
      "execution_count": null,
      "id": "8a538b83",
      "metadata": {
        "id": "8a538b83",
        "outputId": "a5ed1788-7b92-4bf0-e62c-13ca2854a971"
      },
      "outputs": [
        {
          "data": {
            "text/plain": [
              "array([181, 197,   0, 174, 223, 149, 140,  38,   1,  40, 101, 152, 150,\n",
              "       113,  49,  86,   6,  99, 143, 125, 129,   6,   9,  10,  72, 150,\n",
              "       141, 156,  57,  72,  17, 181, 197, 131, 154, 137, 193,  19, 101,\n",
              "       139, 164, 137,  22,  17,   9, 145, 192, 146, 234, 167,  16,  17,\n",
              "        32,  35, 220, 116,  23,  44, 131,  86, 194,  60, 121,  76,  93,\n",
              "        53,  25, 227, 125, 243,  14,  39,  55, 158,   7, 213, 116, 129,\n",
              "        21,  28,  16, 180, 138, 176,  99,   5,   1,  10,  47,  84,  23,\n",
              "         4,   0,   0,   0,   0])"
            ]
          },
          "execution_count": 99,
          "metadata": {},
          "output_type": "execute_result"
        }
      ],
      "source": [
        "calories_burned=np.array(calories_burned,dtype=\"int\")\n",
        "calories_burned"
      ]
    },
    {
      "cell_type": "code",
      "execution_count": null,
      "id": "1654b650",
      "metadata": {
        "id": "1654b650",
        "outputId": "253efa26-7065-4b61-890c-c07c4cbb77f4"
      },
      "outputs": [
        {
          "data": {
            "text/plain": [
              "array([5, 8, 5, 4, 5, 6, 6, 7, 5, 6, 8, 5, 6, 7, 5, 6, 8, 5, 4, 5, 6, 8,\n",
              "       5, 6, 5, 8, 5, 4, 5, 4, 5, 4, 3, 2, 9, 5, 6, 4, 5, 8, 4, 5, 6, 5,\n",
              "       6, 5, 6, 5, 6, 5, 6, 7, 6, 7, 6, 5, 6, 7, 8, 8, 7, 8, 5, 4, 3, 3,\n",
              "       4, 5, 5, 5, 3, 4, 4, 5, 5, 5, 5, 5, 5, 4, 3, 4, 5, 5, 4, 5, 3, 3,\n",
              "       3, 2, 3, 2, 8, 5, 5, 5])"
            ]
          },
          "execution_count": 100,
          "metadata": {},
          "output_type": "execute_result"
        }
      ],
      "source": [
        "hours_of_sleep=np.array(hours_of_sleep,dtype=\"int\")\n",
        "hours_of_sleep"
      ]
    },
    {
      "cell_type": "code",
      "execution_count": null,
      "id": "e6b92ebe",
      "metadata": {
        "id": "e6b92ebe",
        "outputId": "d3393c06-a83f-4995-98b8-3b638b2235b3"
      },
      "outputs": [
        {
          "data": {
            "text/plain": [
              "array([66, 66, 66, 66, 66, 66, 66, 66, 66, 65, 65, 65, 65, 65, 65, 65, 65,\n",
              "       65, 64, 64, 64, 64, 64, 64, 64, 64, 64, 64, 64, 64, 64, 64, 64, 64,\n",
              "       64, 64, 64, 64, 64, 64, 64, 64, 64, 64, 64, 64, 64, 64, 64, 64, 64,\n",
              "       64, 64, 64, 64, 64, 64, 64, 64, 64, 64, 64, 64, 64, 64, 64, 64, 64,\n",
              "       64, 64, 64, 64, 64, 64, 64, 64, 64, 64, 64, 64, 64, 64, 64, 64, 64,\n",
              "       64, 64, 64, 64, 64, 64, 64, 64, 64, 64, 64])"
            ]
          },
          "execution_count": 101,
          "metadata": {},
          "output_type": "execute_result"
        }
      ],
      "source": [
        "weight=np.array(weight,dtype=\"int\")\n",
        "weight"
      ]
    },
    {
      "cell_type": "code",
      "execution_count": null,
      "id": "8a082867",
      "metadata": {
        "id": "8a082867",
        "outputId": "d2d6c2aa-be09-46bd-f32d-dbcea4100c30"
      },
      "outputs": [
        {
          "data": {
            "text/plain": [
              "array(['200', '100', '100', '100', '200', '100', '100', '100', '100',\n",
              "       '100', '100', '100', '300', '100', '100', '100', '100', '200',\n",
              "       '200', '200', '200', '200', '200', '300', '200', '300', '300',\n",
              "       '300', '300', '300', '300', '300', '200', '300', '300', '300',\n",
              "       '300', '300', '300', '300', '300', '300', '300', '200', '300',\n",
              "       '300', '300', '300', '300', '300', '300', '300', '300', '200',\n",
              "       '100', '300', '300', '300', '300', '300', '300', '300', '100',\n",
              "       '200', '200', '100', '100', '200', '200', '300', '200', '200',\n",
              "       '100', '200', '100', '200', '200', '100', '100', '100', '100',\n",
              "       '300', '200', '300', '200', '100', '100', '100', '200', '200',\n",
              "       '100', '100', '300', '200', '200', '300'], dtype='<U10')"
            ]
          },
          "execution_count": 102,
          "metadata": {},
          "output_type": "execute_result"
        }
      ],
      "source": [
        "mood"
      ]
    },
    {
      "cell_type": "code",
      "execution_count": null,
      "id": "4bc543c2",
      "metadata": {
        "id": "4bc543c2"
      },
      "outputs": [],
      "source": [
        "# Changing the categorical values to much more intuitive valuesa\n",
        "mood[mood == \"300\"] = \"Happy\""
      ]
    },
    {
      "cell_type": "code",
      "source": [],
      "metadata": {
        "id": "wPVifDrwLAeu"
      },
      "id": "wPVifDrwLAeu",
      "execution_count": null,
      "outputs": []
    },
    {
      "cell_type": "markdown",
      "id": "38d66f97",
      "metadata": {
        "id": "38d66f97"
      },
      "source": [
        "mood"
      ]
    },
    {
      "cell_type": "code",
      "execution_count": null,
      "id": "8fcd4bf8",
      "metadata": {
        "id": "8fcd4bf8",
        "outputId": "e46d90bb-d653-40de-88f2-426a9ac1a360"
      },
      "outputs": [
        {
          "data": {
            "text/plain": [
              "array(['200', '100', '100', '100', '200', '100', '100', '100', '100',\n",
              "       '100', '100', '100', 'Happy', '100', '100', '100', '100', '200',\n",
              "       '200', '200', '200', '200', '200', 'Happy', '200', 'Happy',\n",
              "       'Happy', 'Happy', 'Happy', 'Happy', 'Happy', 'Happy', '200',\n",
              "       'Happy', 'Happy', 'Happy', 'Happy', 'Happy', 'Happy', 'Happy',\n",
              "       'Happy', 'Happy', 'Happy', '200', 'Happy', 'Happy', 'Happy',\n",
              "       'Happy', 'Happy', 'Happy', 'Happy', 'Happy', 'Happy', '200', '100',\n",
              "       'Happy', 'Happy', 'Happy', 'Happy', 'Happy', 'Happy', 'Happy',\n",
              "       '100', '200', '200', '100', '100', '200', '200', 'Happy', '200',\n",
              "       '200', '100', '200', '100', '200', '200', '100', '100', '100',\n",
              "       '100', 'Happy', '200', 'Happy', '200', '100', '100', '100', '200',\n",
              "       '200', '100', '100', 'Happy', '200', '200', 'Happy'], dtype='<U10')"
            ]
          },
          "execution_count": 104,
          "metadata": {},
          "output_type": "execute_result"
        }
      ],
      "source": [
        "mood"
      ]
    },
    {
      "cell_type": "code",
      "execution_count": null,
      "id": "c58de43e",
      "metadata": {
        "id": "c58de43e"
      },
      "outputs": [],
      "source": [
        "mood[mood == \"100\"] = \"Sad\""
      ]
    },
    {
      "cell_type": "code",
      "execution_count": null,
      "id": "5deeff54",
      "metadata": {
        "id": "5deeff54"
      },
      "outputs": [],
      "source": [
        "mood[mood == \"200\"] = \"Neutral\""
      ]
    },
    {
      "cell_type": "code",
      "execution_count": null,
      "id": "9deaf0c4",
      "metadata": {
        "id": "9deaf0c4",
        "outputId": "8815847b-ad33-441b-a21d-1583f7b33385"
      },
      "outputs": [
        {
          "data": {
            "text/plain": [
              "array(['Neutral', 'Sad', 'Sad', 'Sad', 'Neutral', 'Sad', 'Sad', 'Sad',\n",
              "       'Sad', 'Sad', 'Sad', 'Sad', 'Happy', 'Sad', 'Sad', 'Sad', 'Sad',\n",
              "       'Neutral', 'Neutral', 'Neutral', 'Neutral', 'Neutral', 'Neutral',\n",
              "       'Happy', 'Neutral', 'Happy', 'Happy', 'Happy', 'Happy', 'Happy',\n",
              "       'Happy', 'Happy', 'Neutral', 'Happy', 'Happy', 'Happy', 'Happy',\n",
              "       'Happy', 'Happy', 'Happy', 'Happy', 'Happy', 'Happy', 'Neutral',\n",
              "       'Happy', 'Happy', 'Happy', 'Happy', 'Happy', 'Happy', 'Happy',\n",
              "       'Happy', 'Happy', 'Neutral', 'Sad', 'Happy', 'Happy', 'Happy',\n",
              "       'Happy', 'Happy', 'Happy', 'Happy', 'Sad', 'Neutral', 'Neutral',\n",
              "       'Sad', 'Sad', 'Neutral', 'Neutral', 'Happy', 'Neutral', 'Neutral',\n",
              "       'Sad', 'Neutral', 'Sad', 'Neutral', 'Neutral', 'Sad', 'Sad', 'Sad',\n",
              "       'Sad', 'Happy', 'Neutral', 'Happy', 'Neutral', 'Sad', 'Sad', 'Sad',\n",
              "       'Neutral', 'Neutral', 'Sad', 'Sad', 'Happy', 'Neutral', 'Neutral',\n",
              "       'Happy'], dtype='<U10')"
            ]
          },
          "execution_count": 107,
          "metadata": {},
          "output_type": "execute_result"
        }
      ],
      "source": [
        "mood"
      ]
    },
    {
      "cell_type": "code",
      "execution_count": null,
      "id": "d95d25c1",
      "metadata": {
        "id": "d95d25c1"
      },
      "outputs": [],
      "source": [
        "bool_active[bool_active == \"500\"] = \"Active\""
      ]
    },
    {
      "cell_type": "code",
      "execution_count": null,
      "id": "5f8ce008",
      "metadata": {
        "id": "5f8ce008"
      },
      "outputs": [],
      "source": [
        "bool_active[bool_active == \"0\"] = \"Inactive\""
      ]
    },
    {
      "cell_type": "code",
      "execution_count": null,
      "id": "2ebbfef3",
      "metadata": {
        "id": "2ebbfef3",
        "outputId": "44f5e105-8b4b-4a1e-a1bd-ad787a3843ad"
      },
      "outputs": [
        {
          "data": {
            "text/plain": [
              "array(['Inactive', 'Inactive', 'Inactive', 'Inactive', 'Active',\n",
              "       'Inactive', 'Inactive', 'Inactive', 'Inactive', 'Inactive',\n",
              "       'Inactive', 'Inactive', 'Active', 'Inactive', 'Inactive',\n",
              "       'Inactive', 'Inactive', 'Inactive', 'Inactive', 'Inactive',\n",
              "       'Inactive', 'Inactive', 'Inactive', 'Inactive', 'Inactive',\n",
              "       'Active', 'Inactive', 'Inactive', 'Inactive', 'Inactive', 'Active',\n",
              "       'Inactive', 'Inactive', 'Inactive', 'Inactive', 'Inactive',\n",
              "       'Active', 'Active', 'Active', 'Active', 'Active', 'Active',\n",
              "       'Active', 'Active', 'Active', 'Inactive', 'Inactive', 'Inactive',\n",
              "       'Inactive', 'Inactive', 'Inactive', 'Active', 'Active', 'Active',\n",
              "       'Active', 'Active', 'Active', 'Active', 'Active', 'Active',\n",
              "       'Active', 'Active', 'Active', 'Inactive', 'Active', 'Active',\n",
              "       'Inactive', 'Active', 'Active', 'Active', 'Active', 'Active',\n",
              "       'Inactive', 'Active', 'Active', 'Active', 'Active', 'Inactive',\n",
              "       'Inactive', 'Inactive', 'Inactive', 'Active', 'Active', 'Active',\n",
              "       'Active', 'Inactive', 'Inactive', 'Inactive', 'Inactive',\n",
              "       'Inactive', 'Inactive', 'Inactive', 'Inactive', 'Active',\n",
              "       'Inactive', 'Active'], dtype='<U10')"
            ]
          },
          "execution_count": 110,
          "metadata": {},
          "output_type": "execute_result"
        }
      ],
      "source": [
        "bool_active"
      ]
    },
    {
      "cell_type": "code",
      "execution_count": null,
      "id": "1c2fe621",
      "metadata": {
        "id": "1c2fe621",
        "outputId": "8b2664c1-7697-49b4-c998-411586988c98"
      },
      "outputs": [
        {
          "data": {
            "text/plain": [
              "dtype('<U10')"
            ]
          },
          "execution_count": 111,
          "metadata": {},
          "output_type": "execute_result"
        }
      ],
      "source": [
        "mood.dtype"
      ]
    },
    {
      "cell_type": "code",
      "execution_count": null,
      "id": "0e2aee86",
      "metadata": {
        "id": "0e2aee86",
        "outputId": "17d4072c-0803-4f56-e63d-b955a4dcdf21"
      },
      "outputs": [
        {
          "data": {
            "text/plain": [
              "2935.9375"
            ]
          },
          "execution_count": 112,
          "metadata": {},
          "output_type": "execute_result"
        }
      ],
      "source": [
        "# calculating the mean of steps that person took.\n",
        "np.mean(step_count)"
      ]
    },
    {
      "cell_type": "code",
      "execution_count": null,
      "id": "24e111e5",
      "metadata": {
        "id": "24e111e5",
        "outputId": "c49a2d6e-52f1-4fd9-a039-d93fb37dd0f7"
      },
      "outputs": [
        {
          "data": {
            "text/plain": [
              "'14-12-2017'"
            ]
          },
          "execution_count": 114,
          "metadata": {},
          "output_type": "execute_result"
        }
      ],
      "source": [
        "# trying to find out the date on which the person took maximum number of steps.\n",
        "date[np.argmax(step_count)]"
      ]
    },
    {
      "cell_type": "code",
      "execution_count": null,
      "id": "8a9606db",
      "metadata": {
        "id": "8a9606db",
        "outputId": "abf4bbdc-3dea-4b98-d969-5b6fc7357396"
      },
      "outputs": [
        {
          "data": {
            "text/plain": [
              "array(['14-12-2017'], dtype='<U10')"
            ]
          },
          "execution_count": 115,
          "metadata": {},
          "output_type": "execute_result"
        }
      ],
      "source": [
        "date[step_count==7422]"
      ]
    },
    {
      "cell_type": "code",
      "execution_count": null,
      "id": "35de864a",
      "metadata": {
        "id": "35de864a",
        "outputId": "52991b0b-a464-4f67-d31c-e1d80d79e939"
      },
      "outputs": [
        {
          "data": {
            "text/plain": [
              "'08-10-2017'"
            ]
          },
          "execution_count": 116,
          "metadata": {},
          "output_type": "execute_result"
        }
      ],
      "source": [
        "# trying to find out the date on which the person took minimum number of steps.\n",
        "date[np.argmin(step_count)]"
      ]
    },
    {
      "cell_type": "code",
      "execution_count": null,
      "id": "96264677",
      "metadata": {
        "id": "96264677",
        "outputId": "dade6358-3f96-4b1c-9fe0-a61f133289fe"
      },
      "outputs": [
        {
          "data": {
            "text/plain": [
              "243"
            ]
          },
          "execution_count": 117,
          "metadata": {},
          "output_type": "execute_result"
        }
      ],
      "source": [
        "# trying to find out the calories burned on a day on which the person took maximum number of steps.\n",
        "calories_burned[np.argmax(step_count)]"
      ]
    },
    {
      "cell_type": "code",
      "execution_count": null,
      "id": "60aed2d8",
      "metadata": {
        "id": "60aed2d8",
        "outputId": "934e8fff-9f5f-4c1f-d8c4-67a9a048b388"
      },
      "outputs": [
        {
          "data": {
            "text/plain": [
              "243"
            ]
          },
          "execution_count": 118,
          "metadata": {},
          "output_type": "execute_result"
        }
      ],
      "source": [
        "np.max(calories_burned)"
      ]
    },
    {
      "cell_type": "code",
      "execution_count": null,
      "id": "e1f467b0",
      "metadata": {
        "id": "e1f467b0",
        "outputId": "f2339028-6744-4993-8225-621eb31e08c4"
      },
      "outputs": [
        {
          "data": {
            "text/plain": [
              "array(['Neutral', 'Sad', 'Sad', 'Sad', 'Neutral', 'Sad', 'Sad', 'Sad',\n",
              "       'Sad', 'Sad', 'Sad', 'Sad', 'Happy', 'Sad', 'Sad', 'Sad', 'Sad',\n",
              "       'Neutral', 'Neutral', 'Neutral', 'Neutral', 'Neutral', 'Neutral',\n",
              "       'Happy', 'Neutral', 'Happy', 'Happy', 'Happy', 'Happy', 'Happy',\n",
              "       'Happy', 'Happy', 'Neutral', 'Happy', 'Happy', 'Happy', 'Happy',\n",
              "       'Happy', 'Happy', 'Happy', 'Happy', 'Happy', 'Happy', 'Neutral',\n",
              "       'Happy', 'Happy', 'Happy', 'Happy', 'Happy', 'Happy', 'Happy',\n",
              "       'Happy', 'Happy', 'Neutral', 'Sad', 'Happy', 'Happy', 'Happy',\n",
              "       'Happy', 'Happy', 'Happy', 'Happy', 'Sad', 'Neutral', 'Neutral',\n",
              "       'Sad', 'Sad', 'Neutral', 'Neutral', 'Happy', 'Neutral', 'Neutral',\n",
              "       'Sad', 'Neutral', 'Sad', 'Neutral', 'Neutral', 'Sad', 'Sad', 'Sad',\n",
              "       'Sad', 'Happy', 'Neutral', 'Happy', 'Neutral', 'Sad', 'Sad', 'Sad',\n",
              "       'Neutral', 'Neutral', 'Sad', 'Sad', 'Happy', 'Neutral', 'Neutral',\n",
              "       'Happy'], dtype='<U10')"
            ]
          },
          "execution_count": 119,
          "metadata": {},
          "output_type": "execute_result"
        }
      ],
      "source": [
        "mood"
      ]
    },
    {
      "cell_type": "code",
      "execution_count": null,
      "id": "27e60023",
      "metadata": {
        "id": "27e60023"
      },
      "outputs": [],
      "source": []
    },
    {
      "cell_type": "code",
      "execution_count": null,
      "id": "10d3088f",
      "metadata": {
        "id": "10d3088f",
        "outputId": "f055faf5-628a-4091-97ae-bebe8f6cf246"
      },
      "outputs": [
        {
          "data": {
            "text/plain": [
              "(40,)"
            ]
          },
          "execution_count": 121,
          "metadata": {},
          "output_type": "execute_result"
        }
      ],
      "source": [
        "mood[mood == \"Happy\"].shape"
      ]
    },
    {
      "cell_type": "code",
      "execution_count": null,
      "id": "d644b97e",
      "metadata": {
        "id": "d644b97e",
        "outputId": "445b822b-2191-4dc2-b094-bb79249cacf0"
      },
      "outputs": [
        {
          "data": {
            "text/plain": [
              "(29,)"
            ]
          },
          "execution_count": 122,
          "metadata": {},
          "output_type": "execute_result"
        }
      ],
      "source": [
        "mood[mood == \"Sad\"].shape"
      ]
    },
    {
      "cell_type": "code",
      "execution_count": null,
      "id": "2b166351",
      "metadata": {
        "id": "2b166351",
        "outputId": "c93e0409-cd4e-4806-9b0a-fbf2ba01e60f"
      },
      "outputs": [
        {
          "data": {
            "text/plain": [
              "(27,)"
            ]
          },
          "execution_count": 123,
          "metadata": {},
          "output_type": "execute_result"
        }
      ],
      "source": [
        "mood[mood == \"Neutral\"].shape"
      ]
    },
    {
      "cell_type": "code",
      "execution_count": null,
      "id": "d9ab4c0f",
      "metadata": {
        "id": "d9ab4c0f",
        "outputId": "128f0c6b-a075-48bc-d1f8-3e6fbf8f141b"
      },
      "outputs": [
        {
          "data": {
            "text/plain": [
              "array(['Happy', 'Neutral', 'Sad'], dtype='<U10')"
            ]
          },
          "execution_count": 124,
          "metadata": {},
          "output_type": "execute_result"
        }
      ],
      "source": [
        "np.unique(mood)"
      ]
    },
    {
      "cell_type": "code",
      "execution_count": null,
      "id": "7dae7e90",
      "metadata": {
        "id": "7dae7e90",
        "outputId": "d4b2187f-a958-4f38-d580-36bcd896c800"
      },
      "outputs": [
        {
          "data": {
            "text/plain": [
              "(array(['Happy', 'Neutral', 'Sad'], dtype='<U10'), array([40, 27, 29]))"
            ]
          },
          "execution_count": 131,
          "metadata": {},
          "output_type": "execute_result"
        }
      ],
      "source": [
        "# trying to find out the frequency of each unique values in the mood columns\n",
        "\n",
        "np.unique(mood,return_counts=True)"
      ]
    },
    {
      "cell_type": "code",
      "execution_count": null,
      "id": "af144a3a",
      "metadata": {
        "id": "af144a3a",
        "outputId": "fed18b28-0176-4fb5-d951-4f93bbc99375"
      },
      "outputs": [
        {
          "data": {
            "text/plain": [
              "(array(['Active', 'Inactive'], dtype='<U10'), array([42, 54]))"
            ]
          },
          "execution_count": 127,
          "metadata": {},
          "output_type": "execute_result"
        }
      ],
      "source": [
        "np.unique(bool_active,return_counts=True)"
      ]
    },
    {
      "cell_type": "code",
      "execution_count": null,
      "id": "302d2ea3",
      "metadata": {
        "id": "302d2ea3",
        "outputId": "fc8e90ef-d0bc-4d87-d7d1-6afadf2b1a29"
      },
      "outputs": [
        {
          "data": {
            "text/plain": [
              "3392.725"
            ]
          },
          "execution_count": 132,
          "metadata": {},
          "output_type": "execute_result"
        }
      ],
      "source": [
        "np.mean(step_count[mood==\"Happy\"])"
      ]
    },
    {
      "cell_type": "code",
      "execution_count": null,
      "id": "2e80b01e",
      "metadata": {
        "id": "2e80b01e",
        "outputId": "55102b2f-202c-46d3-8fd9-01f5969f6665"
      },
      "outputs": [
        {
          "data": {
            "text/plain": [
              "2103.0689655172414"
            ]
          },
          "execution_count": 133,
          "metadata": {},
          "output_type": "execute_result"
        }
      ],
      "source": [
        "np.mean(step_count[mood==\"Sad\"])"
      ]
    },
    {
      "cell_type": "code",
      "execution_count": null,
      "id": "5455c9ce",
      "metadata": {
        "id": "5455c9ce",
        "outputId": "86cda364-ddb2-4305-8ffb-ecf9b5e0ecbf"
      },
      "outputs": [
        {
          "data": {
            "text/plain": [
              "3153.777777777778"
            ]
          },
          "execution_count": 134,
          "metadata": {},
          "output_type": "execute_result"
        }
      ],
      "source": [
        "np.mean(step_count[mood==\"Neutral\"])"
      ]
    },
    {
      "cell_type": "code",
      "execution_count": null,
      "id": "9b5015d5",
      "metadata": {
        "id": "9b5015d5",
        "outputId": "3a2098d2-ddae-46f9-c832-6f18b5a9167a"
      },
      "outputs": [
        {
          "data": {
            "text/plain": [
              "(array(['Happy', 'Neutral', 'Sad'], dtype='<U10'), array([22,  9,  7]))"
            ]
          },
          "execution_count": 135,
          "metadata": {},
          "output_type": "execute_result"
        }
      ],
      "source": [
        "# calculating freq of mood where the number of steps taken is more than 4000\n",
        "np.unique(mood[step_count>4000],return_counts=True)"
      ]
    },
    {
      "cell_type": "code",
      "execution_count": null,
      "id": "1056b015",
      "metadata": {
        "id": "1056b015",
        "outputId": "1ad082d1-9aad-4ea4-86fa-bb46fe97cea0"
      },
      "outputs": [
        {
          "data": {
            "text/plain": [
              "(array(['Happy', 'Neutral', 'Sad'], dtype='<U10'), array([13,  8, 18]))"
            ]
          },
          "execution_count": 136,
          "metadata": {},
          "output_type": "execute_result"
        }
      ],
      "source": [
        "np.unique(mood[step_count<2000],return_counts=True)"
      ]
    },
    {
      "cell_type": "code",
      "execution_count": null,
      "id": "b215a632",
      "metadata": {
        "id": "b215a632"
      },
      "outputs": [],
      "source": []
    },
    {
      "cell_type": "code",
      "execution_count": null,
      "id": "195fb462",
      "metadata": {
        "id": "195fb462"
      },
      "outputs": [],
      "source": [
        "a = np.array([[23,4,43],\n",
        "              [12,89,3],\n",
        "              [69,420,0]])\n",
        "\n",
        "b = np.sort(a)"
      ]
    },
    {
      "cell_type": "code",
      "execution_count": null,
      "id": "f7945e6b",
      "metadata": {
        "id": "f7945e6b",
        "outputId": "f04b02f9-f13a-45c9-b81a-d60468a23804"
      },
      "outputs": [
        {
          "data": {
            "text/plain": [
              "array([[  4,  23,  43],\n",
              "       [  3,  12,  89],\n",
              "       [  0,  69, 420]])"
            ]
          },
          "execution_count": 138,
          "metadata": {},
          "output_type": "execute_result"
        }
      ],
      "source": [
        "b"
      ]
    },
    {
      "cell_type": "code",
      "execution_count": null,
      "id": "8c962956",
      "metadata": {
        "id": "8c962956",
        "outputId": "b8a1792e-898c-41f4-adf9-73feeecd8019"
      },
      "outputs": [
        {
          "name": "stdout",
          "output_type": "stream",
          "text": [
            "[7 8 9]\n"
          ]
        }
      ],
      "source": [
        "a=[[1 ,2 ,3],\n",
        "[4 ,5, 6],\n",
        "[7 ,8, 9]]\n",
        "print(np.max(a, axis=0))\n",
        "\n"
      ]
    },
    {
      "cell_type": "code",
      "execution_count": null,
      "id": "99be6aad",
      "metadata": {
        "id": "99be6aad",
        "outputId": "540de32b-43a9-4f28-b15c-0be3bd721d59"
      },
      "outputs": [
        {
          "data": {
            "text/plain": [
              "array([3, 5, 7])"
            ]
          },
          "execution_count": 141,
          "metadata": {},
          "output_type": "execute_result"
        }
      ],
      "source": [
        "a=np.array([1,2,3])\n",
        "b=np.array([2,3,4])\n",
        "a+b"
      ]
    },
    {
      "cell_type": "code",
      "execution_count": null,
      "id": "db5664ee",
      "metadata": {
        "id": "db5664ee",
        "outputId": "0a56fde6-ed7b-438a-91a7-8a1d4aded279"
      },
      "outputs": [
        {
          "data": {
            "text/plain": [
              "array([3, 5, 7])"
            ]
          },
          "execution_count": 142,
          "metadata": {},
          "output_type": "execute_result"
        }
      ],
      "source": [
        "np.add(a,b)"
      ]
    },
    {
      "cell_type": "code",
      "execution_count": null,
      "id": "01724b82",
      "metadata": {
        "id": "01724b82",
        "outputId": "3250200e-d777-4ed0-f3f2-13fa869d833b"
      },
      "outputs": [
        {
          "data": {
            "text/plain": [
              "array([[  2,   6,  12,  20],\n",
              "       [ 30,  42,  56,  72],\n",
              "       [ 90, 110, 132, 156]])"
            ]
          },
          "execution_count": 144,
          "metadata": {},
          "output_type": "execute_result"
        }
      ],
      "source": [
        "m=np.arange(1,13).reshape((3,4))\n",
        "n=np.arange(2,14).reshape((3,4))\n",
        "m*n"
      ]
    },
    {
      "cell_type": "code",
      "execution_count": null,
      "id": "2ead1fc4",
      "metadata": {
        "id": "2ead1fc4",
        "outputId": "fe43df59-304e-4c5a-bc4a-f54d94a0fc53"
      },
      "outputs": [
        {
          "ename": "ValueError",
          "evalue": "matmul: Input operand 1 has a mismatch in its core dimension 0, with gufunc signature (n?,k),(k,m?)->(n?,m?) (size 3 is different from 4)",
          "output_type": "error",
          "traceback": [
            "\u001b[0;31m---------------------------------------------------------------------------\u001b[0m",
            "\u001b[0;31mValueError\u001b[0m                                Traceback (most recent call last)",
            "\u001b[0;32m/var/folders/hd/9z4dczb56dj54lb7q8w7s4zw0000gn/T/ipykernel_22371/2617146941.py\u001b[0m in \u001b[0;36m<module>\u001b[0;34m\u001b[0m\n\u001b[0;32m----> 1\u001b[0;31m \u001b[0mnp\u001b[0m\u001b[0;34m.\u001b[0m\u001b[0mmatmul\u001b[0m\u001b[0;34m(\u001b[0m\u001b[0mm\u001b[0m\u001b[0;34m,\u001b[0m\u001b[0mn\u001b[0m\u001b[0;34m)\u001b[0m\u001b[0;34m\u001b[0m\u001b[0;34m\u001b[0m\u001b[0m\n\u001b[0m",
            "\u001b[0;31mValueError\u001b[0m: matmul: Input operand 1 has a mismatch in its core dimension 0, with gufunc signature (n?,k),(k,m?)->(n?,m?) (size 3 is different from 4)"
          ]
        }
      ],
      "source": [
        "# obtaining matrix multiplication result of 2 arrays\n",
        "# Method 1\n",
        "np.matmul(m,n)"
      ]
    },
    {
      "cell_type": "code",
      "execution_count": null,
      "id": "d34926d3",
      "metadata": {
        "id": "d34926d3",
        "outputId": "cba9937d-bf86-4834-ae08-c8de042815a7"
      },
      "outputs": [
        {
          "data": {
            "text/plain": [
              "array([[ 80,  90, 100],\n",
              "       [184, 210, 236],\n",
              "       [288, 330, 372]])"
            ]
          },
          "execution_count": 146,
          "metadata": {},
          "output_type": "execute_result"
        }
      ],
      "source": [
        "m=np.arange(1,13).reshape((3,4))\n",
        "n=np.arange(2,14).reshape((4,3))\n",
        "np.matmul(m,n)"
      ]
    },
    {
      "cell_type": "code",
      "execution_count": null,
      "id": "9572f0ff",
      "metadata": {
        "id": "9572f0ff",
        "outputId": "358bed3b-85e4-43d7-92b8-b20056247f16"
      },
      "outputs": [
        {
          "data": {
            "text/plain": [
              "array([[ 53,  62,  71,  80],\n",
              "       [ 98, 116, 134, 152],\n",
              "       [143, 170, 197, 224],\n",
              "       [188, 224, 260, 296]])"
            ]
          },
          "execution_count": 147,
          "metadata": {},
          "output_type": "execute_result"
        }
      ],
      "source": [
        "np.matmul(n,m)"
      ]
    },
    {
      "cell_type": "code",
      "execution_count": null,
      "id": "2e7441ae",
      "metadata": {
        "id": "2e7441ae",
        "outputId": "d3aead59-84c6-44b1-d070-4bf6972ac728"
      },
      "outputs": [
        {
          "data": {
            "text/plain": [
              "array([[ 53,  62,  71,  80],\n",
              "       [ 98, 116, 134, 152],\n",
              "       [143, 170, 197, 224],\n",
              "       [188, 224, 260, 296]])"
            ]
          },
          "execution_count": 148,
          "metadata": {},
          "output_type": "execute_result"
        }
      ],
      "source": [
        "# Method 2\n",
        "n@m"
      ]
    },
    {
      "cell_type": "code",
      "execution_count": null,
      "id": "aa5292f0",
      "metadata": {
        "id": "aa5292f0",
        "outputId": "baf46b89-892e-45bc-f2b7-59a3bfa843d2"
      },
      "outputs": [
        {
          "data": {
            "text/plain": [
              "array([[ 53,  62,  71,  80],\n",
              "       [ 98, 116, 134, 152],\n",
              "       [143, 170, 197, 224],\n",
              "       [188, 224, 260, 296]])"
            ]
          },
          "execution_count": 149,
          "metadata": {},
          "output_type": "execute_result"
        }
      ],
      "source": [
        "# Method 1\n",
        "# Better and preferred\n",
        "np.dot(n,m)"
      ]
    },
    {
      "cell_type": "code",
      "execution_count": null,
      "id": "644e6455",
      "metadata": {
        "id": "644e6455",
        "outputId": "c3af9ee6-d14c-4de6-a518-8745eb67662c"
      },
      "outputs": [
        {
          "data": {
            "text/plain": [
              "20"
            ]
          },
          "execution_count": 150,
          "metadata": {},
          "output_type": "execute_result"
        }
      ],
      "source": [
        "a=np.array([1,2,3])\n",
        "b=np.array([2,3,4])\n",
        "np.matmul(a,b)"
      ]
    },
    {
      "cell_type": "code",
      "execution_count": null,
      "id": "dd9d5c01",
      "metadata": {
        "id": "dd9d5c01",
        "outputId": "a9c08fd7-52ba-4380-df84-31c31f56d33e"
      },
      "outputs": [
        {
          "ename": "ValueError",
          "evalue": "matmul: Input operand 0 does not have enough dimensions (has 0, gufunc core with signature (n?,k),(k,m?)->(n?,m?) requires 1)",
          "output_type": "error",
          "traceback": [
            "\u001b[0;31m---------------------------------------------------------------------------\u001b[0m",
            "\u001b[0;31mValueError\u001b[0m                                Traceback (most recent call last)",
            "\u001b[0;32m/var/folders/hd/9z4dczb56dj54lb7q8w7s4zw0000gn/T/ipykernel_22371/4235031990.py\u001b[0m in \u001b[0;36m<module>\u001b[0;34m\u001b[0m\n\u001b[0;32m----> 1\u001b[0;31m \u001b[0mnp\u001b[0m\u001b[0;34m.\u001b[0m\u001b[0mmatmul\u001b[0m\u001b[0;34m(\u001b[0m\u001b[0;36m4\u001b[0m\u001b[0;34m,\u001b[0m\u001b[0;36m5\u001b[0m\u001b[0;34m)\u001b[0m\u001b[0;34m\u001b[0m\u001b[0;34m\u001b[0m\u001b[0m\n\u001b[0m",
            "\u001b[0;31mValueError\u001b[0m: matmul: Input operand 0 does not have enough dimensions (has 0, gufunc core with signature (n?,k),(k,m?)->(n?,m?) requires 1)"
          ]
        }
      ],
      "source": [
        "np.matmul(4,5)"
      ]
    },
    {
      "cell_type": "code",
      "execution_count": null,
      "id": "ad73b450",
      "metadata": {
        "id": "ad73b450",
        "outputId": "2094f319-ad0f-48a1-8e9d-d3276c82f4cf"
      },
      "outputs": [
        {
          "data": {
            "text/plain": [
              "20"
            ]
          },
          "execution_count": 152,
          "metadata": {},
          "output_type": "execute_result"
        }
      ],
      "source": [
        "np.dot(a,b)"
      ]
    },
    {
      "cell_type": "code",
      "execution_count": null,
      "id": "f893e07a",
      "metadata": {
        "id": "f893e07a",
        "outputId": "02a04b37-1d12-495e-e61e-782371fff211"
      },
      "outputs": [
        {
          "data": {
            "text/plain": [
              "6"
            ]
          },
          "execution_count": 154,
          "metadata": {},
          "output_type": "execute_result"
        }
      ],
      "source": [
        "np.dot(3,2)"
      ]
    },
    {
      "cell_type": "code",
      "execution_count": null,
      "id": "be1a81ed",
      "metadata": {
        "id": "be1a81ed",
        "outputId": "c668f8d9-745f-4d34-bf1d-e0b519edb92f"
      },
      "outputs": [
        {
          "data": {
            "text/plain": [
              "20"
            ]
          },
          "execution_count": 155,
          "metadata": {},
          "output_type": "execute_result"
        }
      ],
      "source": [
        "a@b"
      ]
    },
    {
      "cell_type": "code",
      "execution_count": null,
      "id": "d90178c6",
      "metadata": {
        "id": "d90178c6",
        "outputId": "fcb4f324-3977-4bd8-c3ae-5e43c85f368b"
      },
      "outputs": [
        {
          "ename": "TypeError",
          "evalue": "unsupported operand type(s) for @: 'int' and 'int'",
          "output_type": "error",
          "traceback": [
            "\u001b[0;31m---------------------------------------------------------------------------\u001b[0m",
            "\u001b[0;31mTypeError\u001b[0m                                 Traceback (most recent call last)",
            "\u001b[0;32m/var/folders/hd/9z4dczb56dj54lb7q8w7s4zw0000gn/T/ipykernel_22371/1092958690.py\u001b[0m in \u001b[0;36m<module>\u001b[0;34m\u001b[0m\n\u001b[0;32m----> 1\u001b[0;31m \u001b[0;36m4\u001b[0m\u001b[0;34m@\u001b[0m\u001b[0;36m5\u001b[0m\u001b[0;34m\u001b[0m\u001b[0;34m\u001b[0m\u001b[0m\n\u001b[0m",
            "\u001b[0;31mTypeError\u001b[0m: unsupported operand type(s) for @: 'int' and 'int'"
          ]
        }
      ],
      "source": [
        "4@5"
      ]
    },
    {
      "cell_type": "code",
      "execution_count": null,
      "id": "e9d16100",
      "metadata": {
        "id": "e9d16100",
        "outputId": "e8efa96f-505d-4db3-cd84-3f49e33f7fac"
      },
      "outputs": [
        {
          "data": {
            "text/plain": [
              "array([[1, 2, 3],\n",
              "       [4, 5, 6],\n",
              "       [7, 8, 9]])"
            ]
          },
          "execution_count": 157,
          "metadata": {},
          "output_type": "execute_result"
        }
      ],
      "source": [
        "m=np.arange(1,10).reshape((3,3))\n",
        "m"
      ]
    },
    {
      "cell_type": "code",
      "execution_count": null,
      "id": "31c91000",
      "metadata": {
        "id": "31c91000",
        "outputId": "b3edf19d-2e1e-4b85-fc01-5b0249bd524f"
      },
      "outputs": [
        {
          "data": {
            "text/plain": [
              "(3,)"
            ]
          },
          "execution_count": 159,
          "metadata": {},
          "output_type": "execute_result"
        }
      ],
      "source": [
        "a=np.array([1,2,3])\n",
        "a.shape"
      ]
    },
    {
      "cell_type": "code",
      "execution_count": null,
      "id": "0357bdf9",
      "metadata": {
        "id": "0357bdf9",
        "outputId": "883ec6ff-7483-49b6-f4d9-66fe6c075559"
      },
      "outputs": [
        {
          "data": {
            "text/plain": [
              "array([[ 1,  4,  9],\n",
              "       [ 4, 10, 18],\n",
              "       [ 7, 16, 27]])"
            ]
          },
          "execution_count": 160,
          "metadata": {},
          "output_type": "execute_result"
        }
      ],
      "source": [
        "m*a"
      ]
    },
    {
      "cell_type": "code",
      "execution_count": null,
      "id": "d1e7da9c",
      "metadata": {
        "id": "d1e7da9c",
        "outputId": "cb10b8f0-b1de-4d7d-b982-6658f84c8fd4"
      },
      "outputs": [
        {
          "data": {
            "text/plain": [
              "array([14, 32, 50])"
            ]
          },
          "execution_count": 161,
          "metadata": {},
          "output_type": "execute_result"
        }
      ],
      "source": [
        "np.matmul(m,a)"
      ]
    },
    {
      "cell_type": "code",
      "execution_count": null,
      "id": "d8eb3f6f",
      "metadata": {
        "id": "d8eb3f6f",
        "outputId": "697a1bc5-08cd-46aa-9738-ea066288dbf6"
      },
      "outputs": [
        {
          "data": {
            "text/plain": [
              "array([30, 36, 42])"
            ]
          },
          "execution_count": 162,
          "metadata": {},
          "output_type": "execute_result"
        }
      ],
      "source": [
        "np.matmul(a,m)"
      ]
    },
    {
      "cell_type": "code",
      "execution_count": null,
      "id": "f6be285b",
      "metadata": {
        "id": "f6be285b",
        "outputId": "7bfe1c6e-93e7-45a7-802b-c5b52a4cd4a0"
      },
      "outputs": [
        {
          "data": {
            "text/plain": [
              "array([14, 32, 50])"
            ]
          },
          "execution_count": 163,
          "metadata": {},
          "output_type": "execute_result"
        }
      ],
      "source": [
        "np.dot(m,a)"
      ]
    },
    {
      "cell_type": "code",
      "execution_count": null,
      "id": "cf7bfb14",
      "metadata": {
        "id": "cf7bfb14",
        "outputId": "e1d99672-8312-4df5-dbb5-59a6f0805235"
      },
      "outputs": [
        {
          "data": {
            "text/plain": [
              "array([30, 36, 42])"
            ]
          },
          "execution_count": 164,
          "metadata": {},
          "output_type": "execute_result"
        }
      ],
      "source": [
        "np.dot(a,m)"
      ]
    },
    {
      "cell_type": "code",
      "execution_count": null,
      "id": "47cada13",
      "metadata": {
        "id": "47cada13",
        "outputId": "93e1cc4e-9fed-4f21-a6b3-1a90897d50bc"
      },
      "outputs": [
        {
          "name": "stdout",
          "output_type": "stream",
          "text": [
            "[ 1 10 21 35 72]\n"
          ]
        }
      ],
      "source": [
        "a = np.array([1,2,3,5,8])\n",
        "b = np.array([0,3,4,2,1])\n",
        "c = a + b\n",
        "\n",
        "c = c*a\n",
        "print(c)\n",
        "# print (c[2])"
      ]
    },
    {
      "cell_type": "code",
      "execution_count": null,
      "id": "f33b35de",
      "metadata": {
        "id": "f33b35de",
        "outputId": "7a60d646-589a-4918-e0c8-388e4911d07a"
      },
      "outputs": [
        {
          "name": "stdout",
          "output_type": "stream",
          "text": [
            "[1 2 3 5 8]\n"
          ]
        }
      ],
      "source": [
        "import math\n",
        "a = np.array([1,2,3,5,8])\n",
        "print(a)\n"
      ]
    },
    {
      "cell_type": "code",
      "execution_count": null,
      "id": "6c753c3f",
      "metadata": {
        "id": "6c753c3f",
        "outputId": "c50c3bbd-39d3-4886-b3bc-b1b6a6c0c082"
      },
      "outputs": [
        {
          "data": {
            "text/plain": [
              "array([0.        , 0.69314718, 1.09861229, 1.60943791, 2.07944154])"
            ]
          },
          "execution_count": 170,
          "metadata": {},
          "output_type": "execute_result"
        }
      ],
      "source": [
        "# we can vercotize any function on work on each element of numpy array.\n",
        "func=np.vectorize(math.log)\n",
        "func(a)"
      ]
    },
    {
      "cell_type": "code",
      "execution_count": null,
      "id": "fbf0dc56",
      "metadata": {
        "id": "fbf0dc56",
        "outputId": "cfb58d53-86e0-4ab5-b5df-e4d2553eb766"
      },
      "outputs": [
        {
          "data": {
            "text/plain": [
              "array([  1,   8,  27, 125, 512])"
            ]
          },
          "execution_count": 172,
          "metadata": {},
          "output_type": "execute_result"
        }
      ],
      "source": [
        "def cube(s):\n",
        "    return s**3\n",
        "func1=np.vectorize(cube)\n",
        "func1(a)"
      ]
    },
    {
      "cell_type": "code",
      "execution_count": null,
      "id": "3d5f4fb1",
      "metadata": {
        "id": "3d5f4fb1"
      },
      "outputs": [],
      "source": []
    },
    {
      "cell_type": "code",
      "execution_count": null,
      "id": "31bd8fba",
      "metadata": {
        "id": "31bd8fba",
        "outputId": "a0e107f7-9431-4e27-96ff-2185c7de53d1"
      },
      "outputs": [
        {
          "name": "stdout",
          "output_type": "stream",
          "text": [
            "[[ 1  2  3  4]\n",
            " [ 5  6  7  8]\n",
            " [ 9 10 11 12]]\n"
          ]
        }
      ],
      "source": [
        "a=np.arange(1,13).reshape((3,4))\n",
        "print(a)"
      ]
    },
    {
      "cell_type": "code",
      "execution_count": null,
      "id": "ef87ae01",
      "metadata": {
        "id": "ef87ae01",
        "outputId": "8ccc8e11-bb02-44f3-f12c-43ffbd37653f"
      },
      "outputs": [
        {
          "data": {
            "text/plain": [
              "array([[ 1,  2,  3,  4,  1,  2,  3,  4],\n",
              "       [ 5,  6,  7,  8,  5,  6,  7,  8],\n",
              "       [ 9, 10, 11, 12,  9, 10, 11, 12],\n",
              "       [ 1,  2,  3,  4,  1,  2,  3,  4],\n",
              "       [ 5,  6,  7,  8,  5,  6,  7,  8],\n",
              "       [ 9, 10, 11, 12,  9, 10, 11, 12]])"
            ]
          },
          "execution_count": 174,
          "metadata": {},
          "output_type": "execute_result"
        }
      ],
      "source": [
        "# creating multiple copies of the same data by creating tiles and replicating it across rows and columns\n",
        "np.tile(a,(2,2))"
      ]
    },
    {
      "cell_type": "code",
      "execution_count": null,
      "id": "affe2357",
      "metadata": {
        "id": "affe2357",
        "outputId": "3e1e5c75-5f8c-4951-8b29-815e3fb332cd"
      },
      "outputs": [
        {
          "data": {
            "text/plain": [
              "array([[ 1,  2,  3,  4,  1,  2,  3,  4],\n",
              "       [ 5,  6,  7,  8,  5,  6,  7,  8],\n",
              "       [ 9, 10, 11, 12,  9, 10, 11, 12],\n",
              "       [ 1,  2,  3,  4,  1,  2,  3,  4],\n",
              "       [ 5,  6,  7,  8,  5,  6,  7,  8],\n",
              "       [ 9, 10, 11, 12,  9, 10, 11, 12],\n",
              "       [ 1,  2,  3,  4,  1,  2,  3,  4],\n",
              "       [ 5,  6,  7,  8,  5,  6,  7,  8],\n",
              "       [ 9, 10, 11, 12,  9, 10, 11, 12]])"
            ]
          },
          "execution_count": 175,
          "metadata": {},
          "output_type": "execute_result"
        }
      ],
      "source": [
        "np.tile(a,(3,2))"
      ]
    },
    {
      "cell_type": "code",
      "execution_count": null,
      "id": "8f0b8768",
      "metadata": {
        "id": "8f0b8768"
      },
      "outputs": [],
      "source": [
        "a = np.arange(1,100000)\n",
        "b = np.ones(100000)\n",
        "# %timeit a.any()\n",
        "# %timeit b.any()"
      ]
    },
    {
      "cell_type": "code",
      "execution_count": null,
      "id": "0668450d",
      "metadata": {
        "id": "0668450d",
        "outputId": "a0d00eb2-f8b0-4b10-8e68-b81f79cb5088"
      },
      "outputs": [
        {
          "name": "stdout",
          "output_type": "stream",
          "text": [
            "[    1     2     3 ... 99997 99998 99999]\n"
          ]
        }
      ],
      "source": [
        "\n",
        "print(a)"
      ]
    },
    {
      "cell_type": "code",
      "execution_count": null,
      "id": "72f1f2c3",
      "metadata": {
        "id": "72f1f2c3",
        "outputId": "16b1f0da-dd57-4b2c-9fdf-b5a82a908add"
      },
      "outputs": [
        {
          "name": "stdout",
          "output_type": "stream",
          "text": [
            "[1. 1. 1. ... 1. 1. 1.]\n"
          ]
        }
      ],
      "source": [
        "print(b)"
      ]
    },
    {
      "cell_type": "code",
      "execution_count": null,
      "id": "1fbc8a2b",
      "metadata": {
        "id": "1fbc8a2b",
        "outputId": "cb303355-9259-4fb2-e76b-e35fb123a1b2"
      },
      "outputs": [
        {
          "name": "stdout",
          "output_type": "stream",
          "text": [
            "31 µs ± 559 ns per loop (mean ± std. dev. of 7 runs, 10000 loops each)\n"
          ]
        }
      ],
      "source": [
        "%timeit np.any(a)"
      ]
    },
    {
      "cell_type": "code",
      "execution_count": null,
      "id": "19b8ad68",
      "metadata": {
        "id": "19b8ad68",
        "outputId": "77d26c7f-049d-4296-9f43-b5d5e7483b90"
      },
      "outputs": [
        {
          "name": "stdout",
          "output_type": "stream",
          "text": [
            "32.1 µs ± 155 ns per loop (mean ± std. dev. of 7 runs, 10000 loops each)\n"
          ]
        }
      ],
      "source": [
        "%timeit np.any(b)"
      ]
    },
    {
      "cell_type": "code",
      "execution_count": null,
      "id": "5d857df8",
      "metadata": {
        "id": "5d857df8"
      },
      "outputs": [],
      "source": []
    },
    {
      "cell_type": "code",
      "execution_count": null,
      "id": "e7706969",
      "metadata": {
        "id": "e7706969",
        "outputId": "86f30141-d184-4efe-fa9d-f18d57b34700"
      },
      "outputs": [
        {
          "ename": "ValueError",
          "evalue": "can only specify one unknown dimension",
          "output_type": "error",
          "traceback": [
            "\u001b[0;31m---------------------------------------------------------------------------\u001b[0m",
            "\u001b[0;31mValueError\u001b[0m                                Traceback (most recent call last)",
            "\u001b[0;32m/var/folders/hd/9z4dczb56dj54lb7q8w7s4zw0000gn/T/ipykernel_22371/4218722455.py\u001b[0m in \u001b[0;36m<module>\u001b[0;34m\u001b[0m\n\u001b[0;32m----> 1\u001b[0;31m \u001b[0ma\u001b[0m\u001b[0;34m=\u001b[0m\u001b[0mnp\u001b[0m\u001b[0;34m.\u001b[0m\u001b[0marange\u001b[0m\u001b[0;34m(\u001b[0m\u001b[0;36m1\u001b[0m\u001b[0;34m,\u001b[0m\u001b[0;36m11\u001b[0m\u001b[0;34m)\u001b[0m\u001b[0;34m.\u001b[0m\u001b[0mreshape\u001b[0m\u001b[0;34m(\u001b[0m\u001b[0;34m-\u001b[0m\u001b[0;36m1\u001b[0m\u001b[0;34m,\u001b[0m\u001b[0;34m-\u001b[0m\u001b[0;36m1\u001b[0m\u001b[0;34m)\u001b[0m\u001b[0;34m\u001b[0m\u001b[0;34m\u001b[0m\u001b[0m\n\u001b[0m\u001b[1;32m      2\u001b[0m \u001b[0ma\u001b[0m\u001b[0;34m\u001b[0m\u001b[0;34m\u001b[0m\u001b[0m\n",
            "\u001b[0;31mValueError\u001b[0m: can only specify one unknown dimension"
          ]
        }
      ],
      "source": [
        "a=np.arange(1,11).reshape(-1,-1)\n",
        "a"
      ]
    },
    {
      "cell_type": "code",
      "execution_count": null,
      "id": "8bc39135",
      "metadata": {
        "id": "8bc39135"
      },
      "outputs": [],
      "source": [
        "()"
      ]
    },
    {
      "cell_type": "code",
      "execution_count": null,
      "id": "87a3d3b7",
      "metadata": {
        "id": "87a3d3b7"
      },
      "outputs": [],
      "source": []
    },
    {
      "cell_type": "code",
      "execution_count": null,
      "id": "7ba18a12",
      "metadata": {
        "id": "7ba18a12"
      },
      "outputs": [],
      "source": []
    },
    {
      "cell_type": "code",
      "execution_count": null,
      "id": "ce24c874",
      "metadata": {
        "id": "ce24c874"
      },
      "outputs": [],
      "source": []
    },
    {
      "cell_type": "code",
      "execution_count": null,
      "id": "4f0eabcb",
      "metadata": {
        "id": "4f0eabcb"
      },
      "outputs": [],
      "source": []
    },
    {
      "cell_type": "code",
      "execution_count": null,
      "id": "ff47528a",
      "metadata": {
        "id": "ff47528a"
      },
      "outputs": [],
      "source": []
    },
    {
      "cell_type": "code",
      "execution_count": null,
      "id": "a62fc39d",
      "metadata": {
        "id": "a62fc39d"
      },
      "outputs": [],
      "source": []
    },
    {
      "cell_type": "code",
      "execution_count": null,
      "id": "2ea7d063",
      "metadata": {
        "id": "2ea7d063"
      },
      "outputs": [],
      "source": []
    },
    {
      "cell_type": "code",
      "execution_count": null,
      "id": "fcda954d",
      "metadata": {
        "id": "fcda954d"
      },
      "outputs": [],
      "source": []
    },
    {
      "cell_type": "code",
      "execution_count": null,
      "id": "1abf8121",
      "metadata": {
        "id": "1abf8121"
      },
      "outputs": [],
      "source": []
    }
  ],
  "metadata": {
    "kernelspec": {
      "display_name": "Python 3 (ipykernel)",
      "language": "python",
      "name": "python3"
    },
    "language_info": {
      "codemirror_mode": {
        "name": "ipython",
        "version": 3
      },
      "file_extension": ".py",
      "mimetype": "text/x-python",
      "name": "python",
      "nbconvert_exporter": "python",
      "pygments_lexer": "ipython3",
      "version": "3.9.7"
    },
    "colab": {
      "provenance": []
    }
  },
  "nbformat": 4,
  "nbformat_minor": 5
}