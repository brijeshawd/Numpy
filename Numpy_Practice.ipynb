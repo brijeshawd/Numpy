{
  "nbformat": 4,
  "nbformat_minor": 0,
  "metadata": {
    "colab": {
      "provenance": []
    },
    "kernelspec": {
      "name": "python3",
      "display_name": "Python 3"
    },
    "language_info": {
      "name": "python"
    }
  },
  "cells": [
    {
      "cell_type": "code",
      "execution_count": null,
      "metadata": {
        "id": "MBXYwej_8epa"
      },
      "outputs": [],
      "source": [
        "import numpy as np"
      ]
    },
    {
      "cell_type": "code",
      "source": [
        "data=np.loadtxt(\"fitness.txt\",dtype=\"str\")"
      ],
      "metadata": {
        "id": "wMRVYFC18nUZ"
      },
      "execution_count": null,
      "outputs": []
    },
    {
      "cell_type": "code",
      "source": [
        "data"
      ],
      "metadata": {
        "colab": {
          "base_uri": "https://localhost:8080/"
        },
        "id": "_yzlwlXq8tBl",
        "outputId": "cd35362b-4f42-444f-b46e-617692e8d1f4"
      },
      "execution_count": null,
      "outputs": [
        {
          "output_type": "execute_result",
          "data": {
            "text/plain": [
              "array([['06-10-2017', '5464', '200', '181', '5', '0', '66'],\n",
              "       ['07-10-2017', '6041', '100', '197', '8', '0', '66'],\n",
              "       ['08-10-2017', '25', '100', '0', '5', '0', '66'],\n",
              "       ['09-10-2017', '5461', '100', '174', '4', '0', '66'],\n",
              "       ['10-10-2017', '6915', '200', '223', '5', '500', '66'],\n",
              "       ['11-10-2017', '4545', '100', '149', '6', '0', '66'],\n",
              "       ['12-10-2017', '4340', '100', '140', '6', '0', '66'],\n",
              "       ['13-10-2017', '1230', '100', '38', '7', '0', '66'],\n",
              "       ['14-10-2017', '61', '100', '1', '5', '0', '66'],\n",
              "       ['15-10-2017', '1258', '100', '40', '6', '0', '65'],\n",
              "       ['16-10-2017', '3148', '100', '101', '8', '0', '65'],\n",
              "       ['17-10-2017', '4687', '100', '152', '5', '0', '65'],\n",
              "       ['18-10-2017', '4732', '300', '150', '6', '500', '65'],\n",
              "       ['19-10-2017', '3519', '100', '113', '7', '0', '65'],\n",
              "       ['20-10-2017', '1580', '100', '49', '5', '0', '65'],\n",
              "       ['21-10-2017', '2822', '100', '86', '6', '0', '65'],\n",
              "       ['22-10-2017', '181', '100', '6', '8', '0', '65'],\n",
              "       ['23-10-2017', '3158', '200', '99', '5', '0', '65'],\n",
              "       ['24-10-2017', '4383', '200', '143', '4', '0', '64'],\n",
              "       ['25-10-2017', '3881', '200', '125', '5', '0', '64'],\n",
              "       ['26-10-2017', '4037', '200', '129', '6', '0', '64'],\n",
              "       ['27-10-2017', '202', '200', '6', '8', '0', '64'],\n",
              "       ['28-10-2017', '292', '200', '9', '5', '0', '64'],\n",
              "       ['29-10-2017', '330', '300', '10', '6', '0', '64'],\n",
              "       ['30-10-2017', '2209', '200', '72', '5', '0', '64'],\n",
              "       ['31-10-2017', '4550', '300', '150', '8', '500', '64'],\n",
              "       ['01-11-2017', '4435', '300', '141', '5', '0', '64'],\n",
              "       ['02-11-2017', '4779', '300', '156', '4', '0', '64'],\n",
              "       ['03-11-2017', '1831', '300', '57', '5', '0', '64'],\n",
              "       ['04-11-2017', '2255', '300', '72', '4', '0', '64'],\n",
              "       ['05-11-2017', '539', '300', '17', '5', '500', '64'],\n",
              "       ['06-11-2017', '5464', '300', '181', '4', '0', '64'],\n",
              "       ['07-11-2017', '6041', '200', '197', '3', '0', '64'],\n",
              "       ['08-11-2017', '4068', '300', '131', '2', '0', '64'],\n",
              "       ['09-11-2017', '4683', '300', '154', '9', '0', '64'],\n",
              "       ['10-11-2017', '4033', '300', '137', '5', '0', '64'],\n",
              "       ['11-11-2017', '6314', '300', '193', '6', '500', '64'],\n",
              "       ['12-11-2017', '614', '300', '19', '4', '500', '64'],\n",
              "       ['13-11-2017', '3149', '300', '101', '5', '500', '64'],\n",
              "       ['14-11-2017', '4005', '300', '139', '8', '500', '64'],\n",
              "       ['15-11-2017', '4880', '300', '164', '4', '500', '64'],\n",
              "       ['16-11-2017', '4136', '300', '137', '5', '500', '64'],\n",
              "       ['17-11-2017', '705', '300', '22', '6', '500', '64'],\n",
              "       ['18-11-2017', '570', '200', '17', '5', '500', '64'],\n",
              "       ['19-11-2017', '269', '300', '9', '6', '500', '64'],\n",
              "       ['20-11-2017', '4275', '300', '145', '5', '0', '64'],\n",
              "       ['21-11-2017', '5999', '300', '192', '6', '0', '64'],\n",
              "       ['22-11-2017', '4421', '300', '146', '5', '0', '64'],\n",
              "       ['23-11-2017', '6930', '300', '234', '6', '0', '64'],\n",
              "       ['24-11-2017', '5195', '300', '167', '5', '0', '64'],\n",
              "       ['25-11-2017', '546', '300', '16', '6', '0', '64'],\n",
              "       ['26-11-2017', '493', '300', '17', '7', '500', '64'],\n",
              "       ['27-11-2017', '995', '300', '32', '6', '500', '64'],\n",
              "       ['28-11-2017', '1163', '200', '35', '7', '500', '64'],\n",
              "       ['29-11-2017', '6676', '100', '220', '6', '500', '64'],\n",
              "       ['30-11-2017', '3608', '300', '116', '5', '500', '64'],\n",
              "       ['01-12-2017', '774', '300', '23', '6', '500', '64'],\n",
              "       ['02-12-2017', '1421', '300', '44', '7', '500', '64'],\n",
              "       ['03-12-2017', '4064', '300', '131', '8', '500', '64'],\n",
              "       ['04-12-2017', '2725', '300', '86', '8', '500', '64'],\n",
              "       ['05-12-2017', '5934', '300', '194', '7', '500', '64'],\n",
              "       ['06-12-2017', '1867', '300', '60', '8', '500', '64'],\n",
              "       ['07-12-2017', '3721', '100', '121', '5', '500', '64'],\n",
              "       ['08-12-2017', '2374', '200', '76', '4', '0', '64'],\n",
              "       ['09-12-2017', '2909', '200', '93', '3', '500', '64'],\n",
              "       ['10-12-2017', '1648', '100', '53', '3', '500', '64'],\n",
              "       ['11-12-2017', '799', '100', '25', '4', '0', '64'],\n",
              "       ['12-12-2017', '7102', '200', '227', '5', '500', '64'],\n",
              "       ['13-12-2017', '3941', '200', '125', '5', '500', '64'],\n",
              "       ['14-12-2017', '7422', '300', '243', '5', '500', '64'],\n",
              "       ['15-12-2017', '437', '200', '14', '3', '500', '64'],\n",
              "       ['16-12-2017', '1231', '200', '39', '4', '500', '64'],\n",
              "       ['17-12-2017', '1696', '100', '55', '4', '0', '64'],\n",
              "       ['18-12-2017', '4921', '200', '158', '5', '500', '64'],\n",
              "       ['19-12-2017', '221', '100', '7', '5', '500', '64'],\n",
              "       ['20-12-2017', '6500', '200', '213', '5', '500', '64'],\n",
              "       ['21-12-2017', '3575', '200', '116', '5', '500', '64'],\n",
              "       ['22-12-2017', '4061', '100', '129', '5', '0', '64'],\n",
              "       ['23-12-2017', '651', '100', '21', '5', '0', '64'],\n",
              "       ['24-12-2017', '753', '100', '28', '4', '0', '64'],\n",
              "       ['25-12-2017', '518', '100', '16', '3', '0', '64'],\n",
              "       ['26-12-2017', '5537', '300', '180', '4', '500', '64'],\n",
              "       ['27-12-2017', '4108', '200', '138', '5', '500', '64'],\n",
              "       ['28-12-2017', '5376', '300', '176', '5', '500', '64'],\n",
              "       ['29-12-2017', '3066', '200', '99', '4', '500', '64'],\n",
              "       ['30-12-2017', '177', '100', '5', '5', '0', '64'],\n",
              "       ['31-12-2017', '36', '100', '1', '3', '0', '64'],\n",
              "       ['01-01-2018', '299', '100', '10', '3', '0', '64'],\n",
              "       ['02-01-2018', '1447', '200', '47', '3', '0', '64'],\n",
              "       ['03-01-2018', '2599', '200', '84', '2', '0', '64'],\n",
              "       ['04-01-2018', '702', '100', '23', '3', '0', '64'],\n",
              "       ['05-01-2018', '133', '100', '4', '2', '0', '64'],\n",
              "       ['06-01-2018', '153', '300', '0', '8', '0', '64'],\n",
              "       ['07-01-2018', '500', '200', '0', '5', '500', '64'],\n",
              "       ['08-01-2018', '2127', '200', '0', '5', '0', '64'],\n",
              "       ['09-01-2018', '2203', '300', '0', '5', '500', '64']], dtype='<U10')"
            ]
          },
          "metadata": {},
          "execution_count": 62
        }
      ]
    },
    {
      "cell_type": "code",
      "source": [
        "data.shape"
      ],
      "metadata": {
        "colab": {
          "base_uri": "https://localhost:8080/"
        },
        "id": "BanXQs2P81cw",
        "outputId": "67cfedff-4328-4870-adcc-fcee823c754d"
      },
      "execution_count": null,
      "outputs": [
        {
          "output_type": "execute_result",
          "data": {
            "text/plain": [
              "(96, 7)"
            ]
          },
          "metadata": {},
          "execution_count": 63
        }
      ]
    },
    {
      "cell_type": "code",
      "source": [
        "data.ndim"
      ],
      "metadata": {
        "colab": {
          "base_uri": "https://localhost:8080/"
        },
        "id": "2dpQ3DGB831i",
        "outputId": "13dee9b8-6044-400a-c864-1290b08ed71e"
      },
      "execution_count": null,
      "outputs": [
        {
          "output_type": "execute_result",
          "data": {
            "text/plain": [
              "2"
            ]
          },
          "metadata": {},
          "execution_count": 64
        }
      ]
    },
    {
      "cell_type": "code",
      "source": [
        "data=data.T\n",
        "data"
      ],
      "metadata": {
        "colab": {
          "base_uri": "https://localhost:8080/"
        },
        "id": "yiF9ISAb9VC3",
        "outputId": "afacce60-78f1-4671-b35e-ec2732a15bd0"
      },
      "execution_count": null,
      "outputs": [
        {
          "output_type": "execute_result",
          "data": {
            "text/plain": [
              "array([['06-10-2017', '07-10-2017', '08-10-2017', '09-10-2017',\n",
              "        '10-10-2017', '11-10-2017', '12-10-2017', '13-10-2017',\n",
              "        '14-10-2017', '15-10-2017', '16-10-2017', '17-10-2017',\n",
              "        '18-10-2017', '19-10-2017', '20-10-2017', '21-10-2017',\n",
              "        '22-10-2017', '23-10-2017', '24-10-2017', '25-10-2017',\n",
              "        '26-10-2017', '27-10-2017', '28-10-2017', '29-10-2017',\n",
              "        '30-10-2017', '31-10-2017', '01-11-2017', '02-11-2017',\n",
              "        '03-11-2017', '04-11-2017', '05-11-2017', '06-11-2017',\n",
              "        '07-11-2017', '08-11-2017', '09-11-2017', '10-11-2017',\n",
              "        '11-11-2017', '12-11-2017', '13-11-2017', '14-11-2017',\n",
              "        '15-11-2017', '16-11-2017', '17-11-2017', '18-11-2017',\n",
              "        '19-11-2017', '20-11-2017', '21-11-2017', '22-11-2017',\n",
              "        '23-11-2017', '24-11-2017', '25-11-2017', '26-11-2017',\n",
              "        '27-11-2017', '28-11-2017', '29-11-2017', '30-11-2017',\n",
              "        '01-12-2017', '02-12-2017', '03-12-2017', '04-12-2017',\n",
              "        '05-12-2017', '06-12-2017', '07-12-2017', '08-12-2017',\n",
              "        '09-12-2017', '10-12-2017', '11-12-2017', '12-12-2017',\n",
              "        '13-12-2017', '14-12-2017', '15-12-2017', '16-12-2017',\n",
              "        '17-12-2017', '18-12-2017', '19-12-2017', '20-12-2017',\n",
              "        '21-12-2017', '22-12-2017', '23-12-2017', '24-12-2017',\n",
              "        '25-12-2017', '26-12-2017', '27-12-2017', '28-12-2017',\n",
              "        '29-12-2017', '30-12-2017', '31-12-2017', '01-01-2018',\n",
              "        '02-01-2018', '03-01-2018', '04-01-2018', '05-01-2018',\n",
              "        '06-01-2018', '07-01-2018', '08-01-2018', '09-01-2018'],\n",
              "       ['5464', '6041', '25', '5461', '6915', '4545', '4340', '1230',\n",
              "        '61', '1258', '3148', '4687', '4732', '3519', '1580', '2822',\n",
              "        '181', '3158', '4383', '3881', '4037', '202', '292', '330',\n",
              "        '2209', '4550', '4435', '4779', '1831', '2255', '539', '5464',\n",
              "        '6041', '4068', '4683', '4033', '6314', '614', '3149', '4005',\n",
              "        '4880', '4136', '705', '570', '269', '4275', '5999', '4421',\n",
              "        '6930', '5195', '546', '493', '995', '1163', '6676', '3608',\n",
              "        '774', '1421', '4064', '2725', '5934', '1867', '3721', '2374',\n",
              "        '2909', '1648', '799', '7102', '3941', '7422', '437', '1231',\n",
              "        '1696', '4921', '221', '6500', '3575', '4061', '651', '753',\n",
              "        '518', '5537', '4108', '5376', '3066', '177', '36', '299',\n",
              "        '1447', '2599', '702', '133', '153', '500', '2127', '2203'],\n",
              "       ['200', '100', '100', '100', '200', '100', '100', '100', '100',\n",
              "        '100', '100', '100', '300', '100', '100', '100', '100', '200',\n",
              "        '200', '200', '200', '200', '200', '300', '200', '300', '300',\n",
              "        '300', '300', '300', '300', '300', '200', '300', '300', '300',\n",
              "        '300', '300', '300', '300', '300', '300', '300', '200', '300',\n",
              "        '300', '300', '300', '300', '300', '300', '300', '300', '200',\n",
              "        '100', '300', '300', '300', '300', '300', '300', '300', '100',\n",
              "        '200', '200', '100', '100', '200', '200', '300', '200', '200',\n",
              "        '100', '200', '100', '200', '200', '100', '100', '100', '100',\n",
              "        '300', '200', '300', '200', '100', '100', '100', '200', '200',\n",
              "        '100', '100', '300', '200', '200', '300'],\n",
              "       ['181', '197', '0', '174', '223', '149', '140', '38', '1', '40',\n",
              "        '101', '152', '150', '113', '49', '86', '6', '99', '143', '125',\n",
              "        '129', '6', '9', '10', '72', '150', '141', '156', '57', '72',\n",
              "        '17', '181', '197', '131', '154', '137', '193', '19', '101',\n",
              "        '139', '164', '137', '22', '17', '9', '145', '192', '146', '234',\n",
              "        '167', '16', '17', '32', '35', '220', '116', '23', '44', '131',\n",
              "        '86', '194', '60', '121', '76', '93', '53', '25', '227', '125',\n",
              "        '243', '14', '39', '55', '158', '7', '213', '116', '129', '21',\n",
              "        '28', '16', '180', '138', '176', '99', '5', '1', '10', '47',\n",
              "        '84', '23', '4', '0', '0', '0', '0'],\n",
              "       ['5', '8', '5', '4', '5', '6', '6', '7', '5', '6', '8', '5', '6',\n",
              "        '7', '5', '6', '8', '5', '4', '5', '6', '8', '5', '6', '5', '8',\n",
              "        '5', '4', '5', '4', '5', '4', '3', '2', '9', '5', '6', '4', '5',\n",
              "        '8', '4', '5', '6', '5', '6', '5', '6', '5', '6', '5', '6', '7',\n",
              "        '6', '7', '6', '5', '6', '7', '8', '8', '7', '8', '5', '4', '3',\n",
              "        '3', '4', '5', '5', '5', '3', '4', '4', '5', '5', '5', '5', '5',\n",
              "        '5', '4', '3', '4', '5', '5', '4', '5', '3', '3', '3', '2', '3',\n",
              "        '2', '8', '5', '5', '5'],\n",
              "       ['0', '0', '0', '0', '500', '0', '0', '0', '0', '0', '0', '0',\n",
              "        '500', '0', '0', '0', '0', '0', '0', '0', '0', '0', '0', '0',\n",
              "        '0', '500', '0', '0', '0', '0', '500', '0', '0', '0', '0', '0',\n",
              "        '500', '500', '500', '500', '500', '500', '500', '500', '500',\n",
              "        '0', '0', '0', '0', '0', '0', '500', '500', '500', '500', '500',\n",
              "        '500', '500', '500', '500', '500', '500', '500', '0', '500',\n",
              "        '500', '0', '500', '500', '500', '500', '500', '0', '500', '500',\n",
              "        '500', '500', '0', '0', '0', '0', '500', '500', '500', '500',\n",
              "        '0', '0', '0', '0', '0', '0', '0', '0', '500', '0', '500'],\n",
              "       ['66', '66', '66', '66', '66', '66', '66', '66', '66', '65', '65',\n",
              "        '65', '65', '65', '65', '65', '65', '65', '64', '64', '64', '64',\n",
              "        '64', '64', '64', '64', '64', '64', '64', '64', '64', '64', '64',\n",
              "        '64', '64', '64', '64', '64', '64', '64', '64', '64', '64', '64',\n",
              "        '64', '64', '64', '64', '64', '64', '64', '64', '64', '64', '64',\n",
              "        '64', '64', '64', '64', '64', '64', '64', '64', '64', '64', '64',\n",
              "        '64', '64', '64', '64', '64', '64', '64', '64', '64', '64', '64',\n",
              "        '64', '64', '64', '64', '64', '64', '64', '64', '64', '64', '64',\n",
              "        '64', '64', '64', '64', '64', '64', '64', '64']], dtype='<U10')"
            ]
          },
          "metadata": {},
          "execution_count": 65
        }
      ]
    },
    {
      "cell_type": "code",
      "source": [
        "date,step_count,mood,calories_burned,hours_of_sleep,bool_active,weight=data"
      ],
      "metadata": {
        "id": "Y1MrmctW9hwm"
      },
      "execution_count": null,
      "outputs": []
    },
    {
      "cell_type": "code",
      "source": [
        "date"
      ],
      "metadata": {
        "colab": {
          "base_uri": "https://localhost:8080/"
        },
        "id": "1flgHote92Qf",
        "outputId": "a6061841-b29b-4ca3-af52-2ef100d9cc8f"
      },
      "execution_count": null,
      "outputs": [
        {
          "output_type": "execute_result",
          "data": {
            "text/plain": [
              "array(['06-10-2017', '07-10-2017', '08-10-2017', '09-10-2017',\n",
              "       '10-10-2017', '11-10-2017', '12-10-2017', '13-10-2017',\n",
              "       '14-10-2017', '15-10-2017', '16-10-2017', '17-10-2017',\n",
              "       '18-10-2017', '19-10-2017', '20-10-2017', '21-10-2017',\n",
              "       '22-10-2017', '23-10-2017', '24-10-2017', '25-10-2017',\n",
              "       '26-10-2017', '27-10-2017', '28-10-2017', '29-10-2017',\n",
              "       '30-10-2017', '31-10-2017', '01-11-2017', '02-11-2017',\n",
              "       '03-11-2017', '04-11-2017', '05-11-2017', '06-11-2017',\n",
              "       '07-11-2017', '08-11-2017', '09-11-2017', '10-11-2017',\n",
              "       '11-11-2017', '12-11-2017', '13-11-2017', '14-11-2017',\n",
              "       '15-11-2017', '16-11-2017', '17-11-2017', '18-11-2017',\n",
              "       '19-11-2017', '20-11-2017', '21-11-2017', '22-11-2017',\n",
              "       '23-11-2017', '24-11-2017', '25-11-2017', '26-11-2017',\n",
              "       '27-11-2017', '28-11-2017', '29-11-2017', '30-11-2017',\n",
              "       '01-12-2017', '02-12-2017', '03-12-2017', '04-12-2017',\n",
              "       '05-12-2017', '06-12-2017', '07-12-2017', '08-12-2017',\n",
              "       '09-12-2017', '10-12-2017', '11-12-2017', '12-12-2017',\n",
              "       '13-12-2017', '14-12-2017', '15-12-2017', '16-12-2017',\n",
              "       '17-12-2017', '18-12-2017', '19-12-2017', '20-12-2017',\n",
              "       '21-12-2017', '22-12-2017', '23-12-2017', '24-12-2017',\n",
              "       '25-12-2017', '26-12-2017', '27-12-2017', '28-12-2017',\n",
              "       '29-12-2017', '30-12-2017', '31-12-2017', '01-01-2018',\n",
              "       '02-01-2018', '03-01-2018', '04-01-2018', '05-01-2018',\n",
              "       '06-01-2018', '07-01-2018', '08-01-2018', '09-01-2018'],\n",
              "      dtype='<U10')"
            ]
          },
          "metadata": {},
          "execution_count": 67
        }
      ]
    },
    {
      "cell_type": "code",
      "source": [
        "step_count=np.array(step_count,dtype=int)\n",
        "step_count"
      ],
      "metadata": {
        "colab": {
          "base_uri": "https://localhost:8080/"
        },
        "id": "2znVbAi1De3J",
        "outputId": "3ca68798-8f5a-42da-c922-bdf648540063"
      },
      "execution_count": null,
      "outputs": [
        {
          "output_type": "execute_result",
          "data": {
            "text/plain": [
              "array([5464, 6041,   25, 5461, 6915, 4545, 4340, 1230,   61, 1258, 3148,\n",
              "       4687, 4732, 3519, 1580, 2822,  181, 3158, 4383, 3881, 4037,  202,\n",
              "        292,  330, 2209, 4550, 4435, 4779, 1831, 2255,  539, 5464, 6041,\n",
              "       4068, 4683, 4033, 6314,  614, 3149, 4005, 4880, 4136,  705,  570,\n",
              "        269, 4275, 5999, 4421, 6930, 5195,  546,  493,  995, 1163, 6676,\n",
              "       3608,  774, 1421, 4064, 2725, 5934, 1867, 3721, 2374, 2909, 1648,\n",
              "        799, 7102, 3941, 7422,  437, 1231, 1696, 4921,  221, 6500, 3575,\n",
              "       4061,  651,  753,  518, 5537, 4108, 5376, 3066,  177,   36,  299,\n",
              "       1447, 2599,  702,  133,  153,  500, 2127, 2203])"
            ]
          },
          "metadata": {},
          "execution_count": 68
        }
      ]
    },
    {
      "cell_type": "code",
      "source": [
        "mood[mood=='100']=\"Sad\"\n",
        "mood[mood=='200']=\"Neutral\"\n",
        "mood[mood=='300']=\"Happy\"\n",
        "mood"
      ],
      "metadata": {
        "colab": {
          "base_uri": "https://localhost:8080/"
        },
        "id": "q6lbKcxNDmZ0",
        "outputId": "57cf2841-0ca1-4509-dd8d-0eb09084b607"
      },
      "execution_count": null,
      "outputs": [
        {
          "output_type": "execute_result",
          "data": {
            "text/plain": [
              "array(['Neutral', 'Sad', 'Sad', 'Sad', 'Neutral', 'Sad', 'Sad', 'Sad',\n",
              "       'Sad', 'Sad', 'Sad', 'Sad', 'Happy', 'Sad', 'Sad', 'Sad', 'Sad',\n",
              "       'Neutral', 'Neutral', 'Neutral', 'Neutral', 'Neutral', 'Neutral',\n",
              "       'Happy', 'Neutral', 'Happy', 'Happy', 'Happy', 'Happy', 'Happy',\n",
              "       'Happy', 'Happy', 'Neutral', 'Happy', 'Happy', 'Happy', 'Happy',\n",
              "       'Happy', 'Happy', 'Happy', 'Happy', 'Happy', 'Happy', 'Neutral',\n",
              "       'Happy', 'Happy', 'Happy', 'Happy', 'Happy', 'Happy', 'Happy',\n",
              "       'Happy', 'Happy', 'Neutral', 'Sad', 'Happy', 'Happy', 'Happy',\n",
              "       'Happy', 'Happy', 'Happy', 'Happy', 'Sad', 'Neutral', 'Neutral',\n",
              "       'Sad', 'Sad', 'Neutral', 'Neutral', 'Happy', 'Neutral', 'Neutral',\n",
              "       'Sad', 'Neutral', 'Sad', 'Neutral', 'Neutral', 'Sad', 'Sad', 'Sad',\n",
              "       'Sad', 'Happy', 'Neutral', 'Happy', 'Neutral', 'Sad', 'Sad', 'Sad',\n",
              "       'Neutral', 'Neutral', 'Sad', 'Sad', 'Happy', 'Neutral', 'Neutral',\n",
              "       'Happy'], dtype='<U10')"
            ]
          },
          "metadata": {},
          "execution_count": 69
        }
      ]
    },
    {
      "cell_type": "code",
      "source": [
        "calories_burned=np.array(calories_burned,dtype=int)\n",
        "calories_burned"
      ],
      "metadata": {
        "colab": {
          "base_uri": "https://localhost:8080/"
        },
        "id": "t0cgowvCFQgJ",
        "outputId": "5860dafd-978d-4374-e363-1e1372568ad8"
      },
      "execution_count": null,
      "outputs": [
        {
          "output_type": "execute_result",
          "data": {
            "text/plain": [
              "array([181, 197,   0, 174, 223, 149, 140,  38,   1,  40, 101, 152, 150,\n",
              "       113,  49,  86,   6,  99, 143, 125, 129,   6,   9,  10,  72, 150,\n",
              "       141, 156,  57,  72,  17, 181, 197, 131, 154, 137, 193,  19, 101,\n",
              "       139, 164, 137,  22,  17,   9, 145, 192, 146, 234, 167,  16,  17,\n",
              "        32,  35, 220, 116,  23,  44, 131,  86, 194,  60, 121,  76,  93,\n",
              "        53,  25, 227, 125, 243,  14,  39,  55, 158,   7, 213, 116, 129,\n",
              "        21,  28,  16, 180, 138, 176,  99,   5,   1,  10,  47,  84,  23,\n",
              "         4,   0,   0,   0,   0])"
            ]
          },
          "metadata": {},
          "execution_count": 70
        }
      ]
    },
    {
      "cell_type": "code",
      "source": [
        "hours_of_sleep=np.array(hours_of_sleep,dtype=int)\n",
        "hours_of_sleep"
      ],
      "metadata": {
        "colab": {
          "base_uri": "https://localhost:8080/"
        },
        "id": "APx6BgO4FWGA",
        "outputId": "52839dc7-2a95-4e79-d3af-8a7e3d34dc90"
      },
      "execution_count": null,
      "outputs": [
        {
          "output_type": "execute_result",
          "data": {
            "text/plain": [
              "array([5, 8, 5, 4, 5, 6, 6, 7, 5, 6, 8, 5, 6, 7, 5, 6, 8, 5, 4, 5, 6, 8,\n",
              "       5, 6, 5, 8, 5, 4, 5, 4, 5, 4, 3, 2, 9, 5, 6, 4, 5, 8, 4, 5, 6, 5,\n",
              "       6, 5, 6, 5, 6, 5, 6, 7, 6, 7, 6, 5, 6, 7, 8, 8, 7, 8, 5, 4, 3, 3,\n",
              "       4, 5, 5, 5, 3, 4, 4, 5, 5, 5, 5, 5, 5, 4, 3, 4, 5, 5, 4, 5, 3, 3,\n",
              "       3, 2, 3, 2, 8, 5, 5, 5])"
            ]
          },
          "metadata": {},
          "execution_count": 71
        }
      ]
    },
    {
      "cell_type": "code",
      "source": [
        "bool_active[bool_active=='0']=\"InActive\"\n",
        "bool_active[bool_active=='500']=\"Active\"\n",
        "bool_active"
      ],
      "metadata": {
        "colab": {
          "base_uri": "https://localhost:8080/"
        },
        "id": "l0WyNP6fFboF",
        "outputId": "60f2c382-e1c1-4565-cb9c-824e9203145d"
      },
      "execution_count": null,
      "outputs": [
        {
          "output_type": "execute_result",
          "data": {
            "text/plain": [
              "array(['InActive', 'InActive', 'InActive', 'InActive', 'Active',\n",
              "       'InActive', 'InActive', 'InActive', 'InActive', 'InActive',\n",
              "       'InActive', 'InActive', 'Active', 'InActive', 'InActive',\n",
              "       'InActive', 'InActive', 'InActive', 'InActive', 'InActive',\n",
              "       'InActive', 'InActive', 'InActive', 'InActive', 'InActive',\n",
              "       'Active', 'InActive', 'InActive', 'InActive', 'InActive', 'Active',\n",
              "       'InActive', 'InActive', 'InActive', 'InActive', 'InActive',\n",
              "       'Active', 'Active', 'Active', 'Active', 'Active', 'Active',\n",
              "       'Active', 'Active', 'Active', 'InActive', 'InActive', 'InActive',\n",
              "       'InActive', 'InActive', 'InActive', 'Active', 'Active', 'Active',\n",
              "       'Active', 'Active', 'Active', 'Active', 'Active', 'Active',\n",
              "       'Active', 'Active', 'Active', 'InActive', 'Active', 'Active',\n",
              "       'InActive', 'Active', 'Active', 'Active', 'Active', 'Active',\n",
              "       'InActive', 'Active', 'Active', 'Active', 'Active', 'InActive',\n",
              "       'InActive', 'InActive', 'InActive', 'Active', 'Active', 'Active',\n",
              "       'Active', 'InActive', 'InActive', 'InActive', 'InActive',\n",
              "       'InActive', 'InActive', 'InActive', 'InActive', 'Active',\n",
              "       'InActive', 'Active'], dtype='<U10')"
            ]
          },
          "metadata": {},
          "execution_count": 72
        }
      ]
    },
    {
      "cell_type": "code",
      "source": [
        "weight=np.array(weight,dtype=int)\n",
        "weight"
      ],
      "metadata": {
        "colab": {
          "base_uri": "https://localhost:8080/"
        },
        "id": "rR1WdEhAFm_M",
        "outputId": "ac7ca399-e4b3-4608-a097-c52d46b12fd2"
      },
      "execution_count": null,
      "outputs": [
        {
          "output_type": "execute_result",
          "data": {
            "text/plain": [
              "array([66, 66, 66, 66, 66, 66, 66, 66, 66, 65, 65, 65, 65, 65, 65, 65, 65,\n",
              "       65, 64, 64, 64, 64, 64, 64, 64, 64, 64, 64, 64, 64, 64, 64, 64, 64,\n",
              "       64, 64, 64, 64, 64, 64, 64, 64, 64, 64, 64, 64, 64, 64, 64, 64, 64,\n",
              "       64, 64, 64, 64, 64, 64, 64, 64, 64, 64, 64, 64, 64, 64, 64, 64, 64,\n",
              "       64, 64, 64, 64, 64, 64, 64, 64, 64, 64, 64, 64, 64, 64, 64, 64, 64,\n",
              "       64, 64, 64, 64, 64, 64, 64, 64, 64, 64, 64])"
            ]
          },
          "metadata": {},
          "execution_count": 73
        }
      ]
    },
    {
      "cell_type": "code",
      "source": [
        "#date,step_count,mood,calories_burned,hours_of_sleep,bool_active,weight=data"
      ],
      "metadata": {
        "id": "xhvZKgHx-7q7"
      },
      "execution_count": null,
      "outputs": []
    },
    {
      "cell_type": "code",
      "source": [
        "'''1 find out the max calorie he burned\n",
        "2 find out the day where he burned max/min calories\n",
        "3 find out no of days and steps where calories burned is 0\n",
        "4 find out the day where he has max/min step count\n",
        "5 find out the day where he has max/min hours_of_sleep,weight\n",
        "6 find out no of days where he is active\n",
        "7 find out in which day he is burning more calories\n",
        "8 find out if he is happy/sad (his mood)when he is burning more calories\n",
        "# 9 find out step count if he's sleeping more than avg sleep\n",
        "10 find out if his mood is happy if he is sleeping more on that day\n",
        "11 find out if his weight is more he is burning more calories\n",
        "12 sort the date according to his step count/calories_burned\n",
        "13 find out the days where his weight is max/min\n",
        "14 find out the mean calorie burned and mean calories is more closest on which day\n",
        "15 find out the mean step count and mean step count is more closest on which day\n",
        "16 find out no of days where calories burned is 0\n",
        "'''"
      ],
      "metadata": {
        "id": "0zlRrCS0_REr",
        "colab": {
          "base_uri": "https://localhost:8080/",
          "height": 139
        },
        "outputId": "765d3cac-8c75-491e-8b5b-2e0bb5b03b9c"
      },
      "execution_count": null,
      "outputs": [
        {
          "output_type": "execute_result",
          "data": {
            "text/plain": [
              "\"1 find out the max calorie he burned\\n2 find out the day where he burned max/min calories\\n3 find out no of days and steps where calories burned is 0\\n4 find out the day where he has max/min step count\\n5 find out the day where he has max/min hours_of_sleep,weight\\n6 find out no of days where he is active\\n7 find out in which day he is burning more calories\\n8 find out if he is happy/sad (his mood)when he is burning more calories\\n# 9 find out step count if he's sleeping more than avg sleep\\n10 find out if his mood is happy if he is sleeping more on that day\\n11 find out if his weight is more he is burning more calories\\n12 sort the date according to his step count/calories_burned\\n13 find out the days where his weight is max/min\\n14 find out the mean calorie burned and mean calories is more closest on which day\\n15 find out the mean step count and mean step count is more closest on which day\\n16 find out no of days where calories burned is 0\\n\""
            ],
            "application/vnd.google.colaboratory.intrinsic+json": {
              "type": "string"
            }
          },
          "metadata": {},
          "execution_count": 75
        }
      ]
    },
    {
      "cell_type": "code",
      "source": [
        "#1 find out the max calorie he burned\n",
        "max_calorie_burned=max(calories_burned)\n",
        "print(\"Max Calorie burned:\",max_calorie_burned)"
      ],
      "metadata": {
        "colab": {
          "base_uri": "https://localhost:8080/"
        },
        "id": "E1FQL8zD-854",
        "outputId": "91bc496a-00a0-41c4-bf85-1cf84afa47f2"
      },
      "execution_count": null,
      "outputs": [
        {
          "output_type": "stream",
          "name": "stdout",
          "text": [
            "Max Calorie burned: 243\n"
          ]
        }
      ]
    },
    {
      "cell_type": "code",
      "source": [
        "#2 find out the day where he burned max/min calories\n",
        "\n",
        "max_calorie_burned=max(calories_burned)\n",
        "print(max_calorie_burned)\n",
        "\n",
        "min_calorie_burned=min(calories_burned)\n",
        "print(min_calorie_burned)\n",
        "\n",
        "index_max_calorie_burned=np.argmax(calories_burned)\n",
        "print(\"Date where he burned max calories:\",date[index_max_calorie_burned])\n",
        "\n",
        "index_min_calorie_burned=np.argmin(calories_burned)\n",
        "print(\"Date where he burned min calories:\",date[index_min_calorie_burned])"
      ],
      "metadata": {
        "colab": {
          "base_uri": "https://localhost:8080/"
        },
        "id": "i_OhPO0W_nEJ",
        "outputId": "46e55553-f362-484a-81c4-b7251d139680"
      },
      "execution_count": null,
      "outputs": [
        {
          "output_type": "stream",
          "name": "stdout",
          "text": [
            "243\n",
            "0\n",
            "Date where he burned max calories: 14-12-2017\n",
            "Date where he burned min calories: 08-10-2017\n"
          ]
        }
      ]
    },
    {
      "cell_type": "code",
      "source": [
        "#3 find out no of days and steps where calories burned is 0\n",
        "\n",
        "print(\"Days where calorie burned is 0:\",date[calories_burned==0])\n",
        "print(\"Steps taken when calorie burned is 0:\",step_count[calories_burned==0])\n",
        "print(\"Total Days where calorie burned is 0:\",np.count_nonzero(date[calories_burned==0]))"
      ],
      "metadata": {
        "colab": {
          "base_uri": "https://localhost:8080/"
        },
        "id": "pQ_aRygGGf-x",
        "outputId": "21120aeb-251f-43a5-dd9a-4cc6f65786a8"
      },
      "execution_count": null,
      "outputs": [
        {
          "output_type": "stream",
          "name": "stdout",
          "text": [
            "Days where calorie burned is 0: ['08-10-2017' '06-01-2018' '07-01-2018' '08-01-2018' '09-01-2018']\n",
            "Steps taken when calorie burned is 0: [  25  153  500 2127 2203]\n",
            "Total Days where calorie burned is 0: 5\n"
          ]
        }
      ]
    },
    {
      "cell_type": "code",
      "source": [
        "np.mean(step_count[mood==\"Happy\"])"
      ],
      "metadata": {
        "colab": {
          "base_uri": "https://localhost:8080/"
        },
        "id": "l0MDUk8vIWTM",
        "outputId": "8bf7bc61-3e91-4d13-8451-36e6355de8e8"
      },
      "execution_count": null,
      "outputs": [
        {
          "output_type": "execute_result",
          "data": {
            "text/plain": [
              "3392.725"
            ]
          },
          "metadata": {},
          "execution_count": 79
        }
      ]
    },
    {
      "cell_type": "code",
      "source": [
        "#4 find out the day where he has max/min step count\n",
        "\n",
        "print(\"Max Step Count on:\",date[np.argmax(step_count)])\n",
        "print(\"Min Step Count on:\",date[np.argmin(step_count)])"
      ],
      "metadata": {
        "colab": {
          "base_uri": "https://localhost:8080/"
        },
        "id": "bfyW-w8LHoEc",
        "outputId": "1065a427-6421-407b-c061-eaf981690856"
      },
      "execution_count": null,
      "outputs": [
        {
          "output_type": "stream",
          "name": "stdout",
          "text": [
            "Max Step Count on: 14-12-2017\n",
            "Min Step Count on: 08-10-2017\n"
          ]
        }
      ]
    },
    {
      "cell_type": "code",
      "source": [
        "# 5 find out the day where he has max/min hours_of_sleep,weight\n",
        "max_hrs_sleep_day=date[np.argmax(hours_of_sleep)]\n",
        "max_hrs_sleep=np.max(hours_of_sleep)\n",
        "\n",
        "min_hrs_sleep_day=date[np.argmin(hours_of_sleep)]\n",
        "min_hrs_sleep=np.min(hours_of_sleep)\n",
        "\n",
        "max_weight_day=date[np.argmax(weight)]\n",
        "max_weight=np.max(weight)\n",
        "print(\"Max hrs sleep on {} is {}\".format(max_hrs_sleep_day,max_hrs_sleep))\n",
        "print(\"Min hrs sleep on {} is {}\".format(min_hrs_sleep_day,min_hrs_sleep))\n",
        "print(\"Max weight on {} is {}\".format(max_weight_day,max_weight))\n"
      ],
      "metadata": {
        "colab": {
          "base_uri": "https://localhost:8080/"
        },
        "id": "u4DUoTLnI2U1",
        "outputId": "c6e05589-f2bb-41ea-fc9d-0cd113f52cc1"
      },
      "execution_count": null,
      "outputs": [
        {
          "output_type": "stream",
          "name": "stdout",
          "text": [
            "Max hrs sleep on 09-11-2017 is 9\n",
            "Min hrs sleep on 08-11-2017 is 2\n",
            "Max weight on 06-10-2017 is 66\n"
          ]
        }
      ]
    },
    {
      "cell_type": "code",
      "source": [
        "# 6 find out days and total no of days where he is active\n",
        "\n",
        "ActiveDays=date[bool_active==\"Active\"]\n",
        "print(\"Days where he is active: \",ActiveDays)\n",
        "\n",
        "Total_count=np.count_nonzero(ActiveDays)\n",
        "print(\"Total no of Days in which he is active:\", Total_count)"
      ],
      "metadata": {
        "colab": {
          "base_uri": "https://localhost:8080/"
        },
        "id": "_M5vB7RYL8OC",
        "outputId": "8fbb3abe-1b1e-4165-d979-3e144b15fb9a"
      },
      "execution_count": null,
      "outputs": [
        {
          "output_type": "stream",
          "name": "stdout",
          "text": [
            "Days where he is active:  ['10-10-2017' '18-10-2017' '31-10-2017' '05-11-2017' '11-11-2017'\n",
            " '12-11-2017' '13-11-2017' '14-11-2017' '15-11-2017' '16-11-2017'\n",
            " '17-11-2017' '18-11-2017' '19-11-2017' '26-11-2017' '27-11-2017'\n",
            " '28-11-2017' '29-11-2017' '30-11-2017' '01-12-2017' '02-12-2017'\n",
            " '03-12-2017' '04-12-2017' '05-12-2017' '06-12-2017' '07-12-2017'\n",
            " '09-12-2017' '10-12-2017' '12-12-2017' '13-12-2017' '14-12-2017'\n",
            " '15-12-2017' '16-12-2017' '18-12-2017' '19-12-2017' '20-12-2017'\n",
            " '21-12-2017' '26-12-2017' '27-12-2017' '28-12-2017' '29-12-2017'\n",
            " '07-01-2018' '09-01-2018']\n",
            "Total no of Days in which he is active: 42\n"
          ]
        }
      ]
    },
    {
      "cell_type": "code",
      "source": [
        "# 7 find out in which day he is burning more calories than avg calorie burned\n",
        "avg_calorie=np.mean(calories_burned)\n",
        "print(\"Days he is burning more calories:\",date[calories_burned>=avg_calorie])"
      ],
      "metadata": {
        "colab": {
          "base_uri": "https://localhost:8080/"
        },
        "id": "-_7cZThTM936",
        "outputId": "61a4da64-01f5-45e9-9129-66a9a49025a1"
      },
      "execution_count": null,
      "outputs": [
        {
          "output_type": "stream",
          "name": "stdout",
          "text": [
            "Days he is burning more calories: ['06-10-2017' '07-10-2017' '09-10-2017' '10-10-2017' '11-10-2017'\n",
            " '12-10-2017' '16-10-2017' '17-10-2017' '18-10-2017' '19-10-2017'\n",
            " '23-10-2017' '24-10-2017' '25-10-2017' '26-10-2017' '31-10-2017'\n",
            " '01-11-2017' '02-11-2017' '06-11-2017' '07-11-2017' '08-11-2017'\n",
            " '09-11-2017' '10-11-2017' '11-11-2017' '13-11-2017' '14-11-2017'\n",
            " '15-11-2017' '16-11-2017' '20-11-2017' '21-11-2017' '22-11-2017'\n",
            " '23-11-2017' '24-11-2017' '29-11-2017' '30-11-2017' '03-12-2017'\n",
            " '05-12-2017' '07-12-2017' '12-12-2017' '13-12-2017' '14-12-2017'\n",
            " '18-12-2017' '20-12-2017' '21-12-2017' '22-12-2017' '26-12-2017'\n",
            " '27-12-2017' '28-12-2017' '29-12-2017']\n"
          ]
        }
      ]
    },
    {
      "cell_type": "code",
      "source": [
        "# 8 find out if he is happy/sad (his mood)when he is burning more calories than avg calories burned\n",
        "\n",
        "avg_calorie=np.mean(calories_burned)\n",
        "np.unique(mood[calories_burned>=avg_calorie],return_counts=True)"
      ],
      "metadata": {
        "colab": {
          "base_uri": "https://localhost:8080/"
        },
        "id": "ItoMyIVsNd1m",
        "outputId": "18093a77-41de-47c0-b68d-b29b7af5d683"
      },
      "execution_count": null,
      "outputs": [
        {
          "output_type": "execute_result",
          "data": {
            "text/plain": [
              "(array(['Happy', 'Neutral', 'Sad'], dtype='<U10'), array([24, 14, 10]))"
            ]
          },
          "metadata": {},
          "execution_count": 84
        }
      ]
    },
    {
      "cell_type": "code",
      "source": [
        "# 9 find out step count if he's sleeping more than avg sleep\n",
        "\n",
        "avgsleep=np.mean(hours_of_sleep)\n",
        "step_count[hours_of_sleep>=hours_of_sleep]"
      ],
      "metadata": {
        "colab": {
          "base_uri": "https://localhost:8080/"
        },
        "id": "OUj2xoWOQUr3",
        "outputId": "4a811a26-5607-4802-8359-10451589e1e0"
      },
      "execution_count": null,
      "outputs": [
        {
          "output_type": "execute_result",
          "data": {
            "text/plain": [
              "array([5464, 6041,   25, 5461, 6915, 4545, 4340, 1230,   61, 1258, 3148,\n",
              "       4687, 4732, 3519, 1580, 2822,  181, 3158, 4383, 3881, 4037,  202,\n",
              "        292,  330, 2209, 4550, 4435, 4779, 1831, 2255,  539, 5464, 6041,\n",
              "       4068, 4683, 4033, 6314,  614, 3149, 4005, 4880, 4136,  705,  570,\n",
              "        269, 4275, 5999, 4421, 6930, 5195,  546,  493,  995, 1163, 6676,\n",
              "       3608,  774, 1421, 4064, 2725, 5934, 1867, 3721, 2374, 2909, 1648,\n",
              "        799, 7102, 3941, 7422,  437, 1231, 1696, 4921,  221, 6500, 3575,\n",
              "       4061,  651,  753,  518, 5537, 4108, 5376, 3066,  177,   36,  299,\n",
              "       1447, 2599,  702,  133,  153,  500, 2127, 2203])"
            ]
          },
          "metadata": {},
          "execution_count": 85
        }
      ]
    },
    {
      "cell_type": "code",
      "source": [
        "# 10 find out if his mood is happy if he is sleeping more on that day\n",
        "\n",
        "mood[np.argmax(hours_of_sleep)]"
      ],
      "metadata": {
        "colab": {
          "base_uri": "https://localhost:8080/",
          "height": 35
        },
        "id": "JxSNSzybRZTD",
        "outputId": "8294cd77-9920-4cb7-c121-9c12170f1be8"
      },
      "execution_count": null,
      "outputs": [
        {
          "output_type": "execute_result",
          "data": {
            "text/plain": [
              "'Happy'"
            ],
            "application/vnd.google.colaboratory.intrinsic+json": {
              "type": "string"
            }
          },
          "metadata": {},
          "execution_count": 86
        }
      ]
    },
    {
      "cell_type": "code",
      "source": [
        "# 11 find out weight when he is burning max/min calories\n",
        "\n",
        "print(weight[np.argmax(calories_burned)])\n",
        "print(weight[np.argmin(calories_burned)])"
      ],
      "metadata": {
        "colab": {
          "base_uri": "https://localhost:8080/"
        },
        "id": "EKUAh0r4Rkl4",
        "outputId": "abd82b73-9512-4266-e675-5303b15ef3ca"
      },
      "execution_count": null,
      "outputs": [
        {
          "output_type": "stream",
          "name": "stdout",
          "text": [
            "64\n",
            "66\n"
          ]
        }
      ]
    },
    {
      "cell_type": "code",
      "source": [
        "# 12 sort the date according to his step count\n",
        "\n",
        "date[np.argsort(step_count)]"
      ],
      "metadata": {
        "colab": {
          "base_uri": "https://localhost:8080/"
        },
        "id": "w-Hg4QSTR-Gx",
        "outputId": "78dda734-211b-48d6-bd7c-0c7faae40975"
      },
      "execution_count": null,
      "outputs": [
        {
          "output_type": "execute_result",
          "data": {
            "text/plain": [
              "array(['08-10-2017', '31-12-2017', '14-10-2017', '05-01-2018',\n",
              "       '06-01-2018', '30-12-2017', '22-10-2017', '27-10-2017',\n",
              "       '19-12-2017', '19-11-2017', '28-10-2017', '01-01-2018',\n",
              "       '29-10-2017', '15-12-2017', '26-11-2017', '07-01-2018',\n",
              "       '25-12-2017', '05-11-2017', '25-11-2017', '18-11-2017',\n",
              "       '12-11-2017', '23-12-2017', '04-01-2018', '17-11-2017',\n",
              "       '24-12-2017', '01-12-2017', '11-12-2017', '27-11-2017',\n",
              "       '28-11-2017', '13-10-2017', '16-12-2017', '15-10-2017',\n",
              "       '02-12-2017', '02-01-2018', '20-10-2017', '10-12-2017',\n",
              "       '17-12-2017', '03-11-2017', '06-12-2017', '08-01-2018',\n",
              "       '09-01-2018', '30-10-2017', '04-11-2017', '08-12-2017',\n",
              "       '03-01-2018', '04-12-2017', '21-10-2017', '09-12-2017',\n",
              "       '29-12-2017', '16-10-2017', '13-11-2017', '23-10-2017',\n",
              "       '19-10-2017', '21-12-2017', '30-11-2017', '07-12-2017',\n",
              "       '25-10-2017', '13-12-2017', '14-11-2017', '10-11-2017',\n",
              "       '26-10-2017', '22-12-2017', '03-12-2017', '08-11-2017',\n",
              "       '27-12-2017', '16-11-2017', '20-11-2017', '12-10-2017',\n",
              "       '24-10-2017', '22-11-2017', '01-11-2017', '11-10-2017',\n",
              "       '31-10-2017', '09-11-2017', '17-10-2017', '18-10-2017',\n",
              "       '02-11-2017', '15-11-2017', '18-12-2017', '24-11-2017',\n",
              "       '28-12-2017', '09-10-2017', '06-11-2017', '06-10-2017',\n",
              "       '26-12-2017', '05-12-2017', '21-11-2017', '07-10-2017',\n",
              "       '07-11-2017', '11-11-2017', '20-12-2017', '29-11-2017',\n",
              "       '10-10-2017', '23-11-2017', '12-12-2017', '14-12-2017'],\n",
              "      dtype='<U10')"
            ]
          },
          "metadata": {},
          "execution_count": 88
        }
      ]
    },
    {
      "cell_type": "code",
      "source": [
        "# 13 find out the days where his weight is max/min\n",
        "\n",
        "print(date[np.argmax(weight)])\n",
        "print(date[np.argmin(weight)])"
      ],
      "metadata": {
        "colab": {
          "base_uri": "https://localhost:8080/"
        },
        "id": "tv_YevwgSU0E",
        "outputId": "8dcb9614-8794-4ada-8c52-f530742dbfd8"
      },
      "execution_count": null,
      "outputs": [
        {
          "output_type": "stream",
          "name": "stdout",
          "text": [
            "06-10-2017\n",
            "24-10-2017\n"
          ]
        }
      ]
    },
    {
      "cell_type": "code",
      "source": [
        "# 14 find out the mean calorie burned and mean calories is more closest on which day\n",
        "\n",
        "mean_calorie=int(np.mean(calories_burned))\n",
        "\n",
        "mean_calorie\n",
        "\n",
        "date[abs(calories_burned-mean_calorie)<10]"
      ],
      "metadata": {
        "colab": {
          "base_uri": "https://localhost:8080/"
        },
        "id": "cvdDLKNCSt3v",
        "outputId": "661d827c-7056-48a8-d6d3-a7790199e397"
      },
      "execution_count": null,
      "outputs": [
        {
          "output_type": "execute_result",
          "data": {
            "text/plain": [
              "array(['16-10-2017', '21-10-2017', '23-10-2017', '13-11-2017',\n",
              "       '04-12-2017', '09-12-2017', '29-12-2017', '03-01-2018'],\n",
              "      dtype='<U10')"
            ]
          },
          "metadata": {},
          "execution_count": 90
        }
      ]
    },
    {
      "cell_type": "code",
      "source": [
        "# 15 find out the mean step count and mean step count is more closest on which day\n",
        "\n",
        "mean_step_count=np.mean(step_count)\n",
        "\n",
        "date[abs(step_count-mean_step_count)<100]"
      ],
      "metadata": {
        "colab": {
          "base_uri": "https://localhost:8080/"
        },
        "id": "wE8qlSsDUFAJ",
        "outputId": "440c532a-4fd5-4397-aebf-55cd42e6fd1f"
      },
      "execution_count": null,
      "outputs": [
        {
          "output_type": "execute_result",
          "data": {
            "text/plain": [
              "array(['09-12-2017'], dtype='<U10')"
            ]
          },
          "metadata": {},
          "execution_count": 91
        }
      ]
    },
    {
      "cell_type": "code",
      "source": [
        "# 16 find out total no of days where calories burned is 0\n",
        "\n",
        "np.count_nonzero(date[calories_burned==0])"
      ],
      "metadata": {
        "colab": {
          "base_uri": "https://localhost:8080/"
        },
        "id": "laRfa30HUS5P",
        "outputId": "10142328-aefd-4c07-8d0d-7479040ebb16"
      },
      "execution_count": null,
      "outputs": [
        {
          "output_type": "execute_result",
          "data": {
            "text/plain": [
              "5"
            ]
          },
          "metadata": {},
          "execution_count": 92
        }
      ]
    },
    {
      "cell_type": "code",
      "source": [
        "birds = np.array(['spoonbills',  'plovers',  'plovers',  'plovers',  'plovers',  'Cranes',  'plovers',  'plovers',  'Cranes',  'spoonbills'])\n",
        "age = np.array([5.5, 6.0, 3.5, 1.5, 3.0, 4.0, 3.5, 2.0, 5.5, 6.0])\n",
        "\n",
        "# Given a list of birds and their corresponding age,\n",
        "\n",
        "# return the name of birds sorted according to age (ascending)\n",
        "\n",
        "birds[np.argsort(age)]"
      ],
      "metadata": {
        "colab": {
          "base_uri": "https://localhost:8080/"
        },
        "id": "dQN2pFnmUjgO",
        "outputId": "17c84951-936a-42f8-f427-ef3be09f2a2a"
      },
      "execution_count": null,
      "outputs": [
        {
          "output_type": "execute_result",
          "data": {
            "text/plain": [
              "array(['plovers', 'plovers', 'plovers', 'plovers', 'plovers', 'Cranes',\n",
              "       'spoonbills', 'Cranes', 'plovers', 'spoonbills'], dtype='<U10')"
            ]
          },
          "metadata": {},
          "execution_count": 93
        }
      ]
    },
    {
      "cell_type": "code",
      "source": [
        "# Given the type of birds and their age, find the oldest bird.\n",
        "\n",
        "birds = np.array(['sparrow', 'peacock', 'parrot', 'owl', 'peacock', 'macaw', 'macaw', 'parrot', 'macaw', 'peacock'])\n",
        "age = np.array([6, 1, 6, 5, 7, 6, 0, 9, 0, 7])\n",
        "\n",
        "birds[np.argmax(age)]"
      ],
      "metadata": {
        "colab": {
          "base_uri": "https://localhost:8080/",
          "height": 35
        },
        "id": "1ruyoALAVZ5r",
        "outputId": "9a63f674-9f21-41b1-c152-6e1f0fdf9388"
      },
      "execution_count": null,
      "outputs": [
        {
          "output_type": "execute_result",
          "data": {
            "text/plain": [
              "'parrot'"
            ],
            "application/vnd.google.colaboratory.intrinsic+json": {
              "type": "string"
            }
          },
          "metadata": {},
          "execution_count": 94
        }
      ]
    },
    {
      "cell_type": "code",
      "source": [
        "# Given an image in form of a matrix of size (n, n), rotate the image/matrix clockwise by 90º.\n",
        "\n",
        "Sample Input:\n",
        "\n",
        "[[1 2 3] \n",
        " [4 5 6]\n",
        " [7 8 9]]\n",
        "Sample Output:\n",
        "\n",
        "[[7 4 1]\n",
        " [8 5 2]\n",
        " [9 6 3]]"
      ],
      "metadata": {
        "id": "9KIw5ncxVtjN",
        "colab": {
          "base_uri": "https://localhost:8080/",
          "height": 131
        },
        "outputId": "f2190c3b-225f-4cad-dc05-092475f02a89"
      },
      "execution_count": null,
      "outputs": [
        {
          "output_type": "error",
          "ename": "SyntaxError",
          "evalue": "ignored",
          "traceback": [
            "\u001b[0;36m  File \u001b[0;32m\"<ipython-input-95-214cdc13d2cd>\"\u001b[0;36m, line \u001b[0;32m3\u001b[0m\n\u001b[0;31m    Sample Input:\u001b[0m\n\u001b[0m               ^\u001b[0m\n\u001b[0;31mSyntaxError\u001b[0m\u001b[0;31m:\u001b[0m invalid syntax\n"
          ]
        }
      ]
    },
    {
      "cell_type": "code",
      "source": [
        "import numpy as np\n",
        "X = np.arange(12).reshape(3,4)\n",
        "X"
      ],
      "metadata": {
        "colab": {
          "base_uri": "https://localhost:8080/"
        },
        "id": "r8c-5X5KaRdy",
        "outputId": "61423ce9-d6d5-496e-e57e-607f0bad1af2"
      },
      "execution_count": null,
      "outputs": [
        {
          "output_type": "execute_result",
          "data": {
            "text/plain": [
              "array([[ 0,  1,  2,  3],\n",
              "       [ 4,  5,  6,  7],\n",
              "       [ 8,  9, 10, 11]])"
            ]
          },
          "metadata": {},
          "execution_count": 97
        }
      ]
    },
    {
      "cell_type": "code",
      "source": [
        "X.max(axis=1)\n",
        "# = [ 3, 7, 11]"
      ],
      "metadata": {
        "colab": {
          "base_uri": "https://localhost:8080/"
        },
        "id": "k8gedksfaWkc",
        "outputId": "6dc23e44-f306-421a-cce1-89f1bfd89ec6"
      },
      "execution_count": null,
      "outputs": [
        {
          "output_type": "execute_result",
          "data": {
            "text/plain": [
              "array([ 3,  7, 11])"
            ]
          },
          "metadata": {},
          "execution_count": 98
        }
      ]
    },
    {
      "cell_type": "code",
      "source": [
        "X.sum()\n",
        "# = 11"
      ],
      "metadata": {
        "colab": {
          "base_uri": "https://localhost:8080/"
        },
        "id": "Y4-61yRUaYD1",
        "outputId": "2ad6c938-82c1-4b81-aa84-854a0278de6b"
      },
      "execution_count": null,
      "outputs": [
        {
          "output_type": "execute_result",
          "data": {
            "text/plain": [
              "66"
            ]
          },
          "metadata": {},
          "execution_count": 99
        }
      ]
    },
    {
      "cell_type": "code",
      "source": [
        "X.T.max(axis=0)\n",
        "# = [ 3, 7, 11]"
      ],
      "metadata": {
        "colab": {
          "base_uri": "https://localhost:8080/"
        },
        "id": "rJjqdVxKaZbY",
        "outputId": "4591e02d-56db-476e-9bab-fc965b7acb90"
      },
      "execution_count": null,
      "outputs": [
        {
          "output_type": "execute_result",
          "data": {
            "text/plain": [
              "array([ 3,  7, 11])"
            ]
          },
          "metadata": {},
          "execution_count": 100
        }
      ]
    },
    {
      "cell_type": "code",
      "source": [
        "[i.min() for i in X]\n",
        "# = [0, 4, 8]"
      ],
      "metadata": {
        "colab": {
          "base_uri": "https://localhost:8080/"
        },
        "id": "c1PsoUmGaa2y",
        "outputId": "73413a6f-f75c-425d-ce01-1e1c0e4f5f9d"
      },
      "execution_count": null,
      "outputs": [
        {
          "output_type": "execute_result",
          "data": {
            "text/plain": [
              "[0, 4, 8]"
            ]
          },
          "metadata": {},
          "execution_count": 101
        }
      ]
    },
    {
      "cell_type": "code",
      "source": [
        "arr = np.arange(16).reshape(4,4)\n",
        "arr\n",
        "print(np.split(arr, 4))"
      ],
      "metadata": {
        "colab": {
          "base_uri": "https://localhost:8080/"
        },
        "id": "nZqXmirAbPqA",
        "outputId": "456dc42c-6cba-48e3-e222-f05f47194b52"
      },
      "execution_count": null,
      "outputs": [
        {
          "output_type": "stream",
          "name": "stdout",
          "text": [
            "[array([[0, 1, 2, 3]]), array([[4, 5, 6, 7]]), array([[ 8,  9, 10, 11]]), array([[12, 13, 14, 15]])]\n"
          ]
        }
      ]
    },
    {
      "cell_type": "code",
      "source": [
        "import numpy as np"
      ],
      "metadata": {
        "id": "-_WWjyyhBjGR"
      },
      "execution_count": null,
      "outputs": []
    },
    {
      "cell_type": "code",
      "source": [
        "m=3\n",
        "n=4\n",
        "A=np.arange(m)\n",
        "B=np.arange(n).reshape(n,1)\n",
        "C=np.arange(m*n).reshape(n,m)\n",
        "print(A)\n",
        "print(B)\n",
        "print(C)"
      ],
      "metadata": {
        "colab": {
          "base_uri": "https://localhost:8080/"
        },
        "id": "T4P-rb4YBV_y",
        "outputId": "a0bcde73-e460-4470-abe4-c4c74f9d15ca"
      },
      "execution_count": null,
      "outputs": [
        {
          "output_type": "stream",
          "name": "stdout",
          "text": [
            "[0 1 2]\n",
            "[[0]\n",
            " [1]\n",
            " [2]\n",
            " [3]]\n",
            "[[ 0  1  2]\n",
            " [ 3  4  5]\n",
            " [ 6  7  8]\n",
            " [ 9 10 11]]\n"
          ]
        }
      ]
    },
    {
      "cell_type": "code",
      "source": [
        "print(A.shape)\n",
        "\n",
        "print(B.shape)\n",
        "\n",
        "print(C.shape)"
      ],
      "metadata": {
        "colab": {
          "base_uri": "https://localhost:8080/"
        },
        "id": "cEpMi8OvBVBh",
        "outputId": "bddf03aa-fd1c-4ccf-c304-376263a2c10c"
      },
      "execution_count": null,
      "outputs": [
        {
          "output_type": "stream",
          "name": "stdout",
          "text": [
            "(3,)\n",
            "(4, 1)\n",
            "(4, 3)\n"
          ]
        }
      ]
    },
    {
      "cell_type": "code",
      "source": [
        "np.concatenate((C, B), axis = 1)"
      ],
      "metadata": {
        "colab": {
          "base_uri": "https://localhost:8080/"
        },
        "id": "L4k6E06ZCQDI",
        "outputId": "8bd8d9a0-002a-4443-cd4f-bb32ce9fc557"
      },
      "execution_count": null,
      "outputs": [
        {
          "output_type": "execute_result",
          "data": {
            "text/plain": [
              "array([[ 0,  1,  2,  0],\n",
              "       [ 3,  4,  5,  1],\n",
              "       [ 6,  7,  8,  2],\n",
              "       [ 9, 10, 11,  3]])"
            ]
          },
          "metadata": {},
          "execution_count": 6
        }
      ]
    },
    {
      "cell_type": "code",
      "source": [
        "np.concatenate((C, A), axis = 1)"
      ],
      "metadata": {
        "colab": {
          "base_uri": "https://localhost:8080/",
          "height": 218
        },
        "id": "MPR2hiEjC2Hc",
        "outputId": "7651ac8f-b8ec-47a4-ab4b-9bdb6d8dc29d"
      },
      "execution_count": null,
      "outputs": [
        {
          "output_type": "error",
          "ename": "ValueError",
          "evalue": "ignored",
          "traceback": [
            "\u001b[0;31m---------------------------------------------------------------------------\u001b[0m",
            "\u001b[0;31mValueError\u001b[0m                                Traceback (most recent call last)",
            "\u001b[0;32m<ipython-input-10-bbcddc273cb1>\u001b[0m in \u001b[0;36m<module>\u001b[0;34m()\u001b[0m\n\u001b[0;32m----> 1\u001b[0;31m \u001b[0mnp\u001b[0m\u001b[0;34m.\u001b[0m\u001b[0mconcatenate\u001b[0m\u001b[0;34m(\u001b[0m\u001b[0;34m(\u001b[0m\u001b[0mC\u001b[0m\u001b[0;34m,\u001b[0m \u001b[0mA\u001b[0m\u001b[0;34m)\u001b[0m\u001b[0;34m,\u001b[0m \u001b[0maxis\u001b[0m \u001b[0;34m=\u001b[0m \u001b[0;36m1\u001b[0m\u001b[0;34m)\u001b[0m\u001b[0;34m\u001b[0m\u001b[0;34m\u001b[0m\u001b[0m\n\u001b[0m",
            "\u001b[0;32m<__array_function__ internals>\u001b[0m in \u001b[0;36mconcatenate\u001b[0;34m(*args, **kwargs)\u001b[0m\n",
            "\u001b[0;31mValueError\u001b[0m: all the input arrays must have same number of dimensions, but the array at index 0 has 2 dimension(s) and the array at index 1 has 1 dimension(s)"
          ]
        }
      ]
    },
    {
      "cell_type": "code",
      "source": [
        "np.concatenate((C.T, A.reshape(m,1)), axis = 1)"
      ],
      "metadata": {
        "colab": {
          "base_uri": "https://localhost:8080/"
        },
        "id": "_cTZjZEqDN6h",
        "outputId": "6543907a-8888-4d93-cf94-396f40996092"
      },
      "execution_count": null,
      "outputs": [
        {
          "output_type": "execute_result",
          "data": {
            "text/plain": [
              "array([[ 0,  3,  6,  9,  0],\n",
              "       [ 1,  4,  7, 10,  1],\n",
              "       [ 2,  5,  8, 11,  2]])"
            ]
          },
          "metadata": {},
          "execution_count": 11
        }
      ]
    },
    {
      "cell_type": "code",
      "source": [
        "np.concatenate((A,B), axis=0)"
      ],
      "metadata": {
        "colab": {
          "base_uri": "https://localhost:8080/",
          "height": 218
        },
        "id": "VUKQUIGADgPO",
        "outputId": "4f0dd1ec-1c45-4aa6-8127-da894636a6de"
      },
      "execution_count": null,
      "outputs": [
        {
          "output_type": "error",
          "ename": "ValueError",
          "evalue": "ignored",
          "traceback": [
            "\u001b[0;31m---------------------------------------------------------------------------\u001b[0m",
            "\u001b[0;31mValueError\u001b[0m                                Traceback (most recent call last)",
            "\u001b[0;32m<ipython-input-12-fc79fa2c8cc8>\u001b[0m in \u001b[0;36m<module>\u001b[0;34m()\u001b[0m\n\u001b[0;32m----> 1\u001b[0;31m \u001b[0mnp\u001b[0m\u001b[0;34m.\u001b[0m\u001b[0mconcatenate\u001b[0m\u001b[0;34m(\u001b[0m\u001b[0;34m(\u001b[0m\u001b[0mA\u001b[0m\u001b[0;34m,\u001b[0m\u001b[0mB\u001b[0m\u001b[0;34m)\u001b[0m\u001b[0;34m,\u001b[0m \u001b[0maxis\u001b[0m\u001b[0;34m=\u001b[0m\u001b[0;36m0\u001b[0m\u001b[0;34m)\u001b[0m\u001b[0;34m\u001b[0m\u001b[0;34m\u001b[0m\u001b[0m\n\u001b[0m",
            "\u001b[0;32m<__array_function__ internals>\u001b[0m in \u001b[0;36mconcatenate\u001b[0;34m(*args, **kwargs)\u001b[0m\n",
            "\u001b[0;31mValueError\u001b[0m: all the input arrays must have same number of dimensions, but the array at index 0 has 1 dimension(s) and the array at index 1 has 2 dimension(s)"
          ]
        }
      ]
    },
    {
      "cell_type": "code",
      "source": [
        "arr = 2*np.arange(0,2,0.5)\n",
        "if arr <= 0.6:\n",
        "    print (\"condition satisfies\")\n",
        "else:\n",
        "    print (\"condition doesn't satisfy\") \n",
        "# In the above code,\n",
        "#  'condition' implies the situation that arr has at least one value smaller than or equal to 0.6.\n",
        "# Which option is true wrt code and condition?"
      ],
      "metadata": {
        "id": "jIe7WdiBDojw"
      },
      "execution_count": null,
      "outputs": []
    },
    {
      "cell_type": "code",
      "source": [
        "arr = np.arange(10)\n",
        "np.split(arr, 3)\n",
        "'''\n",
        "B.\n",
        "\n",
        "arr = np.arange(10)\n",
        "np.split(arr, 5)\n",
        "C.\n",
        "\n",
        "arr = np.arange(10)\n",
        "np.split(arr, [2,5])\n",
        "D.\n",
        "\n",
        "arr = np.arange(10)\n",
        "np.split(arr, [5, 12])\n",
        "'''"
      ],
      "metadata": {
        "colab": {
          "base_uri": "https://localhost:8080/",
          "height": 391
        },
        "id": "YEnFvQdlD6o6",
        "outputId": "4b674f74-7a5c-4944-adfd-33bf36736fcf"
      },
      "execution_count": null,
      "outputs": [
        {
          "output_type": "error",
          "ename": "ValueError",
          "evalue": "ignored",
          "traceback": [
            "\u001b[0;31m---------------------------------------------------------------------------\u001b[0m",
            "\u001b[0;31mValueError\u001b[0m                                Traceback (most recent call last)",
            "\u001b[0;32m<ipython-input-13-8223844059ec>\u001b[0m in \u001b[0;36m<module>\u001b[0;34m()\u001b[0m\n\u001b[1;32m      1\u001b[0m \u001b[0marr\u001b[0m \u001b[0;34m=\u001b[0m \u001b[0mnp\u001b[0m\u001b[0;34m.\u001b[0m\u001b[0marange\u001b[0m\u001b[0;34m(\u001b[0m\u001b[0;36m10\u001b[0m\u001b[0;34m)\u001b[0m\u001b[0;34m\u001b[0m\u001b[0;34m\u001b[0m\u001b[0m\n\u001b[0;32m----> 2\u001b[0;31m \u001b[0mnp\u001b[0m\u001b[0;34m.\u001b[0m\u001b[0msplit\u001b[0m\u001b[0;34m(\u001b[0m\u001b[0marr\u001b[0m\u001b[0;34m,\u001b[0m \u001b[0;36m3\u001b[0m\u001b[0;34m)\u001b[0m\u001b[0;34m\u001b[0m\u001b[0;34m\u001b[0m\u001b[0m\n\u001b[0m\u001b[1;32m      3\u001b[0m '''\n\u001b[1;32m      4\u001b[0m \u001b[0mB\u001b[0m\u001b[0;34m.\u001b[0m\u001b[0;34m\u001b[0m\u001b[0;34m\u001b[0m\u001b[0m\n\u001b[1;32m      5\u001b[0m \u001b[0;34m\u001b[0m\u001b[0m\n",
            "\u001b[0;32m<__array_function__ internals>\u001b[0m in \u001b[0;36msplit\u001b[0;34m(*args, **kwargs)\u001b[0m\n",
            "\u001b[0;32m/usr/local/lib/python3.7/dist-packages/numpy/lib/shape_base.py\u001b[0m in \u001b[0;36msplit\u001b[0;34m(ary, indices_or_sections, axis)\u001b[0m\n\u001b[1;32m    871\u001b[0m         \u001b[0;32mif\u001b[0m \u001b[0mN\u001b[0m \u001b[0;34m%\u001b[0m \u001b[0msections\u001b[0m\u001b[0;34m:\u001b[0m\u001b[0;34m\u001b[0m\u001b[0;34m\u001b[0m\u001b[0m\n\u001b[1;32m    872\u001b[0m             raise ValueError(\n\u001b[0;32m--> 873\u001b[0;31m                 'array split does not result in an equal division') from None\n\u001b[0m\u001b[1;32m    874\u001b[0m     \u001b[0;32mreturn\u001b[0m \u001b[0marray_split\u001b[0m\u001b[0;34m(\u001b[0m\u001b[0mary\u001b[0m\u001b[0;34m,\u001b[0m \u001b[0mindices_or_sections\u001b[0m\u001b[0;34m,\u001b[0m \u001b[0maxis\u001b[0m\u001b[0;34m)\u001b[0m\u001b[0;34m\u001b[0m\u001b[0;34m\u001b[0m\u001b[0m\n\u001b[1;32m    875\u001b[0m \u001b[0;34m\u001b[0m\u001b[0m\n",
            "\u001b[0;31mValueError\u001b[0m: array split does not result in an equal division"
          ]
        }
      ]
    },
    {
      "cell_type": "code",
      "source": [
        "arr = np.arange(10)\n",
        "np.split(arr, 5)"
      ],
      "metadata": {
        "colab": {
          "base_uri": "https://localhost:8080/"
        },
        "id": "wbaZlLjZEVxI",
        "outputId": "476c3159-6486-4c45-9183-7d536afcf4c5"
      },
      "execution_count": null,
      "outputs": [
        {
          "output_type": "execute_result",
          "data": {
            "text/plain": [
              "[array([0, 1]), array([2, 3]), array([4, 5]), array([6, 7]), array([8, 9])]"
            ]
          },
          "metadata": {},
          "execution_count": 14
        }
      ]
    },
    {
      "cell_type": "code",
      "source": [
        "arr = np.arange(10)\n",
        "np.split(arr, [2,5])"
      ],
      "metadata": {
        "colab": {
          "base_uri": "https://localhost:8080/"
        },
        "id": "gmLEQXMdEYHt",
        "outputId": "41cb45f9-4dca-4e86-cf4a-193e213858ee"
      },
      "execution_count": null,
      "outputs": [
        {
          "output_type": "execute_result",
          "data": {
            "text/plain": [
              "[array([0, 1]), array([2, 3, 4]), array([5, 6, 7, 8, 9])]"
            ]
          },
          "metadata": {},
          "execution_count": 15
        }
      ]
    },
    {
      "cell_type": "code",
      "source": [
        "arr = np.arange(10)\n",
        "np.split(arr, [5, 12])"
      ],
      "metadata": {
        "colab": {
          "base_uri": "https://localhost:8080/"
        },
        "id": "RrP2axthEhze",
        "outputId": "1b3598fd-3d3b-46f4-9e2d-e2503afe9f01"
      },
      "execution_count": null,
      "outputs": [
        {
          "output_type": "execute_result",
          "data": {
            "text/plain": [
              "[array([0, 1, 2, 3, 4]), array([5, 6, 7, 8, 9]), array([], dtype=int64)]"
            ]
          },
          "metadata": {},
          "execution_count": 16
        }
      ]
    },
    {
      "cell_type": "code",
      "source": [
        "arr = np.arange(10)\n",
        "np.split(arr, 3)"
      ],
      "metadata": {
        "colab": {
          "base_uri": "https://localhost:8080/",
          "height": 339
        },
        "id": "_qSQcNCZEkHO",
        "outputId": "efc0ca0d-a2f5-4ee6-9dab-ee66ee25df60"
      },
      "execution_count": null,
      "outputs": [
        {
          "output_type": "error",
          "ename": "ValueError",
          "evalue": "ignored",
          "traceback": [
            "\u001b[0;31m---------------------------------------------------------------------------\u001b[0m",
            "\u001b[0;31mValueError\u001b[0m                                Traceback (most recent call last)",
            "\u001b[0;32m<ipython-input-17-7bc4b45e4143>\u001b[0m in \u001b[0;36m<module>\u001b[0;34m()\u001b[0m\n\u001b[1;32m      1\u001b[0m \u001b[0marr\u001b[0m \u001b[0;34m=\u001b[0m \u001b[0mnp\u001b[0m\u001b[0;34m.\u001b[0m\u001b[0marange\u001b[0m\u001b[0;34m(\u001b[0m\u001b[0;36m10\u001b[0m\u001b[0;34m)\u001b[0m\u001b[0;34m\u001b[0m\u001b[0;34m\u001b[0m\u001b[0m\n\u001b[0;32m----> 2\u001b[0;31m \u001b[0mnp\u001b[0m\u001b[0;34m.\u001b[0m\u001b[0msplit\u001b[0m\u001b[0;34m(\u001b[0m\u001b[0marr\u001b[0m\u001b[0;34m,\u001b[0m \u001b[0;36m3\u001b[0m\u001b[0;34m)\u001b[0m\u001b[0;34m\u001b[0m\u001b[0;34m\u001b[0m\u001b[0m\n\u001b[0m",
            "\u001b[0;32m<__array_function__ internals>\u001b[0m in \u001b[0;36msplit\u001b[0;34m(*args, **kwargs)\u001b[0m\n",
            "\u001b[0;32m/usr/local/lib/python3.7/dist-packages/numpy/lib/shape_base.py\u001b[0m in \u001b[0;36msplit\u001b[0;34m(ary, indices_or_sections, axis)\u001b[0m\n\u001b[1;32m    871\u001b[0m         \u001b[0;32mif\u001b[0m \u001b[0mN\u001b[0m \u001b[0;34m%\u001b[0m \u001b[0msections\u001b[0m\u001b[0;34m:\u001b[0m\u001b[0;34m\u001b[0m\u001b[0;34m\u001b[0m\u001b[0m\n\u001b[1;32m    872\u001b[0m             raise ValueError(\n\u001b[0;32m--> 873\u001b[0;31m                 'array split does not result in an equal division') from None\n\u001b[0m\u001b[1;32m    874\u001b[0m     \u001b[0;32mreturn\u001b[0m \u001b[0marray_split\u001b[0m\u001b[0;34m(\u001b[0m\u001b[0mary\u001b[0m\u001b[0;34m,\u001b[0m \u001b[0mindices_or_sections\u001b[0m\u001b[0;34m,\u001b[0m \u001b[0maxis\u001b[0m\u001b[0;34m)\u001b[0m\u001b[0;34m\u001b[0m\u001b[0;34m\u001b[0m\u001b[0m\n\u001b[1;32m    875\u001b[0m \u001b[0;34m\u001b[0m\u001b[0m\n",
            "\u001b[0;31mValueError\u001b[0m: array split does not result in an equal division"
          ]
        }
      ]
    },
    {
      "cell_type": "code",
      "source": [
        "a = np.array([100, 200, 300, 400])\n",
        "\n",
        "b = np.array([300, 200, 100, 400])\n",
        "\n",
        "print(a == b)"
      ],
      "metadata": {
        "colab": {
          "base_uri": "https://localhost:8080/"
        },
        "id": "WmoTl-cKK7vW",
        "outputId": "c3b660b7-7c23-432b-df92-77374e5b5ec6"
      },
      "execution_count": null,
      "outputs": [
        {
          "output_type": "stream",
          "name": "stdout",
          "text": [
            "[False  True False  True]\n"
          ]
        }
      ]
    },
    {
      "cell_type": "code",
      "source": [
        "a=np.array([[[ 0, 1, 2],\n",
        "        [ 3, 4, 5], \n",
        "        [ 6, 7, 8]], \n",
        "\n",
        "        [[ 9, 10, 11], \n",
        "         [12, 13, 14], \n",
        "         [15, 16, 17]]])"
      ],
      "metadata": {
        "id": "lDSXcxbSLEde"
      },
      "execution_count": null,
      "outputs": []
    },
    {
      "cell_type": "code",
      "source": [
        "a[1, :, :]"
      ],
      "metadata": {
        "colab": {
          "base_uri": "https://localhost:8080/"
        },
        "id": "YOzl8qxKLJQZ",
        "outputId": "28a12a1f-33d3-4044-9b44-f2176abc0aee"
      },
      "execution_count": null,
      "outputs": [
        {
          "output_type": "execute_result",
          "data": {
            "text/plain": [
              "array([[ 9, 10, 11],\n",
              "       [12, 13, 14],\n",
              "       [15, 16, 17]])"
            ]
          },
          "metadata": {},
          "execution_count": 21
        }
      ]
    },
    {
      "cell_type": "code",
      "source": [
        "arr = np.array([[[0, 1], \n",
        "             [2, 3]], \n",
        " \n",
        "            [[4, 5], \n",
        "             [6, 7]]])"
      ],
      "metadata": {
        "id": "U38xwLf7LWmP"
      },
      "execution_count": null,
      "outputs": []
    },
    {
      "cell_type": "code",
      "source": [
        "arr[:, 0:, :1]"
      ],
      "metadata": {
        "colab": {
          "base_uri": "https://localhost:8080/"
        },
        "id": "rY100RY0LYJL",
        "outputId": "c959c7d9-07e9-41de-e149-6f0f6d935474"
      },
      "execution_count": null,
      "outputs": [
        {
          "output_type": "execute_result",
          "data": {
            "text/plain": [
              "array([[[0],\n",
              "        [2]],\n",
              "\n",
              "       [[4],\n",
              "        [6]]])"
            ]
          },
          "metadata": {},
          "execution_count": 23
        }
      ]
    },
    {
      "cell_type": "code",
      "source": [
        "a=np.array([[[ 0, 0, 0],\n",
        " [ 0, 0, 0],\n",
        " [ 0, 0, 0],\n",
        " [ 0, 0, 0]],\n",
        "[[ 0, 0, 255],\n",
        " [255, 255, 255],\n",
        " [ 0, 0, 0],\n",
        " [255, 0, 0]]])\n",
        "b = [255,0,255]\n",
        "c = np.all(a==b,axis=1)\n",
        "print(c)"
      ],
      "metadata": {
        "colab": {
          "base_uri": "https://localhost:8080/"
        },
        "id": "cyaCKmxBMi2g",
        "outputId": "1fa697d2-ab95-4417-ec2f-0b9f5fa89b1e"
      },
      "execution_count": null,
      "outputs": [
        {
          "output_type": "stream",
          "name": "stdout",
          "text": [
            "[[False  True False]\n",
            " [False False False]]\n"
          ]
        }
      ]
    },
    {
      "cell_type": "code",
      "source": [
        "import numpy as np\n",
        "X = np.arange(12).reshape((3, 4))\n",
        "row = np.array([0, 1, 2])\n",
        "mask = np.array([1, 0, 1, 0], dtype=bool)\n",
        "print(X[row[:, np.newaxis], mask])"
      ],
      "metadata": {
        "colab": {
          "base_uri": "https://localhost:8080/"
        },
        "id": "z-MkYsd8NQ6I",
        "outputId": "14a90d07-f803-4339-ad4c-85500970c1ba"
      },
      "execution_count": null,
      "outputs": [
        {
          "output_type": "stream",
          "name": "stdout",
          "text": [
            "[[ 0  2]\n",
            " [ 4  6]\n",
            " [ 8 10]]\n"
          ]
        }
      ]
    },
    {
      "cell_type": "code",
      "source": [
        "arr= np.array([[2,3,4,5],[1,7,3,5],[2,8,6,9],[11,23,12,19]])\n",
        "\n",
        "\n",
        "a. arr1= np.array([[2,2,2,2]])\n",
        "    def func(x,y):\n",
        "          return x*y\n",
        "    vec= np.vectorize(func)\n",
        "    vec(arr,arr1)\n",
        "\n",
        "b. arr1= np.array([[2],[2],[2],[2]])\n",
        "    def func(x,y):\n",
        "         return x*y\n",
        "    vec= np.vectorize(func)\n",
        "    vec(arr,arr1)\n",
        "\n",
        "\n",
        "c. arr1= 2   \n",
        "   def func(x,y):\n",
        "        return x*y\n",
        "   vec= np.vectorize(func)\n",
        "   vec(arr,arr1)\n",
        "\n",
        "Expected output:\n",
        "\n",
        "\n",
        "array ([[4,6,8,10],\n",
        "        [2,14,6,10],\n",
        "        [4,16,12,18],\n",
        "        [22,46,24,38]])"
      ],
      "metadata": {
        "id": "0ill4k-JOa-o"
      },
      "execution_count": null,
      "outputs": []
    },
    {
      "cell_type": "code",
      "source": [
        "arr= np.array([[2,3,4,5],[1,7,3,5],[2,8,6,9],[11,23,12,19]])\n",
        "arr1= np.array([[2,2,2,2]])\n",
        "\n",
        "def func(x,y):\n",
        "    return x*y\n",
        "vec= np.vectorize(func)\n",
        "vec(arr,arr1)"
      ],
      "metadata": {
        "colab": {
          "base_uri": "https://localhost:8080/"
        },
        "id": "7sn0qnUiOc9m",
        "outputId": "64bbb684-579e-48b2-ed87-03bff3fe4539"
      },
      "execution_count": null,
      "outputs": [
        {
          "output_type": "execute_result",
          "data": {
            "text/plain": [
              "array([[ 4,  6,  8, 10],\n",
              "       [ 2, 14,  6, 10],\n",
              "       [ 4, 16, 12, 18],\n",
              "       [22, 46, 24, 38]])"
            ]
          },
          "metadata": {},
          "execution_count": 26
        }
      ]
    },
    {
      "cell_type": "code",
      "source": [
        "arr= np.array([[2,3,4,5],[1,7,3,5],[2,8,6,9],[11,23,12,19]])\n",
        "\n",
        "arr1= np.array([[2],[2],[2],[2]])\n",
        "def func(x,y):\n",
        "  return x*y\n",
        "vec= np.vectorize(func)\n",
        "vec(arr,arr1)"
      ],
      "metadata": {
        "colab": {
          "base_uri": "https://localhost:8080/"
        },
        "id": "vhJGb2L0OyfZ",
        "outputId": "f46150da-cc20-4d5b-d497-c6fd3db32479"
      },
      "execution_count": null,
      "outputs": [
        {
          "output_type": "execute_result",
          "data": {
            "text/plain": [
              "array([[ 4,  6,  8, 10],\n",
              "       [ 2, 14,  6, 10],\n",
              "       [ 4, 16, 12, 18],\n",
              "       [22, 46, 24, 38]])"
            ]
          },
          "metadata": {},
          "execution_count": 27
        }
      ]
    },
    {
      "cell_type": "code",
      "source": [
        "arr= np.array([[2,3,4,5],[1,7,3,5],[2,8,6,9],[11,23,12,19]])\n",
        "arr1= 2   \n",
        "def func(x,y):\n",
        "  return x*y\n",
        "vec= np.vectorize(func)\n",
        "vec(arr,arr1)"
      ],
      "metadata": {
        "colab": {
          "base_uri": "https://localhost:8080/"
        },
        "id": "lLvzKGywO8Ht",
        "outputId": "cdfa18bc-8f97-42de-f205-1e630226edaf"
      },
      "execution_count": null,
      "outputs": [
        {
          "output_type": "execute_result",
          "data": {
            "text/plain": [
              "array([[ 4,  6,  8, 10],\n",
              "       [ 2, 14,  6, 10],\n",
              "       [ 4, 16, 12, 18],\n",
              "       [22, 46, 24, 38]])"
            ]
          },
          "metadata": {},
          "execution_count": 28
        }
      ]
    },
    {
      "cell_type": "code",
      "source": [
        "arr1 = np.array([1,2,3])\n",
        "arr2 = np.array([9,8,7])\n",
        "np.dot(arr1, arr2)\n",
        "B.\n",
        "\n",
        "arr1 = np.array([[1,2], [3,4]])\n",
        "arr2 = np.array([[1], [2]])\n",
        "np.dot(arr1, arr2)\n",
        "C.\n",
        "\n",
        "arr1 = np.array([1,2,3])\n",
        "k = 3\n",
        "np.dot(arr1, k)\n",
        "D.\n",
        "\n",
        "arr1 = np.array([[1,2], [3,4]])\n",
        "arr2 = np.array([1,1])\n",
        "np.dot(arr1, arr2)"
      ],
      "metadata": {
        "id": "TVCMo6cvPxjT"
      },
      "execution_count": null,
      "outputs": []
    },
    {
      "cell_type": "code",
      "source": [
        "arr1 = np.array([[1,2], [3,4]])\n",
        "arr2 = np.array([1,1])\n",
        "np.dot(arr1, arr2)"
      ],
      "metadata": {
        "colab": {
          "base_uri": "https://localhost:8080/"
        },
        "id": "uk4t6BMaP3Cf",
        "outputId": "1634729d-0af3-430c-bcdd-bb8d91bc4222"
      },
      "execution_count": null,
      "outputs": [
        {
          "output_type": "execute_result",
          "data": {
            "text/plain": [
              "array([3, 7])"
            ]
          },
          "metadata": {},
          "execution_count": 36
        }
      ]
    },
    {
      "cell_type": "code",
      "source": [
        "import matplotlib.pyplot as plt\n",
        "\n",
        "img=plt.imread(\"dog.jpeg\")\n",
        "plt.imshow(img)"
      ],
      "metadata": {
        "colab": {
          "base_uri": "https://localhost:8080/",
          "height": 286
        },
        "id": "XnJBivak0dTV",
        "outputId": "ad60c011-9b78-4c92-d2f1-861f0fa1ab73"
      },
      "execution_count": null,
      "outputs": [
        {
          "output_type": "execute_result",
          "data": {
            "text/plain": [
              "<matplotlib.image.AxesImage at 0x7f516f7e1f50>"
            ]
          },
          "metadata": {},
          "execution_count": 1
        },
        {
          "output_type": "display_data",
          "data": {
            "text/plain": [
              "<Figure size 432x288 with 1 Axes>"
            ],
            "image/png": "[encoded data removed]"
          },
          "metadata": {
            "needs_background": "light"
          }
        }
      ]
    },
    {
      "cell_type": "code",
      "source": [
        "plt.imshow(img[:,::-1,:])"
      ],
      "metadata": {
        "colab": {
          "base_uri": "https://localhost:8080/",
          "height": 286
        },
        "id": "0Nwz_L4_01NQ",
        "outputId": "c708c536-25ad-4752-e5b1-cbff25f5b8ed"
      },
      "execution_count": null,
      "outputs": [
        {
          "output_type": "execute_result",
          "data": {
            "text/plain": [
              "<matplotlib.image.AxesImage at 0x7f516e1fa610>"
            ]
          },
          "metadata": {},
          "execution_count": 4
        },
        {
          "output_type": "display_data",
          "data": {
            "text/plain": [
              "<Figure size 432x288 with 1 Axes>"
            ],
            "image/png": "[encoded data removed]"
          },
          "metadata": {
            "needs_background": "light"
          }
        }
      ]
    },
    {
      "cell_type": "code",
      "source": [],
      "metadata": {
        "id": "Kn0YU2R4Ty2E"
      },
      "execution_count": null,
      "outputs": []
    },
    {
      "cell_type": "code",
      "source": [],
      "metadata": {
        "id": "km_qo5p0Tyx1"
      },
      "execution_count": null,
      "outputs": []
    },
    {
      "cell_type": "code",
      "source": [],
      "metadata": {
        "id": "XEpWZgeaTysw"
      },
      "execution_count": null,
      "outputs": []
    },
    {
      "cell_type": "code",
      "source": [],
      "metadata": {
        "id": "Y5JvfOwQTyoE"
      },
      "execution_count": null,
      "outputs": []
    },
    {
      "cell_type": "code",
      "source": [],
      "metadata": {
        "id": "khVNXSRFTyh8"
      },
      "execution_count": null,
      "outputs": []
    },
    {
      "cell_type": "code",
      "source": [],
      "metadata": {
        "id": "xanRCV5wTycz"
      },
      "execution_count": null,
      "outputs": []
    },
    {
      "cell_type": "code",
      "source": [],
      "metadata": {
        "id": "SRLoHUdTTyYP"
      },
      "execution_count": null,
      "outputs": []
    },
    {
      "cell_type": "code",
      "source": [],
      "metadata": {
        "id": "mO8_fEA8TyRr"
      },
      "execution_count": null,
      "outputs": []
    },
    {
      "cell_type": "code",
      "source": [],
      "metadata": {
        "id": "W9FGwz_CTyLR"
      },
      "execution_count": null,
      "outputs": []
    }
  ]
}