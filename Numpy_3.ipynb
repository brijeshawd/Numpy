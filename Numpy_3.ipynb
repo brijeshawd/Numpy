{
  "cells": [
    {
      "cell_type": "code",
      "execution_count": null,
      "id": "7164a3ae",
      "metadata": {
        "id": "7164a3ae"
      },
      "outputs": [],
      "source": [
        "#Concatenate"
      ]
    },
    {
      "cell_type": "code",
      "execution_count": null,
      "id": "bf883ecd",
      "metadata": {
        "id": "bf883ecd"
      },
      "outputs": [],
      "source": [
        "import numpy as np"
      ]
    },
    {
      "cell_type": "code",
      "execution_count": null,
      "id": "3a500256",
      "metadata": {
        "id": "3a500256",
        "outputId": "c2034395-9cd9-4ca3-d443-94693179546f"
      },
      "outputs": [
        {
          "name": "stdout",
          "output_type": "stream",
          "text": [
            "[1 2 3 4]\n",
            "[1 2 3 4]\n"
          ]
        }
      ],
      "source": [
        "#1D array\n",
        "\n",
        "d=np.arange(1,5)\n",
        "e=np.arange(1,5)\n",
        "\n",
        "print(d)\n",
        "print(e)"
      ]
    },
    {
      "cell_type": "code",
      "execution_count": null,
      "id": "f28e5c4e",
      "metadata": {
        "id": "f28e5c4e",
        "outputId": "652a7b20-6bd6-483e-a121-db075e652de4"
      },
      "outputs": [
        {
          "name": "stdout",
          "output_type": "stream",
          "text": [
            "(4,)\n",
            "1\n"
          ]
        }
      ],
      "source": [
        "print(d.shape)\n",
        "print(d.ndim)"
      ]
    },
    {
      "cell_type": "code",
      "execution_count": null,
      "id": "a5ba3a3d",
      "metadata": {
        "id": "a5ba3a3d",
        "outputId": "22bc1520-5273-402f-da05-b16e8ce4d478"
      },
      "outputs": [
        {
          "data": {
            "text/plain": [
              "array([1, 2, 3, 4, 1, 2, 3, 4])"
            ]
          },
          "execution_count": 6,
          "metadata": {},
          "output_type": "execute_result"
        }
      ],
      "source": [
        "np.concatenate([d,e])"
      ]
    },
    {
      "cell_type": "code",
      "execution_count": null,
      "id": "ce4c08da",
      "metadata": {
        "id": "ce4c08da",
        "outputId": "19662f47-7c2f-478a-fa3a-d7919914b64f"
      },
      "outputs": [
        {
          "ename": "AxisError",
          "evalue": "axis 1 is out of bounds for array of dimension 1",
          "output_type": "error",
          "traceback": [
            "\u001b[0;31m---------------------------------------------------------------------------\u001b[0m",
            "\u001b[0;31mAxisError\u001b[0m                                 Traceback (most recent call last)",
            "\u001b[0;32m/var/folders/hd/9z4dczb56dj54lb7q8w7s4zw0000gn/T/ipykernel_75109/1668449446.py\u001b[0m in \u001b[0;36m<module>\u001b[0;34m\u001b[0m\n\u001b[0;32m----> 1\u001b[0;31m \u001b[0mnp\u001b[0m\u001b[0;34m.\u001b[0m\u001b[0mconcatenate\u001b[0m\u001b[0;34m(\u001b[0m\u001b[0;34m[\u001b[0m\u001b[0md\u001b[0m\u001b[0;34m,\u001b[0m\u001b[0me\u001b[0m\u001b[0;34m]\u001b[0m\u001b[0;34m,\u001b[0m\u001b[0maxis\u001b[0m\u001b[0;34m=\u001b[0m\u001b[0;36m1\u001b[0m\u001b[0;34m)\u001b[0m\u001b[0;34m\u001b[0m\u001b[0;34m\u001b[0m\u001b[0m\n\u001b[0m",
            "\u001b[0;32m<__array_function__ internals>\u001b[0m in \u001b[0;36mconcatenate\u001b[0;34m(*args, **kwargs)\u001b[0m\n",
            "\u001b[0;31mAxisError\u001b[0m: axis 1 is out of bounds for array of dimension 1"
          ]
        }
      ],
      "source": [
        "np.concatenate([d,e],axis=1)"
      ]
    },
    {
      "cell_type": "code",
      "execution_count": null,
      "id": "40640597",
      "metadata": {
        "id": "40640597",
        "outputId": "728849ed-0e07-446e-ee4b-ec61146a5375"
      },
      "outputs": [
        {
          "data": {
            "text/plain": [
              "array([1, 2, 3, 4, 1, 2, 3, 4])"
            ]
          },
          "execution_count": 8,
          "metadata": {},
          "output_type": "execute_result"
        }
      ],
      "source": [
        "np.concatenate([d,e],axis=0)"
      ]
    },
    {
      "cell_type": "code",
      "execution_count": null,
      "id": "27ac8171",
      "metadata": {
        "id": "27ac8171"
      },
      "outputs": [],
      "source": []
    },
    {
      "cell_type": "code",
      "execution_count": null,
      "id": "f02f9ea7",
      "metadata": {
        "id": "f02f9ea7",
        "outputId": "e167b408-f187-4df9-f865-55adb18b6d3e"
      },
      "outputs": [
        {
          "name": "stdout",
          "output_type": "stream",
          "text": [
            "[[1 2 3 4]]\n",
            "(1, 4)\n",
            "2\n",
            "[[1 2 3 4]]\n",
            "(1, 4)\n",
            "2\n"
          ]
        }
      ],
      "source": [
        "#2D arrays\n",
        "d=np.arange(1,5).reshape((1,4))\n",
        "e=np.arange(1,5).reshape((1,4))\n",
        "\n",
        "print(d)\n",
        "\n",
        "print(d.shape)\n",
        "print(d.ndim)\n",
        "\n",
        "print(e)\n",
        "\n",
        "print(e.shape)\n",
        "print(e.ndim)"
      ]
    },
    {
      "cell_type": "code",
      "execution_count": null,
      "id": "69564eb0",
      "metadata": {
        "id": "69564eb0",
        "outputId": "51e3068f-ad0e-43b9-94e4-ae090146d062"
      },
      "outputs": [
        {
          "data": {
            "text/plain": [
              "array([[1, 2, 3, 4],\n",
              "       [1, 2, 3, 4]])"
            ]
          },
          "execution_count": 10,
          "metadata": {},
          "output_type": "execute_result"
        }
      ],
      "source": [
        "# default axis=0\n",
        "np.concatenate([d,e])"
      ]
    },
    {
      "cell_type": "code",
      "execution_count": null,
      "id": "06860c31",
      "metadata": {
        "id": "06860c31",
        "outputId": "ec5b5084-728d-4e73-81d7-aa51a418363a"
      },
      "outputs": [
        {
          "data": {
            "text/plain": [
              "array([[1, 2, 3, 4],\n",
              "       [1, 2, 3, 4]])"
            ]
          },
          "execution_count": 11,
          "metadata": {},
          "output_type": "execute_result"
        }
      ],
      "source": [
        "np.concatenate([d,e],axis=0)"
      ]
    },
    {
      "cell_type": "code",
      "execution_count": null,
      "id": "29e35e61",
      "metadata": {
        "id": "29e35e61",
        "outputId": "110ae88d-76e4-40de-a168-dec7134ce877"
      },
      "outputs": [
        {
          "data": {
            "text/plain": [
              "array([[1, 2, 3, 4, 1, 2, 3, 4]])"
            ]
          },
          "execution_count": 12,
          "metadata": {},
          "output_type": "execute_result"
        }
      ],
      "source": [
        "np.concatenate([d,e],axis=1)"
      ]
    },
    {
      "cell_type": "code",
      "execution_count": null,
      "id": "d9660d91",
      "metadata": {
        "id": "d9660d91"
      },
      "outputs": [],
      "source": [
        "# 2D arrays with m rows and n columns\n",
        "d=np.arange(1,13).reshape((3,4))\n",
        "e=np.arange(1,13).reshape((3,4))"
      ]
    },
    {
      "cell_type": "code",
      "execution_count": null,
      "id": "db48736e",
      "metadata": {
        "id": "db48736e",
        "outputId": "d9458fbf-0f8d-4307-a0fb-83718b30a4f5"
      },
      "outputs": [
        {
          "data": {
            "text/plain": [
              "array([[ 1,  2,  3,  4],\n",
              "       [ 5,  6,  7,  8],\n",
              "       [ 9, 10, 11, 12],\n",
              "       [ 1,  2,  3,  4],\n",
              "       [ 5,  6,  7,  8],\n",
              "       [ 9, 10, 11, 12]])"
            ]
          },
          "execution_count": 14,
          "metadata": {},
          "output_type": "execute_result"
        }
      ],
      "source": [
        "np.concatenate([d,e])"
      ]
    },
    {
      "cell_type": "code",
      "execution_count": null,
      "id": "707a9528",
      "metadata": {
        "id": "707a9528",
        "outputId": "67f26035-3711-4d5f-d690-32f4cf11c080"
      },
      "outputs": [
        {
          "data": {
            "text/plain": [
              "array([[ 1,  2,  3,  4],\n",
              "       [ 5,  6,  7,  8],\n",
              "       [ 9, 10, 11, 12],\n",
              "       [ 1,  2,  3,  4],\n",
              "       [ 5,  6,  7,  8],\n",
              "       [ 9, 10, 11, 12]])"
            ]
          },
          "execution_count": 15,
          "metadata": {},
          "output_type": "execute_result"
        }
      ],
      "source": [
        "np.concatenate([d,e],axis=0)"
      ]
    },
    {
      "cell_type": "code",
      "execution_count": null,
      "id": "6292bc10",
      "metadata": {
        "id": "6292bc10",
        "outputId": "019a12f5-a6a5-4200-d586-480441d47a00"
      },
      "outputs": [
        {
          "data": {
            "text/plain": [
              "array([[ 1,  2,  3,  4,  1,  2,  3,  4],\n",
              "       [ 5,  6,  7,  8,  5,  6,  7,  8],\n",
              "       [ 9, 10, 11, 12,  9, 10, 11, 12]])"
            ]
          },
          "execution_count": 16,
          "metadata": {},
          "output_type": "execute_result"
        }
      ],
      "source": [
        "np.concatenate([d,e],axis=1)"
      ]
    },
    {
      "cell_type": "code",
      "execution_count": null,
      "id": "0be84d39",
      "metadata": {
        "id": "0be84d39"
      },
      "outputs": [],
      "source": []
    },
    {
      "cell_type": "code",
      "execution_count": null,
      "id": "52414888",
      "metadata": {
        "id": "52414888",
        "outputId": "5822126a-1afd-4194-b5d4-af79671dffad"
      },
      "outputs": [
        {
          "name": "stdout",
          "output_type": "stream",
          "text": [
            "[[ 1  2  3  4]\n",
            " [ 5  6  7  8]\n",
            " [ 9 10 11 12]]\n",
            "(3, 4)\n",
            "2\n",
            "--------------------------------------------------\n",
            "[[1 2 3 4]]\n",
            "(1, 4)\n",
            "2\n"
          ]
        }
      ],
      "source": [
        "d=np.arange(1,13).reshape((3,4))\n",
        "e=np.arange(1,5).reshape((1,4))\n",
        "print(d)\n",
        "\n",
        "print(d.shape)\n",
        "print(d.ndim)\n",
        "print(\"-\"*50)\n",
        "print(e)\n",
        "\n",
        "print(e.shape)\n",
        "print(e.ndim)"
      ]
    },
    {
      "cell_type": "code",
      "execution_count": null,
      "id": "6b0f9475",
      "metadata": {
        "id": "6b0f9475",
        "outputId": "1aef08cc-de77-44ee-ba6f-47b0f02cf4f5"
      },
      "outputs": [
        {
          "data": {
            "text/plain": [
              "array([[ 1,  2,  3,  4],\n",
              "       [ 5,  6,  7,  8],\n",
              "       [ 9, 10, 11, 12],\n",
              "       [ 1,  2,  3,  4]])"
            ]
          },
          "execution_count": 18,
          "metadata": {},
          "output_type": "execute_result"
        }
      ],
      "source": [
        "np.concatenate([d,e])"
      ]
    },
    {
      "cell_type": "code",
      "execution_count": null,
      "id": "d24d6e83",
      "metadata": {
        "id": "d24d6e83",
        "outputId": "5f272260-24e1-4254-854c-1e213049ec99"
      },
      "outputs": [
        {
          "ename": "ValueError",
          "evalue": "all the input array dimensions for the concatenation axis must match exactly, but along dimension 0, the array at index 0 has size 3 and the array at index 1 has size 1",
          "output_type": "error",
          "traceback": [
            "\u001b[0;31m---------------------------------------------------------------------------\u001b[0m",
            "\u001b[0;31mValueError\u001b[0m                                Traceback (most recent call last)",
            "\u001b[0;32m/var/folders/hd/9z4dczb56dj54lb7q8w7s4zw0000gn/T/ipykernel_75109/1668449446.py\u001b[0m in \u001b[0;36m<module>\u001b[0;34m\u001b[0m\n\u001b[0;32m----> 1\u001b[0;31m \u001b[0mnp\u001b[0m\u001b[0;34m.\u001b[0m\u001b[0mconcatenate\u001b[0m\u001b[0;34m(\u001b[0m\u001b[0;34m[\u001b[0m\u001b[0md\u001b[0m\u001b[0;34m,\u001b[0m\u001b[0me\u001b[0m\u001b[0;34m]\u001b[0m\u001b[0;34m,\u001b[0m\u001b[0maxis\u001b[0m\u001b[0;34m=\u001b[0m\u001b[0;36m1\u001b[0m\u001b[0;34m)\u001b[0m\u001b[0;34m\u001b[0m\u001b[0;34m\u001b[0m\u001b[0m\n\u001b[0m",
            "\u001b[0;32m<__array_function__ internals>\u001b[0m in \u001b[0;36mconcatenate\u001b[0;34m(*args, **kwargs)\u001b[0m\n",
            "\u001b[0;31mValueError\u001b[0m: all the input array dimensions for the concatenation axis must match exactly, but along dimension 0, the array at index 0 has size 3 and the array at index 1 has size 1"
          ]
        }
      ],
      "source": [
        "np.concatenate([d,e],axis=1)"
      ]
    },
    {
      "cell_type": "code",
      "execution_count": null,
      "id": "16e3ff52",
      "metadata": {
        "id": "16e3ff52",
        "outputId": "bb9cf1f1-35d6-4890-d2ed-492fc67d01d6"
      },
      "outputs": [
        {
          "name": "stdout",
          "output_type": "stream",
          "text": [
            "[[ 1  2  3  4]\n",
            " [ 5  6  7  8]\n",
            " [ 9 10 11 12]]\n",
            "(3, 4)\n",
            "2\n",
            "--------------------------------------------------\n",
            "[1 2 3 4]\n",
            "(4,)\n",
            "1\n"
          ]
        }
      ],
      "source": [
        "d=np.arange(1,13).reshape((3,4))\n",
        "e=np.arange(1,5)\n",
        "print(d)\n",
        "\n",
        "print(d.shape)\n",
        "print(d.ndim)\n",
        "print(\"-\"*50)\n",
        "print(e)\n",
        "\n",
        "print(e.shape)\n",
        "print(e.ndim)"
      ]
    },
    {
      "cell_type": "code",
      "execution_count": null,
      "id": "400dfd54",
      "metadata": {
        "id": "400dfd54",
        "outputId": "948a66d8-94f5-4c54-c63d-d002066dbabc"
      },
      "outputs": [
        {
          "ename": "ValueError",
          "evalue": "all the input arrays must have same number of dimensions, but the array at index 0 has 2 dimension(s) and the array at index 1 has 1 dimension(s)",
          "output_type": "error",
          "traceback": [
            "\u001b[0;31m---------------------------------------------------------------------------\u001b[0m",
            "\u001b[0;31mValueError\u001b[0m                                Traceback (most recent call last)",
            "\u001b[0;32m/var/folders/hd/9z4dczb56dj54lb7q8w7s4zw0000gn/T/ipykernel_75109/236814901.py\u001b[0m in \u001b[0;36m<module>\u001b[0;34m\u001b[0m\n\u001b[0;32m----> 1\u001b[0;31m \u001b[0mnp\u001b[0m\u001b[0;34m.\u001b[0m\u001b[0mconcatenate\u001b[0m\u001b[0;34m(\u001b[0m\u001b[0;34m[\u001b[0m\u001b[0md\u001b[0m\u001b[0;34m,\u001b[0m\u001b[0me\u001b[0m\u001b[0;34m]\u001b[0m\u001b[0;34m,\u001b[0m\u001b[0maxis\u001b[0m\u001b[0;34m=\u001b[0m\u001b[0;36m0\u001b[0m\u001b[0;34m)\u001b[0m\u001b[0;34m\u001b[0m\u001b[0;34m\u001b[0m\u001b[0m\n\u001b[0m",
            "\u001b[0;32m<__array_function__ internals>\u001b[0m in \u001b[0;36mconcatenate\u001b[0;34m(*args, **kwargs)\u001b[0m\n",
            "\u001b[0;31mValueError\u001b[0m: all the input arrays must have same number of dimensions, but the array at index 0 has 2 dimension(s) and the array at index 1 has 1 dimension(s)"
          ]
        }
      ],
      "source": [
        "np.concatenate([d,e],axis=0)"
      ]
    },
    {
      "cell_type": "code",
      "execution_count": null,
      "id": "d66f59b2",
      "metadata": {
        "id": "d66f59b2",
        "outputId": "894b4ab0-332b-45e6-dd00-29ba6ccb5689"
      },
      "outputs": [
        {
          "ename": "ValueError",
          "evalue": "all the input arrays must have same number of dimensions, but the array at index 0 has 2 dimension(s) and the array at index 1 has 1 dimension(s)",
          "output_type": "error",
          "traceback": [
            "\u001b[0;31m---------------------------------------------------------------------------\u001b[0m",
            "\u001b[0;31mValueError\u001b[0m                                Traceback (most recent call last)",
            "\u001b[0;32m/var/folders/hd/9z4dczb56dj54lb7q8w7s4zw0000gn/T/ipykernel_75109/1668449446.py\u001b[0m in \u001b[0;36m<module>\u001b[0;34m\u001b[0m\n\u001b[0;32m----> 1\u001b[0;31m \u001b[0mnp\u001b[0m\u001b[0;34m.\u001b[0m\u001b[0mconcatenate\u001b[0m\u001b[0;34m(\u001b[0m\u001b[0;34m[\u001b[0m\u001b[0md\u001b[0m\u001b[0;34m,\u001b[0m\u001b[0me\u001b[0m\u001b[0;34m]\u001b[0m\u001b[0;34m,\u001b[0m\u001b[0maxis\u001b[0m\u001b[0;34m=\u001b[0m\u001b[0;36m1\u001b[0m\u001b[0;34m)\u001b[0m\u001b[0;34m\u001b[0m\u001b[0;34m\u001b[0m\u001b[0m\n\u001b[0m",
            "\u001b[0;32m<__array_function__ internals>\u001b[0m in \u001b[0;36mconcatenate\u001b[0;34m(*args, **kwargs)\u001b[0m\n",
            "\u001b[0;31mValueError\u001b[0m: all the input arrays must have same number of dimensions, but the array at index 0 has 2 dimension(s) and the array at index 1 has 1 dimension(s)"
          ]
        }
      ],
      "source": [
        "np.concatenate([d,e],axis=1)"
      ]
    },
    {
      "cell_type": "code",
      "execution_count": null,
      "id": "b47d5168",
      "metadata": {
        "id": "b47d5168"
      },
      "outputs": [],
      "source": [
        "d=np.arange(1,13).reshape((3,4))\n",
        "e=np.arange(1,5).reshape((1,4))\n",
        "print(d)\n",
        "\n",
        "print(d.shape)\n",
        "print(d.ndim)\n",
        "print(\"-\"*50)\n",
        "print(e)\n",
        "\n",
        "print(e.shape)\n",
        "print(e.ndim)"
      ]
    },
    {
      "cell_type": "code",
      "execution_count": null,
      "id": "bf5d5c99",
      "metadata": {
        "id": "bf5d5c99",
        "outputId": "6d1faa6d-9c3c-4816-ba42-5da27ace13cf"
      },
      "outputs": [
        {
          "name": "stdout",
          "output_type": "stream",
          "text": [
            "[[ 1  2  3]\n",
            " [ 4  5  6]\n",
            " [ 7  8  9]\n",
            " [10 11 12]]\n",
            "(4, 3)\n",
            "2\n",
            "--------------------------------------------------\n",
            "[[1]\n",
            " [2]\n",
            " [3]\n",
            " [4]]\n",
            "(4, 1)\n",
            "2\n"
          ]
        }
      ],
      "source": [
        "d=np.arange(1,13).reshape((4,3))\n",
        "e=np.arange(1,5).reshape((4,1))\n",
        "print(d)\n",
        "\n",
        "print(d.shape)\n",
        "print(d.ndim)\n",
        "print(\"-\"*50)\n",
        "print(e)\n",
        "\n",
        "print(e.shape)\n",
        "print(e.ndim)"
      ]
    },
    {
      "cell_type": "code",
      "execution_count": null,
      "id": "84071a1a",
      "metadata": {
        "id": "84071a1a",
        "outputId": "59788291-60dd-4c5a-f88e-d41d63e8cd5f"
      },
      "outputs": [
        {
          "ename": "ValueError",
          "evalue": "all the input array dimensions for the concatenation axis must match exactly, but along dimension 1, the array at index 0 has size 3 and the array at index 1 has size 1",
          "output_type": "error",
          "traceback": [
            "\u001b[0;31m---------------------------------------------------------------------------\u001b[0m",
            "\u001b[0;31mValueError\u001b[0m                                Traceback (most recent call last)",
            "\u001b[0;32m/var/folders/hd/9z4dczb56dj54lb7q8w7s4zw0000gn/T/ipykernel_75109/236814901.py\u001b[0m in \u001b[0;36m<module>\u001b[0;34m\u001b[0m\n\u001b[0;32m----> 1\u001b[0;31m \u001b[0mnp\u001b[0m\u001b[0;34m.\u001b[0m\u001b[0mconcatenate\u001b[0m\u001b[0;34m(\u001b[0m\u001b[0;34m[\u001b[0m\u001b[0md\u001b[0m\u001b[0;34m,\u001b[0m\u001b[0me\u001b[0m\u001b[0;34m]\u001b[0m\u001b[0;34m,\u001b[0m\u001b[0maxis\u001b[0m\u001b[0;34m=\u001b[0m\u001b[0;36m0\u001b[0m\u001b[0;34m)\u001b[0m\u001b[0;34m\u001b[0m\u001b[0;34m\u001b[0m\u001b[0m\n\u001b[0m",
            "\u001b[0;32m<__array_function__ internals>\u001b[0m in \u001b[0;36mconcatenate\u001b[0;34m(*args, **kwargs)\u001b[0m\n",
            "\u001b[0;31mValueError\u001b[0m: all the input array dimensions for the concatenation axis must match exactly, but along dimension 1, the array at index 0 has size 3 and the array at index 1 has size 1"
          ]
        }
      ],
      "source": [
        "np.concatenate([d,e],axis=0)"
      ]
    },
    {
      "cell_type": "code",
      "execution_count": null,
      "id": "978124d5",
      "metadata": {
        "id": "978124d5",
        "outputId": "6eef6f81-43f6-489a-bd00-536cc51b8854"
      },
      "outputs": [
        {
          "data": {
            "text/plain": [
              "array([[ 1,  2,  3,  1],\n",
              "       [ 4,  5,  6,  2],\n",
              "       [ 7,  8,  9,  3],\n",
              "       [10, 11, 12,  4]])"
            ]
          },
          "execution_count": 26,
          "metadata": {},
          "output_type": "execute_result"
        }
      ],
      "source": [
        "np.concatenate([d,e],axis=1)"
      ]
    },
    {
      "cell_type": "code",
      "execution_count": null,
      "id": "068c45e5",
      "metadata": {
        "id": "068c45e5"
      },
      "outputs": [],
      "source": [
        "# stacking"
      ]
    },
    {
      "cell_type": "code",
      "execution_count": null,
      "id": "9d691114",
      "metadata": {
        "id": "9d691114",
        "outputId": "4b55d38d-976b-437b-dab3-c4f2f68cc2e8"
      },
      "outputs": [
        {
          "name": "stdout",
          "output_type": "stream",
          "text": [
            "[1 2 3 4]\n",
            "(4,)\n",
            "1\n",
            "--------------------------------------------------\n",
            "[1 2 3 4]\n",
            "(4,)\n",
            "1\n"
          ]
        }
      ],
      "source": [
        "d=np.arange(1,5)\n",
        "e=np.arange(1,5)\n",
        "print(d)\n",
        "print(d.shape)\n",
        "print(d.ndim)\n",
        "print(\"-\"*50)\n",
        "print(e)\n",
        "\n",
        "print(e.shape)\n",
        "print(e.ndim)"
      ]
    },
    {
      "cell_type": "code",
      "execution_count": null,
      "id": "31fa5a4a",
      "metadata": {
        "id": "31fa5a4a",
        "outputId": "ec7027cb-38fb-4562-e0af-428273f691cd"
      },
      "outputs": [
        {
          "data": {
            "text/plain": [
              "array([1, 2, 3, 4, 1, 2, 3, 4])"
            ]
          },
          "execution_count": 29,
          "metadata": {},
          "output_type": "execute_result"
        }
      ],
      "source": [
        "np.hstack([d,e])"
      ]
    },
    {
      "cell_type": "code",
      "execution_count": null,
      "id": "48be318d",
      "metadata": {
        "id": "48be318d",
        "outputId": "e7e23b91-f458-4c99-d9e8-273db5ed0ffb"
      },
      "outputs": [
        {
          "data": {
            "text/plain": [
              "array([[1, 2, 3, 4],\n",
              "       [1, 2, 3, 4]])"
            ]
          },
          "execution_count": 30,
          "metadata": {},
          "output_type": "execute_result"
        }
      ],
      "source": [
        "np.vstack([d,e])"
      ]
    },
    {
      "cell_type": "code",
      "execution_count": null,
      "id": "940a99ab",
      "metadata": {
        "id": "940a99ab",
        "outputId": "937b64f0-b05b-4c19-fcfa-3ef8b8e46011"
      },
      "outputs": [
        {
          "name": "stdout",
          "output_type": "stream",
          "text": [
            "[[1 2 3 4]]\n",
            "(1, 4)\n",
            "2\n",
            "--------------------------------------------------\n",
            "[[1 2 3 4]]\n",
            "(1, 4)\n",
            "2\n"
          ]
        }
      ],
      "source": [
        "d=np.arange(1,5).reshape((1,4))\n",
        "e=np.arange(1,5).reshape((1,4))\n",
        "print(d)\n",
        "print(d.shape)\n",
        "print(d.ndim)\n",
        "print(\"-\"*50)\n",
        "print(e)\n",
        "\n",
        "print(e.shape)\n",
        "print(e.ndim)"
      ]
    },
    {
      "cell_type": "code",
      "execution_count": null,
      "id": "7582cc8b",
      "metadata": {
        "id": "7582cc8b",
        "outputId": "4fcb9c29-c0f0-4ee5-d112-02318a87393a"
      },
      "outputs": [
        {
          "data": {
            "text/plain": [
              "array([[1, 2, 3, 4, 1, 2, 3, 4]])"
            ]
          },
          "execution_count": 32,
          "metadata": {},
          "output_type": "execute_result"
        }
      ],
      "source": [
        "np.hstack([d,e])"
      ]
    },
    {
      "cell_type": "code",
      "execution_count": null,
      "id": "b9117389",
      "metadata": {
        "id": "b9117389",
        "outputId": "ea52a49e-72f4-414e-f117-9b9a3f63daa1"
      },
      "outputs": [
        {
          "data": {
            "text/plain": [
              "array([[1, 2, 3, 4],\n",
              "       [1, 2, 3, 4]])"
            ]
          },
          "execution_count": 33,
          "metadata": {},
          "output_type": "execute_result"
        }
      ],
      "source": [
        "np.vstack([d,e])"
      ]
    },
    {
      "cell_type": "code",
      "execution_count": null,
      "id": "d4bdf330",
      "metadata": {
        "id": "d4bdf330",
        "outputId": "3f7b3b8e-d09f-40e5-ec1d-0bb295440926"
      },
      "outputs": [
        {
          "name": "stdout",
          "output_type": "stream",
          "text": [
            "[[ 1  2  3  4]\n",
            " [ 5  6  7  8]\n",
            " [ 9 10 11 12]]\n",
            "(3, 4)\n",
            "2\n",
            "--------------------------------------------------\n",
            "[[ 2  3  4  5]\n",
            " [ 6  7  8  9]\n",
            " [10 11 12 13]]\n",
            "(3, 4)\n",
            "2\n"
          ]
        }
      ],
      "source": [
        "# 2D arrays with m rows and n columns\n",
        "d=np.arange(1,13).reshape((3,4))\n",
        "e=np.arange(2,14).reshape((3,4))\n",
        "print(d)\n",
        "print(d.shape)\n",
        "print(d.ndim)\n",
        "print(\"-\"*50)\n",
        "print(e)\n",
        "\n",
        "print(e.shape)\n",
        "print(e.ndim)"
      ]
    },
    {
      "cell_type": "code",
      "execution_count": null,
      "id": "45720fc5",
      "metadata": {
        "id": "45720fc5",
        "outputId": "6e087117-ceee-46cf-c364-ce688cf2784e"
      },
      "outputs": [
        {
          "data": {
            "text/plain": [
              "array([[ 1,  2,  3,  4,  2,  3,  4,  5],\n",
              "       [ 5,  6,  7,  8,  6,  7,  8,  9],\n",
              "       [ 9, 10, 11, 12, 10, 11, 12, 13]])"
            ]
          },
          "execution_count": 38,
          "metadata": {},
          "output_type": "execute_result"
        }
      ],
      "source": [
        "np.hstack([d,e])"
      ]
    },
    {
      "cell_type": "code",
      "execution_count": null,
      "id": "261b69f4",
      "metadata": {
        "id": "261b69f4",
        "outputId": "ee65c2e9-b8aa-4d23-a4f1-6a66a618f4da"
      },
      "outputs": [
        {
          "data": {
            "text/plain": [
              "array([[ 1,  2,  3,  4],\n",
              "       [ 5,  6,  7,  8],\n",
              "       [ 9, 10, 11, 12],\n",
              "       [ 2,  3,  4,  5],\n",
              "       [ 6,  7,  8,  9],\n",
              "       [10, 11, 12, 13]])"
            ]
          },
          "execution_count": 39,
          "metadata": {},
          "output_type": "execute_result"
        }
      ],
      "source": [
        "np.vstack([d,e])"
      ]
    },
    {
      "cell_type": "code",
      "execution_count": null,
      "id": "e59bdcc9",
      "metadata": {
        "id": "e59bdcc9",
        "outputId": "b0226efb-f25a-40c3-aa83-47bf69bb72eb"
      },
      "outputs": [
        {
          "name": "stdout",
          "output_type": "stream",
          "text": [
            "[[ 1  2  3  4]\n",
            " [ 5  6  7  8]\n",
            " [ 9 10 11 12]]\n",
            "(3, 4)\n",
            "2\n",
            "--------------------------------------------------\n",
            "[1 2 3 4]\n",
            "(4,)\n",
            "1\n"
          ]
        }
      ],
      "source": [
        "d=np.arange(1,13).reshape((3,4))\n",
        "e=np.arange(1,5)\n",
        "print(d)\n",
        "print(d.shape)\n",
        "print(d.ndim)\n",
        "print(\"-\"*50)\n",
        "print(e)\n",
        "\n",
        "print(e.shape)\n",
        "print(e.ndim)"
      ]
    },
    {
      "cell_type": "code",
      "execution_count": null,
      "id": "06528c3f",
      "metadata": {
        "id": "06528c3f",
        "outputId": "8c55d0f7-20de-4ccc-afe1-df88f618a84c"
      },
      "outputs": [
        {
          "ename": "ValueError",
          "evalue": "all the input arrays must have same number of dimensions, but the array at index 0 has 2 dimension(s) and the array at index 1 has 1 dimension(s)",
          "output_type": "error",
          "traceback": [
            "\u001b[0;31m---------------------------------------------------------------------------\u001b[0m",
            "\u001b[0;31mValueError\u001b[0m                                Traceback (most recent call last)",
            "\u001b[0;32m/var/folders/hd/9z4dczb56dj54lb7q8w7s4zw0000gn/T/ipykernel_75109/1454330102.py\u001b[0m in \u001b[0;36m<module>\u001b[0;34m\u001b[0m\n\u001b[0;32m----> 1\u001b[0;31m \u001b[0mnp\u001b[0m\u001b[0;34m.\u001b[0m\u001b[0mhstack\u001b[0m\u001b[0;34m(\u001b[0m\u001b[0;34m[\u001b[0m\u001b[0md\u001b[0m\u001b[0;34m,\u001b[0m\u001b[0me\u001b[0m\u001b[0;34m]\u001b[0m\u001b[0;34m)\u001b[0m\u001b[0;34m\u001b[0m\u001b[0;34m\u001b[0m\u001b[0m\n\u001b[0m",
            "\u001b[0;32m<__array_function__ internals>\u001b[0m in \u001b[0;36mhstack\u001b[0;34m(*args, **kwargs)\u001b[0m\n",
            "\u001b[0;32m~/opt/anaconda3/lib/python3.9/site-packages/numpy/core/shape_base.py\u001b[0m in \u001b[0;36mhstack\u001b[0;34m(tup)\u001b[0m\n\u001b[1;32m    344\u001b[0m         \u001b[0;32mreturn\u001b[0m \u001b[0m_nx\u001b[0m\u001b[0;34m.\u001b[0m\u001b[0mconcatenate\u001b[0m\u001b[0;34m(\u001b[0m\u001b[0marrs\u001b[0m\u001b[0;34m,\u001b[0m \u001b[0;36m0\u001b[0m\u001b[0;34m)\u001b[0m\u001b[0;34m\u001b[0m\u001b[0;34m\u001b[0m\u001b[0m\n\u001b[1;32m    345\u001b[0m     \u001b[0;32melse\u001b[0m\u001b[0;34m:\u001b[0m\u001b[0;34m\u001b[0m\u001b[0;34m\u001b[0m\u001b[0m\n\u001b[0;32m--> 346\u001b[0;31m         \u001b[0;32mreturn\u001b[0m \u001b[0m_nx\u001b[0m\u001b[0;34m.\u001b[0m\u001b[0mconcatenate\u001b[0m\u001b[0;34m(\u001b[0m\u001b[0marrs\u001b[0m\u001b[0;34m,\u001b[0m \u001b[0;36m1\u001b[0m\u001b[0;34m)\u001b[0m\u001b[0;34m\u001b[0m\u001b[0;34m\u001b[0m\u001b[0m\n\u001b[0m\u001b[1;32m    347\u001b[0m \u001b[0;34m\u001b[0m\u001b[0m\n\u001b[1;32m    348\u001b[0m \u001b[0;34m\u001b[0m\u001b[0m\n",
            "\u001b[0;32m<__array_function__ internals>\u001b[0m in \u001b[0;36mconcatenate\u001b[0;34m(*args, **kwargs)\u001b[0m\n",
            "\u001b[0;31mValueError\u001b[0m: all the input arrays must have same number of dimensions, but the array at index 0 has 2 dimension(s) and the array at index 1 has 1 dimension(s)"
          ]
        }
      ],
      "source": [
        "np.hstack([d,e])"
      ]
    },
    {
      "cell_type": "code",
      "execution_count": null,
      "id": "2c01baee",
      "metadata": {
        "id": "2c01baee",
        "outputId": "4847f6e2-6b7d-48f1-ebb9-6ba5e7ae9c56"
      },
      "outputs": [
        {
          "data": {
            "text/plain": [
              "array([[ 1,  2,  3,  4],\n",
              "       [ 5,  6,  7,  8],\n",
              "       [ 9, 10, 11, 12],\n",
              "       [ 1,  2,  3,  4]])"
            ]
          },
          "execution_count": 42,
          "metadata": {},
          "output_type": "execute_result"
        }
      ],
      "source": [
        "np.vstack([d,e])"
      ]
    },
    {
      "cell_type": "code",
      "execution_count": null,
      "id": "617c4b1d",
      "metadata": {
        "id": "617c4b1d",
        "outputId": "42019a07-50ca-4d17-a85f-cdd6266ba874"
      },
      "outputs": [
        {
          "name": "stdout",
          "output_type": "stream",
          "text": [
            "[[ 1  2  3  4]\n",
            " [ 5  6  7  8]\n",
            " [ 9 10 11 12]]\n",
            "(3, 4)\n",
            "2\n",
            "--------------------------------------------------\n",
            "[[1]\n",
            " [2]\n",
            " [3]]\n",
            "(3, 1)\n",
            "2\n"
          ]
        }
      ],
      "source": [
        "d=np.arange(1,13).reshape((3,4))\n",
        "e=np.arange(1,4).reshape((3,1))\n",
        "print(d)\n",
        "print(d.shape)\n",
        "print(d.ndim)\n",
        "print(\"-\"*50)\n",
        "print(e)\n",
        "\n",
        "print(e.shape)\n",
        "print(e.ndim)"
      ]
    },
    {
      "cell_type": "code",
      "execution_count": null,
      "id": "5c9a0bf7",
      "metadata": {
        "id": "5c9a0bf7",
        "outputId": "dfbc0020-135e-4d7c-9e12-fd099aa25155"
      },
      "outputs": [
        {
          "data": {
            "text/plain": [
              "array([[ 1,  2,  3,  4,  1],\n",
              "       [ 5,  6,  7,  8,  2],\n",
              "       [ 9, 10, 11, 12,  3]])"
            ]
          },
          "execution_count": 45,
          "metadata": {},
          "output_type": "execute_result"
        }
      ],
      "source": [
        "np.hstack([d,e])"
      ]
    },
    {
      "cell_type": "code",
      "execution_count": null,
      "id": "8cc7df93",
      "metadata": {
        "id": "8cc7df93",
        "outputId": "12aef3f6-cc78-491b-f194-f8b3b461c93b"
      },
      "outputs": [
        {
          "ename": "ValueError",
          "evalue": "all the input array dimensions for the concatenation axis must match exactly, but along dimension 1, the array at index 0 has size 4 and the array at index 1 has size 1",
          "output_type": "error",
          "traceback": [
            "\u001b[0;31m---------------------------------------------------------------------------\u001b[0m",
            "\u001b[0;31mValueError\u001b[0m                                Traceback (most recent call last)",
            "\u001b[0;32m/var/folders/hd/9z4dczb56dj54lb7q8w7s4zw0000gn/T/ipykernel_75109/824376596.py\u001b[0m in \u001b[0;36m<module>\u001b[0;34m\u001b[0m\n\u001b[0;32m----> 1\u001b[0;31m \u001b[0mnp\u001b[0m\u001b[0;34m.\u001b[0m\u001b[0mvstack\u001b[0m\u001b[0;34m(\u001b[0m\u001b[0;34m[\u001b[0m\u001b[0md\u001b[0m\u001b[0;34m,\u001b[0m\u001b[0me\u001b[0m\u001b[0;34m]\u001b[0m\u001b[0;34m)\u001b[0m\u001b[0;34m\u001b[0m\u001b[0;34m\u001b[0m\u001b[0m\n\u001b[0m",
            "\u001b[0;32m<__array_function__ internals>\u001b[0m in \u001b[0;36mvstack\u001b[0;34m(*args, **kwargs)\u001b[0m\n",
            "\u001b[0;32m~/opt/anaconda3/lib/python3.9/site-packages/numpy/core/shape_base.py\u001b[0m in \u001b[0;36mvstack\u001b[0;34m(tup)\u001b[0m\n\u001b[1;32m    281\u001b[0m     \u001b[0;32mif\u001b[0m \u001b[0;32mnot\u001b[0m \u001b[0misinstance\u001b[0m\u001b[0;34m(\u001b[0m\u001b[0marrs\u001b[0m\u001b[0;34m,\u001b[0m \u001b[0mlist\u001b[0m\u001b[0;34m)\u001b[0m\u001b[0;34m:\u001b[0m\u001b[0;34m\u001b[0m\u001b[0;34m\u001b[0m\u001b[0m\n\u001b[1;32m    282\u001b[0m         \u001b[0marrs\u001b[0m \u001b[0;34m=\u001b[0m \u001b[0;34m[\u001b[0m\u001b[0marrs\u001b[0m\u001b[0;34m]\u001b[0m\u001b[0;34m\u001b[0m\u001b[0;34m\u001b[0m\u001b[0m\n\u001b[0;32m--> 283\u001b[0;31m     \u001b[0;32mreturn\u001b[0m \u001b[0m_nx\u001b[0m\u001b[0;34m.\u001b[0m\u001b[0mconcatenate\u001b[0m\u001b[0;34m(\u001b[0m\u001b[0marrs\u001b[0m\u001b[0;34m,\u001b[0m \u001b[0;36m0\u001b[0m\u001b[0;34m)\u001b[0m\u001b[0;34m\u001b[0m\u001b[0;34m\u001b[0m\u001b[0m\n\u001b[0m\u001b[1;32m    284\u001b[0m \u001b[0;34m\u001b[0m\u001b[0m\n\u001b[1;32m    285\u001b[0m \u001b[0;34m\u001b[0m\u001b[0m\n",
            "\u001b[0;32m<__array_function__ internals>\u001b[0m in \u001b[0;36mconcatenate\u001b[0;34m(*args, **kwargs)\u001b[0m\n",
            "\u001b[0;31mValueError\u001b[0m: all the input array dimensions for the concatenation axis must match exactly, but along dimension 1, the array at index 0 has size 4 and the array at index 1 has size 1"
          ]
        }
      ],
      "source": [
        "np.vstack([d,e])"
      ]
    },
    {
      "cell_type": "code",
      "execution_count": null,
      "id": "27e6aa07",
      "metadata": {
        "id": "27e6aa07"
      },
      "outputs": [],
      "source": []
    },
    {
      "cell_type": "code",
      "execution_count": null,
      "id": "d8f942d5",
      "metadata": {
        "id": "d8f942d5",
        "outputId": "98aa9a3f-9a8e-4efc-fa8b-e7a78428aa8d"
      },
      "outputs": [
        {
          "name": "stdout",
          "output_type": "stream",
          "text": [
            "[[ 1  2  3  4]\n",
            " [ 5  6  7  8]\n",
            " [ 9 10 11 12]]\n",
            "(3, 4)\n",
            "2\n",
            "--------------------------------------------------\n",
            "[[1 2 3 4]]\n",
            "(1, 4)\n",
            "2\n"
          ]
        }
      ],
      "source": [
        "d=np.arange(1,13).reshape((3,4))\n",
        "e=np.arange(1,5).reshape((1,4))\n",
        "print(d)\n",
        "print(d.shape)\n",
        "print(d.ndim)\n",
        "print(\"-\"*50)\n",
        "print(e)\n",
        "\n",
        "print(e.shape)\n",
        "print(e.ndim)"
      ]
    },
    {
      "cell_type": "code",
      "execution_count": null,
      "id": "74a7fe4a",
      "metadata": {
        "id": "74a7fe4a",
        "outputId": "4b4829ad-e6af-48aa-be71-c07143749306"
      },
      "outputs": [
        {
          "ename": "ValueError",
          "evalue": "all the input array dimensions for the concatenation axis must match exactly, but along dimension 0, the array at index 0 has size 3 and the array at index 1 has size 1",
          "output_type": "error",
          "traceback": [
            "\u001b[0;31m---------------------------------------------------------------------------\u001b[0m",
            "\u001b[0;31mValueError\u001b[0m                                Traceback (most recent call last)",
            "\u001b[0;32m/var/folders/hd/9z4dczb56dj54lb7q8w7s4zw0000gn/T/ipykernel_75109/1454330102.py\u001b[0m in \u001b[0;36m<module>\u001b[0;34m\u001b[0m\n\u001b[0;32m----> 1\u001b[0;31m \u001b[0mnp\u001b[0m\u001b[0;34m.\u001b[0m\u001b[0mhstack\u001b[0m\u001b[0;34m(\u001b[0m\u001b[0;34m[\u001b[0m\u001b[0md\u001b[0m\u001b[0;34m,\u001b[0m\u001b[0me\u001b[0m\u001b[0;34m]\u001b[0m\u001b[0;34m)\u001b[0m\u001b[0;34m\u001b[0m\u001b[0;34m\u001b[0m\u001b[0m\n\u001b[0m",
            "\u001b[0;32m<__array_function__ internals>\u001b[0m in \u001b[0;36mhstack\u001b[0;34m(*args, **kwargs)\u001b[0m\n",
            "\u001b[0;32m~/opt/anaconda3/lib/python3.9/site-packages/numpy/core/shape_base.py\u001b[0m in \u001b[0;36mhstack\u001b[0;34m(tup)\u001b[0m\n\u001b[1;32m    344\u001b[0m         \u001b[0;32mreturn\u001b[0m \u001b[0m_nx\u001b[0m\u001b[0;34m.\u001b[0m\u001b[0mconcatenate\u001b[0m\u001b[0;34m(\u001b[0m\u001b[0marrs\u001b[0m\u001b[0;34m,\u001b[0m \u001b[0;36m0\u001b[0m\u001b[0;34m)\u001b[0m\u001b[0;34m\u001b[0m\u001b[0;34m\u001b[0m\u001b[0m\n\u001b[1;32m    345\u001b[0m     \u001b[0;32melse\u001b[0m\u001b[0;34m:\u001b[0m\u001b[0;34m\u001b[0m\u001b[0;34m\u001b[0m\u001b[0m\n\u001b[0;32m--> 346\u001b[0;31m         \u001b[0;32mreturn\u001b[0m \u001b[0m_nx\u001b[0m\u001b[0;34m.\u001b[0m\u001b[0mconcatenate\u001b[0m\u001b[0;34m(\u001b[0m\u001b[0marrs\u001b[0m\u001b[0;34m,\u001b[0m \u001b[0;36m1\u001b[0m\u001b[0;34m)\u001b[0m\u001b[0;34m\u001b[0m\u001b[0;34m\u001b[0m\u001b[0m\n\u001b[0m\u001b[1;32m    347\u001b[0m \u001b[0;34m\u001b[0m\u001b[0m\n\u001b[1;32m    348\u001b[0m \u001b[0;34m\u001b[0m\u001b[0m\n",
            "\u001b[0;32m<__array_function__ internals>\u001b[0m in \u001b[0;36mconcatenate\u001b[0;34m(*args, **kwargs)\u001b[0m\n",
            "\u001b[0;31mValueError\u001b[0m: all the input array dimensions for the concatenation axis must match exactly, but along dimension 0, the array at index 0 has size 3 and the array at index 1 has size 1"
          ]
        }
      ],
      "source": [
        "np.hstack([d,e])"
      ]
    },
    {
      "cell_type": "code",
      "execution_count": null,
      "id": "4008ac44",
      "metadata": {
        "id": "4008ac44",
        "outputId": "efc92b26-aefe-40a9-9720-2910aedd70be"
      },
      "outputs": [
        {
          "data": {
            "text/plain": [
              "array([[ 1,  2,  3,  4],\n",
              "       [ 5,  6,  7,  8],\n",
              "       [ 9, 10, 11, 12],\n",
              "       [ 1,  2,  3,  4]])"
            ]
          },
          "execution_count": 49,
          "metadata": {},
          "output_type": "execute_result"
        }
      ],
      "source": [
        "np.vstack([d,e])"
      ]
    },
    {
      "cell_type": "code",
      "execution_count": null,
      "id": "9d881d26",
      "metadata": {
        "id": "9d881d26",
        "outputId": "dbd33387-bd79-4b85-9ff2-aea973314c65"
      },
      "outputs": [
        {
          "name": "stdout",
          "output_type": "stream",
          "text": [
            "[[ 1  2  3  4]\n",
            " [ 5  6  7  8]\n",
            " [ 9 10 11 12]]\n",
            "(3, 4)\n",
            "2\n",
            "--------------------------------------------------\n",
            "[[ 1  2  3  4  5]\n",
            " [ 6  7  8  9 10]]\n",
            "(2, 5)\n",
            "2\n"
          ]
        }
      ],
      "source": [
        "d=np.arange(1,13).reshape((3,4))\n",
        "e=np.arange(1,11).reshape((2,5))\n",
        "print(d)\n",
        "print(d.shape)\n",
        "print(d.ndim)\n",
        "print(\"-\"*50)\n",
        "print(e)\n",
        "\n",
        "print(e.shape)\n",
        "print(e.ndim)"
      ]
    },
    {
      "cell_type": "code",
      "execution_count": null,
      "id": "8ecd1352",
      "metadata": {
        "id": "8ecd1352",
        "outputId": "d750904b-5430-43c6-e141-9f173a973971"
      },
      "outputs": [
        {
          "ename": "ValueError",
          "evalue": "all the input array dimensions for the concatenation axis must match exactly, but along dimension 0, the array at index 0 has size 3 and the array at index 1 has size 2",
          "output_type": "error",
          "traceback": [
            "\u001b[0;31m---------------------------------------------------------------------------\u001b[0m",
            "\u001b[0;31mValueError\u001b[0m                                Traceback (most recent call last)",
            "\u001b[0;32m/var/folders/hd/9z4dczb56dj54lb7q8w7s4zw0000gn/T/ipykernel_75109/1454330102.py\u001b[0m in \u001b[0;36m<module>\u001b[0;34m\u001b[0m\n\u001b[0;32m----> 1\u001b[0;31m \u001b[0mnp\u001b[0m\u001b[0;34m.\u001b[0m\u001b[0mhstack\u001b[0m\u001b[0;34m(\u001b[0m\u001b[0;34m[\u001b[0m\u001b[0md\u001b[0m\u001b[0;34m,\u001b[0m\u001b[0me\u001b[0m\u001b[0;34m]\u001b[0m\u001b[0;34m)\u001b[0m\u001b[0;34m\u001b[0m\u001b[0;34m\u001b[0m\u001b[0m\n\u001b[0m",
            "\u001b[0;32m<__array_function__ internals>\u001b[0m in \u001b[0;36mhstack\u001b[0;34m(*args, **kwargs)\u001b[0m\n",
            "\u001b[0;32m~/opt/anaconda3/lib/python3.9/site-packages/numpy/core/shape_base.py\u001b[0m in \u001b[0;36mhstack\u001b[0;34m(tup)\u001b[0m\n\u001b[1;32m    344\u001b[0m         \u001b[0;32mreturn\u001b[0m \u001b[0m_nx\u001b[0m\u001b[0;34m.\u001b[0m\u001b[0mconcatenate\u001b[0m\u001b[0;34m(\u001b[0m\u001b[0marrs\u001b[0m\u001b[0;34m,\u001b[0m \u001b[0;36m0\u001b[0m\u001b[0;34m)\u001b[0m\u001b[0;34m\u001b[0m\u001b[0;34m\u001b[0m\u001b[0m\n\u001b[1;32m    345\u001b[0m     \u001b[0;32melse\u001b[0m\u001b[0;34m:\u001b[0m\u001b[0;34m\u001b[0m\u001b[0;34m\u001b[0m\u001b[0m\n\u001b[0;32m--> 346\u001b[0;31m         \u001b[0;32mreturn\u001b[0m \u001b[0m_nx\u001b[0m\u001b[0;34m.\u001b[0m\u001b[0mconcatenate\u001b[0m\u001b[0;34m(\u001b[0m\u001b[0marrs\u001b[0m\u001b[0;34m,\u001b[0m \u001b[0;36m1\u001b[0m\u001b[0;34m)\u001b[0m\u001b[0;34m\u001b[0m\u001b[0;34m\u001b[0m\u001b[0m\n\u001b[0m\u001b[1;32m    347\u001b[0m \u001b[0;34m\u001b[0m\u001b[0m\n\u001b[1;32m    348\u001b[0m \u001b[0;34m\u001b[0m\u001b[0m\n",
            "\u001b[0;32m<__array_function__ internals>\u001b[0m in \u001b[0;36mconcatenate\u001b[0;34m(*args, **kwargs)\u001b[0m\n",
            "\u001b[0;31mValueError\u001b[0m: all the input array dimensions for the concatenation axis must match exactly, but along dimension 0, the array at index 0 has size 3 and the array at index 1 has size 2"
          ]
        }
      ],
      "source": [
        "np.hstack([d,e])"
      ]
    },
    {
      "cell_type": "code",
      "execution_count": null,
      "id": "953bf402",
      "metadata": {
        "id": "953bf402",
        "outputId": "dc6ca280-cec7-41ad-8be4-7eab1911cf8b"
      },
      "outputs": [
        {
          "ename": "ValueError",
          "evalue": "all the input array dimensions for the concatenation axis must match exactly, but along dimension 1, the array at index 0 has size 4 and the array at index 1 has size 5",
          "output_type": "error",
          "traceback": [
            "\u001b[0;31m---------------------------------------------------------------------------\u001b[0m",
            "\u001b[0;31mValueError\u001b[0m                                Traceback (most recent call last)",
            "\u001b[0;32m/var/folders/hd/9z4dczb56dj54lb7q8w7s4zw0000gn/T/ipykernel_75109/824376596.py\u001b[0m in \u001b[0;36m<module>\u001b[0;34m\u001b[0m\n\u001b[0;32m----> 1\u001b[0;31m \u001b[0mnp\u001b[0m\u001b[0;34m.\u001b[0m\u001b[0mvstack\u001b[0m\u001b[0;34m(\u001b[0m\u001b[0;34m[\u001b[0m\u001b[0md\u001b[0m\u001b[0;34m,\u001b[0m\u001b[0me\u001b[0m\u001b[0;34m]\u001b[0m\u001b[0;34m)\u001b[0m\u001b[0;34m\u001b[0m\u001b[0;34m\u001b[0m\u001b[0m\n\u001b[0m",
            "\u001b[0;32m<__array_function__ internals>\u001b[0m in \u001b[0;36mvstack\u001b[0;34m(*args, **kwargs)\u001b[0m\n",
            "\u001b[0;32m~/opt/anaconda3/lib/python3.9/site-packages/numpy/core/shape_base.py\u001b[0m in \u001b[0;36mvstack\u001b[0;34m(tup)\u001b[0m\n\u001b[1;32m    281\u001b[0m     \u001b[0;32mif\u001b[0m \u001b[0;32mnot\u001b[0m \u001b[0misinstance\u001b[0m\u001b[0;34m(\u001b[0m\u001b[0marrs\u001b[0m\u001b[0;34m,\u001b[0m \u001b[0mlist\u001b[0m\u001b[0;34m)\u001b[0m\u001b[0;34m:\u001b[0m\u001b[0;34m\u001b[0m\u001b[0;34m\u001b[0m\u001b[0m\n\u001b[1;32m    282\u001b[0m         \u001b[0marrs\u001b[0m \u001b[0;34m=\u001b[0m \u001b[0;34m[\u001b[0m\u001b[0marrs\u001b[0m\u001b[0;34m]\u001b[0m\u001b[0;34m\u001b[0m\u001b[0;34m\u001b[0m\u001b[0m\n\u001b[0;32m--> 283\u001b[0;31m     \u001b[0;32mreturn\u001b[0m \u001b[0m_nx\u001b[0m\u001b[0;34m.\u001b[0m\u001b[0mconcatenate\u001b[0m\u001b[0;34m(\u001b[0m\u001b[0marrs\u001b[0m\u001b[0;34m,\u001b[0m \u001b[0;36m0\u001b[0m\u001b[0;34m)\u001b[0m\u001b[0;34m\u001b[0m\u001b[0;34m\u001b[0m\u001b[0m\n\u001b[0m\u001b[1;32m    284\u001b[0m \u001b[0;34m\u001b[0m\u001b[0m\n\u001b[1;32m    285\u001b[0m \u001b[0;34m\u001b[0m\u001b[0m\n",
            "\u001b[0;32m<__array_function__ internals>\u001b[0m in \u001b[0;36mconcatenate\u001b[0;34m(*args, **kwargs)\u001b[0m\n",
            "\u001b[0;31mValueError\u001b[0m: all the input array dimensions for the concatenation axis must match exactly, but along dimension 1, the array at index 0 has size 4 and the array at index 1 has size 5"
          ]
        }
      ],
      "source": [
        "np.vstack([d,e])"
      ]
    },
    {
      "cell_type": "code",
      "execution_count": null,
      "id": "41ace0f4",
      "metadata": {
        "id": "41ace0f4"
      },
      "outputs": [],
      "source": [
        "#Splitting\n",
        "import numpy as np"
      ]
    },
    {
      "cell_type": "code",
      "execution_count": null,
      "id": "ee79238b",
      "metadata": {
        "id": "ee79238b",
        "outputId": "c501566e-a008-4a7a-f6a9-ec583611b765",
        "colab": {
          "base_uri": "https://localhost:8080/"
        }
      },
      "outputs": [
        {
          "output_type": "stream",
          "name": "stdout",
          "text": [
            "[ 1  2  3  4  5  6  7  8  9 10 11 12]\n"
          ]
        }
      ],
      "source": [
        "d=np.arange(1,13)\n",
        "print(d)"
      ]
    },
    {
      "cell_type": "code",
      "execution_count": null,
      "id": "1f465988",
      "metadata": {
        "id": "1f465988",
        "outputId": "7b7ce7a3-6501-4cf9-d190-54f901bf12bc"
      },
      "outputs": [
        {
          "data": {
            "text/plain": [
              "[array([1, 2, 3, 4]), array([5, 6, 7, 8]), array([ 9, 10, 11, 12])]"
            ]
          },
          "execution_count": 57,
          "metadata": {},
          "output_type": "execute_result"
        }
      ],
      "source": [
        "np.split(d,3)"
      ]
    },
    {
      "cell_type": "code",
      "execution_count": null,
      "id": "f921a373",
      "metadata": {
        "id": "f921a373",
        "outputId": "51097fb6-7060-41c1-bfc7-a34833d09c23"
      },
      "outputs": [
        {
          "ename": "ValueError",
          "evalue": "array split does not result in an equal division",
          "output_type": "error",
          "traceback": [
            "\u001b[0;31m---------------------------------------------------------------------------\u001b[0m",
            "\u001b[0;31mValueError\u001b[0m                                Traceback (most recent call last)",
            "\u001b[0;32m/var/folders/hd/9z4dczb56dj54lb7q8w7s4zw0000gn/T/ipykernel_75109/660958536.py\u001b[0m in \u001b[0;36m<module>\u001b[0;34m\u001b[0m\n\u001b[0;32m----> 1\u001b[0;31m \u001b[0mnp\u001b[0m\u001b[0;34m.\u001b[0m\u001b[0msplit\u001b[0m\u001b[0;34m(\u001b[0m\u001b[0md\u001b[0m\u001b[0;34m,\u001b[0m\u001b[0;36m5\u001b[0m\u001b[0;34m)\u001b[0m\u001b[0;34m\u001b[0m\u001b[0;34m\u001b[0m\u001b[0m\n\u001b[0m",
            "\u001b[0;32m<__array_function__ internals>\u001b[0m in \u001b[0;36msplit\u001b[0;34m(*args, **kwargs)\u001b[0m\n",
            "\u001b[0;32m~/opt/anaconda3/lib/python3.9/site-packages/numpy/lib/shape_base.py\u001b[0m in \u001b[0;36msplit\u001b[0;34m(ary, indices_or_sections, axis)\u001b[0m\n\u001b[1;32m    870\u001b[0m         \u001b[0mN\u001b[0m \u001b[0;34m=\u001b[0m \u001b[0mary\u001b[0m\u001b[0;34m.\u001b[0m\u001b[0mshape\u001b[0m\u001b[0;34m[\u001b[0m\u001b[0maxis\u001b[0m\u001b[0;34m]\u001b[0m\u001b[0;34m\u001b[0m\u001b[0;34m\u001b[0m\u001b[0m\n\u001b[1;32m    871\u001b[0m         \u001b[0;32mif\u001b[0m \u001b[0mN\u001b[0m \u001b[0;34m%\u001b[0m \u001b[0msections\u001b[0m\u001b[0;34m:\u001b[0m\u001b[0;34m\u001b[0m\u001b[0;34m\u001b[0m\u001b[0m\n\u001b[0;32m--> 872\u001b[0;31m             raise ValueError(\n\u001b[0m\u001b[1;32m    873\u001b[0m                 'array split does not result in an equal division') from None\n\u001b[1;32m    874\u001b[0m     \u001b[0;32mreturn\u001b[0m \u001b[0marray_split\u001b[0m\u001b[0;34m(\u001b[0m\u001b[0mary\u001b[0m\u001b[0;34m,\u001b[0m \u001b[0mindices_or_sections\u001b[0m\u001b[0;34m,\u001b[0m \u001b[0maxis\u001b[0m\u001b[0;34m)\u001b[0m\u001b[0;34m\u001b[0m\u001b[0;34m\u001b[0m\u001b[0m\n",
            "\u001b[0;31mValueError\u001b[0m: array split does not result in an equal division"
          ]
        }
      ],
      "source": [
        "np.split(d,5)\n"
      ]
    },
    {
      "cell_type": "code",
      "execution_count": null,
      "id": "a6b62fad",
      "metadata": {
        "id": "a6b62fad",
        "outputId": "9e874720-7e9a-402c-9b8f-cd1dd30eceb2"
      },
      "outputs": [
        {
          "data": {
            "text/plain": [
              "[array([1, 2, 3, 4, 5, 6]), array([ 7,  8,  9, 10, 11, 12])]"
            ]
          },
          "execution_count": 59,
          "metadata": {},
          "output_type": "execute_result"
        }
      ],
      "source": [
        "np.split(d,2)"
      ]
    },
    {
      "cell_type": "code",
      "execution_count": null,
      "id": "265f42f5",
      "metadata": {
        "id": "265f42f5",
        "outputId": "ae621b5c-30ad-4974-cf52-504e9e8bcc5a"
      },
      "outputs": [
        {
          "data": {
            "text/plain": [
              "[array([1, 2, 3]), array([4, 5, 6]), array([7, 8, 9]), array([10, 11, 12])]"
            ]
          },
          "execution_count": 60,
          "metadata": {},
          "output_type": "execute_result"
        }
      ],
      "source": [
        "np.split(d,4)"
      ]
    },
    {
      "cell_type": "code",
      "execution_count": null,
      "id": "4b3cf2da",
      "metadata": {
        "id": "4b3cf2da",
        "outputId": "760a393b-9139-47e4-d3b1-9d96ddfa5731"
      },
      "outputs": [
        {
          "data": {
            "text/plain": [
              "[array([1, 2]),\n",
              " array([3, 4]),\n",
              " array([5, 6]),\n",
              " array([7, 8]),\n",
              " array([ 9, 10]),\n",
              " array([11, 12])]"
            ]
          },
          "execution_count": 61,
          "metadata": {},
          "output_type": "execute_result"
        }
      ],
      "source": [
        "np.split(d,6)"
      ]
    },
    {
      "cell_type": "code",
      "execution_count": null,
      "id": "199ec404",
      "metadata": {
        "id": "199ec404",
        "outputId": "9426e1e6-589d-4974-8ef6-115b964e06f2"
      },
      "outputs": [
        {
          "ename": "ValueError",
          "evalue": "array split does not result in an equal division",
          "output_type": "error",
          "traceback": [
            "\u001b[0;31m---------------------------------------------------------------------------\u001b[0m",
            "\u001b[0;31mValueError\u001b[0m                                Traceback (most recent call last)",
            "\u001b[0;32m/var/folders/hd/9z4dczb56dj54lb7q8w7s4zw0000gn/T/ipykernel_75109/2040504666.py\u001b[0m in \u001b[0;36m<module>\u001b[0;34m\u001b[0m\n\u001b[0;32m----> 1\u001b[0;31m \u001b[0mnp\u001b[0m\u001b[0;34m.\u001b[0m\u001b[0msplit\u001b[0m\u001b[0;34m(\u001b[0m\u001b[0md\u001b[0m\u001b[0;34m,\u001b[0m\u001b[0;36m13\u001b[0m\u001b[0;34m)\u001b[0m\u001b[0;34m\u001b[0m\u001b[0;34m\u001b[0m\u001b[0m\n\u001b[0m",
            "\u001b[0;32m<__array_function__ internals>\u001b[0m in \u001b[0;36msplit\u001b[0;34m(*args, **kwargs)\u001b[0m\n",
            "\u001b[0;32m~/opt/anaconda3/lib/python3.9/site-packages/numpy/lib/shape_base.py\u001b[0m in \u001b[0;36msplit\u001b[0;34m(ary, indices_or_sections, axis)\u001b[0m\n\u001b[1;32m    870\u001b[0m         \u001b[0mN\u001b[0m \u001b[0;34m=\u001b[0m \u001b[0mary\u001b[0m\u001b[0;34m.\u001b[0m\u001b[0mshape\u001b[0m\u001b[0;34m[\u001b[0m\u001b[0maxis\u001b[0m\u001b[0;34m]\u001b[0m\u001b[0;34m\u001b[0m\u001b[0;34m\u001b[0m\u001b[0m\n\u001b[1;32m    871\u001b[0m         \u001b[0;32mif\u001b[0m \u001b[0mN\u001b[0m \u001b[0;34m%\u001b[0m \u001b[0msections\u001b[0m\u001b[0;34m:\u001b[0m\u001b[0;34m\u001b[0m\u001b[0;34m\u001b[0m\u001b[0m\n\u001b[0;32m--> 872\u001b[0;31m             raise ValueError(\n\u001b[0m\u001b[1;32m    873\u001b[0m                 'array split does not result in an equal division') from None\n\u001b[1;32m    874\u001b[0m     \u001b[0;32mreturn\u001b[0m \u001b[0marray_split\u001b[0m\u001b[0;34m(\u001b[0m\u001b[0mary\u001b[0m\u001b[0;34m,\u001b[0m \u001b[0mindices_or_sections\u001b[0m\u001b[0;34m,\u001b[0m \u001b[0maxis\u001b[0m\u001b[0;34m)\u001b[0m\u001b[0;34m\u001b[0m\u001b[0;34m\u001b[0m\u001b[0m\n",
            "\u001b[0;31mValueError\u001b[0m: array split does not result in an equal division"
          ]
        }
      ],
      "source": [
        "np.split(d,13)"
      ]
    },
    {
      "cell_type": "code",
      "execution_count": null,
      "id": "ac3fd445",
      "metadata": {
        "id": "ac3fd445",
        "outputId": "971dbbe5-8f09-478f-b8d6-278821a50380"
      },
      "outputs": [
        {
          "name": "stdout",
          "output_type": "stream",
          "text": [
            "[ 1  2  3  4  5  6  7  8  9 10 11 12]\n"
          ]
        }
      ],
      "source": [
        "print(d)"
      ]
    },
    {
      "cell_type": "code",
      "execution_count": null,
      "id": "281add32",
      "metadata": {
        "id": "281add32",
        "outputId": "6a9d2e97-f953-479a-8524-45b7cea002d6"
      },
      "outputs": [
        {
          "data": {
            "text/plain": [
              "[array([1, 2, 3, 4, 5]), array([ 6,  7,  8,  9, 10, 11, 12])]"
            ]
          },
          "execution_count": 64,
          "metadata": {},
          "output_type": "execute_result"
        }
      ],
      "source": [
        "np.split(d,[5])"
      ]
    },
    {
      "cell_type": "code",
      "execution_count": null,
      "id": "39b03c70",
      "metadata": {
        "id": "39b03c70",
        "outputId": "d6b63874-a8d8-458b-e0f4-869eb8b32b27",
        "colab": {
          "base_uri": "https://localhost:8080/"
        }
      },
      "outputs": [
        {
          "output_type": "execute_result",
          "data": {
            "text/plain": [
              "[array([1, 2, 3, 4, 5]), array([6, 7]), array([ 8,  9, 10, 11, 12])]"
            ]
          },
          "metadata": {},
          "execution_count": 6
        }
      ],
      "source": [
        "np.split(d,[5,7])"
      ]
    },
    {
      "cell_type": "code",
      "execution_count": null,
      "id": "610cde49",
      "metadata": {
        "id": "610cde49",
        "outputId": "2374eb57-8aa6-4822-e613-742b94b6750c"
      },
      "outputs": [
        {
          "data": {
            "text/plain": [
              "[array([1, 2, 3, 4, 5]), array([6, 7]), array([ 8,  9, 10]), array([11, 12])]"
            ]
          },
          "execution_count": 66,
          "metadata": {},
          "output_type": "execute_result"
        }
      ],
      "source": [
        "np.split(d,[5,7,10])"
      ]
    },
    {
      "cell_type": "code",
      "execution_count": null,
      "id": "1417fe68",
      "metadata": {
        "id": "1417fe68",
        "outputId": "a4f7cb54-a219-497f-92b5-2ea234b6fa36"
      },
      "outputs": [
        {
          "data": {
            "text/plain": [
              "[array([1, 2, 3, 4, 5]),\n",
              " array([6, 7]),\n",
              " array([ 8,  9, 10, 11, 12]),\n",
              " array([], dtype=int64)]"
            ]
          },
          "execution_count": 68,
          "metadata": {},
          "output_type": "execute_result"
        }
      ],
      "source": [
        "np.split(d,[5,7,13])"
      ]
    },
    {
      "cell_type": "code",
      "execution_count": null,
      "id": "325aabb6",
      "metadata": {
        "id": "325aabb6",
        "outputId": "e1365055-3ec3-4d1b-8643-6846942c2388",
        "colab": {
          "base_uri": "https://localhost:8080/"
        }
      },
      "outputs": [
        {
          "output_type": "execute_result",
          "data": {
            "text/plain": [
              "[array([1, 2, 3, 4, 5, 6, 7]), array([8]), array([ 9, 10, 11, 12])]"
            ]
          },
          "metadata": {},
          "execution_count": 7
        }
      ],
      "source": [
        "np.split(d,[-5,-4])"
      ]
    },
    {
      "cell_type": "code",
      "execution_count": null,
      "id": "51ae3de9",
      "metadata": {
        "id": "51ae3de9",
        "outputId": "7907ab49-df1e-410a-e973-bf9a4ad5738d"
      },
      "outputs": [
        {
          "data": {
            "text/plain": [
              "array([ 1,  2,  3,  4,  5,  6,  7,  8,  9, 10, 11, 12])"
            ]
          },
          "execution_count": 70,
          "metadata": {},
          "output_type": "execute_result"
        }
      ],
      "source": [
        "d"
      ]
    },
    {
      "cell_type": "code",
      "execution_count": null,
      "id": "ad62b5e4",
      "metadata": {
        "id": "ad62b5e4",
        "outputId": "23d1e36e-506e-426c-de15-fc8b2f3bab83",
        "colab": {
          "base_uri": "https://localhost:8080/"
        }
      },
      "outputs": [
        {
          "output_type": "execute_result",
          "data": {
            "text/plain": [
              "[array([1, 2]),\n",
              " array([ 3,  4,  5,  6,  7,  8,  9, 10]),\n",
              " array([], dtype=int64),\n",
              " array([ 7,  8,  9, 10, 11, 12])]"
            ]
          },
          "metadata": {},
          "execution_count": 10
        }
      ],
      "source": [
        "np.split(d,[2,10,6])"
      ]
    },
    {
      "cell_type": "code",
      "execution_count": null,
      "id": "c9818a55",
      "metadata": {
        "id": "c9818a55",
        "outputId": "4ec40f4f-cbdd-4ca8-9fb2-a75fc9878b41"
      },
      "outputs": [
        {
          "data": {
            "text/plain": [
              "[array([1, 2, 3, 4, 5, 6, 7]),\n",
              " array([], dtype=int64),\n",
              " array([ 4,  5,  6,  7,  8,  9, 10, 11, 12])]"
            ]
          },
          "execution_count": 74,
          "metadata": {},
          "output_type": "execute_result"
        }
      ],
      "source": [
        "np.split(d,[-5,-9])"
      ]
    },
    {
      "cell_type": "code",
      "execution_count": null,
      "id": "282a8d00",
      "metadata": {
        "id": "282a8d00"
      },
      "outputs": [],
      "source": []
    },
    {
      "cell_type": "code",
      "execution_count": null,
      "id": "27030f9b",
      "metadata": {
        "id": "27030f9b",
        "outputId": "b19fcc43-993d-4d6c-9c9e-5732f3418667"
      },
      "outputs": [
        {
          "name": "stdout",
          "output_type": "stream",
          "text": [
            "[[ 1  2  3  4  5  6  7  8  9 10 11 12]]\n"
          ]
        }
      ],
      "source": [
        "d=np.arange(1,13).reshape((1,12))\n",
        "print(d)"
      ]
    },
    {
      "cell_type": "code",
      "execution_count": null,
      "id": "2930cbdf",
      "metadata": {
        "id": "2930cbdf",
        "outputId": "077db727-6507-42ba-ec05-fadfb655a172"
      },
      "outputs": [
        {
          "data": {
            "text/plain": [
              "[array([[1, 2, 3, 4, 5, 6]]), array([[ 7,  8,  9, 10, 11, 12]])]"
            ]
          },
          "execution_count": 81,
          "metadata": {},
          "output_type": "execute_result"
        }
      ],
      "source": [
        "np.split(d,2,axis=1)"
      ]
    },
    {
      "cell_type": "code",
      "execution_count": null,
      "id": "b5c0d385",
      "metadata": {
        "id": "b5c0d385",
        "outputId": "61565a19-319d-4498-a923-1776d60513d0"
      },
      "outputs": [
        {
          "data": {
            "text/plain": [
              "[array([[1, 2, 3, 4, 5, 6]]), array([[ 7,  8,  9, 10, 11, 12]])]"
            ]
          },
          "execution_count": 82,
          "metadata": {},
          "output_type": "execute_result"
        }
      ],
      "source": [
        "np.hsplit(d,2)"
      ]
    },
    {
      "cell_type": "code",
      "execution_count": null,
      "id": "45ef3fdb",
      "metadata": {
        "id": "45ef3fdb",
        "outputId": "25c69140-495b-490c-b48e-47124061b0dc"
      },
      "outputs": [
        {
          "ename": "ValueError",
          "evalue": "array split does not result in an equal division",
          "output_type": "error",
          "traceback": [
            "\u001b[0;31m---------------------------------------------------------------------------\u001b[0m",
            "\u001b[0;31mValueError\u001b[0m                                Traceback (most recent call last)",
            "\u001b[0;32m/var/folders/hd/9z4dczb56dj54lb7q8w7s4zw0000gn/T/ipykernel_75109/925622339.py\u001b[0m in \u001b[0;36m<module>\u001b[0;34m\u001b[0m\n\u001b[0;32m----> 1\u001b[0;31m \u001b[0mnp\u001b[0m\u001b[0;34m.\u001b[0m\u001b[0msplit\u001b[0m\u001b[0;34m(\u001b[0m\u001b[0md\u001b[0m\u001b[0;34m,\u001b[0m\u001b[0;36m2\u001b[0m\u001b[0;34m,\u001b[0m\u001b[0maxis\u001b[0m\u001b[0;34m=\u001b[0m\u001b[0;36m0\u001b[0m\u001b[0;34m)\u001b[0m\u001b[0;34m\u001b[0m\u001b[0;34m\u001b[0m\u001b[0m\n\u001b[0m",
            "\u001b[0;32m<__array_function__ internals>\u001b[0m in \u001b[0;36msplit\u001b[0;34m(*args, **kwargs)\u001b[0m\n",
            "\u001b[0;32m~/opt/anaconda3/lib/python3.9/site-packages/numpy/lib/shape_base.py\u001b[0m in \u001b[0;36msplit\u001b[0;34m(ary, indices_or_sections, axis)\u001b[0m\n\u001b[1;32m    870\u001b[0m         \u001b[0mN\u001b[0m \u001b[0;34m=\u001b[0m \u001b[0mary\u001b[0m\u001b[0;34m.\u001b[0m\u001b[0mshape\u001b[0m\u001b[0;34m[\u001b[0m\u001b[0maxis\u001b[0m\u001b[0;34m]\u001b[0m\u001b[0;34m\u001b[0m\u001b[0;34m\u001b[0m\u001b[0m\n\u001b[1;32m    871\u001b[0m         \u001b[0;32mif\u001b[0m \u001b[0mN\u001b[0m \u001b[0;34m%\u001b[0m \u001b[0msections\u001b[0m\u001b[0;34m:\u001b[0m\u001b[0;34m\u001b[0m\u001b[0;34m\u001b[0m\u001b[0m\n\u001b[0;32m--> 872\u001b[0;31m             raise ValueError(\n\u001b[0m\u001b[1;32m    873\u001b[0m                 'array split does not result in an equal division') from None\n\u001b[1;32m    874\u001b[0m     \u001b[0;32mreturn\u001b[0m \u001b[0marray_split\u001b[0m\u001b[0;34m(\u001b[0m\u001b[0mary\u001b[0m\u001b[0;34m,\u001b[0m \u001b[0mindices_or_sections\u001b[0m\u001b[0;34m,\u001b[0m \u001b[0maxis\u001b[0m\u001b[0;34m)\u001b[0m\u001b[0;34m\u001b[0m\u001b[0;34m\u001b[0m\u001b[0m\n",
            "\u001b[0;31mValueError\u001b[0m: array split does not result in an equal division"
          ]
        }
      ],
      "source": [
        "np.split(d,2,axis=0)"
      ]
    },
    {
      "cell_type": "code",
      "execution_count": null,
      "id": "55dfaf38",
      "metadata": {
        "id": "55dfaf38",
        "outputId": "a21850fe-69d7-47af-bb73-358e6bb839a5"
      },
      "outputs": [
        {
          "name": "stdout",
          "output_type": "stream",
          "text": [
            "[[ 1  2  3  4]\n",
            " [ 5  6  7  8]\n",
            " [ 9 10 11 12]]\n"
          ]
        }
      ],
      "source": [
        "d=np.arange(1,13).reshape((3,4))\n",
        "print(d)"
      ]
    },
    {
      "cell_type": "code",
      "execution_count": null,
      "id": "ff3f3c22",
      "metadata": {
        "id": "ff3f3c22",
        "outputId": "0bdd5550-9492-4638-e64e-80c81d221c45"
      },
      "outputs": [
        {
          "data": {
            "text/plain": [
              "[array([[ 1,  2],\n",
              "        [ 5,  6],\n",
              "        [ 9, 10]]),\n",
              " array([[ 3,  4],\n",
              "        [ 7,  8],\n",
              "        [11, 12]])]"
            ]
          },
          "execution_count": 85,
          "metadata": {},
          "output_type": "execute_result"
        }
      ],
      "source": [
        "np.split(d,2,axis=1)"
      ]
    },
    {
      "cell_type": "code",
      "execution_count": null,
      "id": "ddf4bf38",
      "metadata": {
        "id": "ddf4bf38",
        "outputId": "79405b27-ff1a-4e6b-aa84-e6310e467c57"
      },
      "outputs": [
        {
          "ename": "ValueError",
          "evalue": "array split does not result in an equal division",
          "output_type": "error",
          "traceback": [
            "\u001b[0;31m---------------------------------------------------------------------------\u001b[0m",
            "\u001b[0;31mValueError\u001b[0m                                Traceback (most recent call last)",
            "\u001b[0;32m/var/folders/hd/9z4dczb56dj54lb7q8w7s4zw0000gn/T/ipykernel_75109/925622339.py\u001b[0m in \u001b[0;36m<module>\u001b[0;34m\u001b[0m\n\u001b[0;32m----> 1\u001b[0;31m \u001b[0mnp\u001b[0m\u001b[0;34m.\u001b[0m\u001b[0msplit\u001b[0m\u001b[0;34m(\u001b[0m\u001b[0md\u001b[0m\u001b[0;34m,\u001b[0m\u001b[0;36m2\u001b[0m\u001b[0;34m,\u001b[0m\u001b[0maxis\u001b[0m\u001b[0;34m=\u001b[0m\u001b[0;36m0\u001b[0m\u001b[0;34m)\u001b[0m\u001b[0;34m\u001b[0m\u001b[0;34m\u001b[0m\u001b[0m\n\u001b[0m",
            "\u001b[0;32m<__array_function__ internals>\u001b[0m in \u001b[0;36msplit\u001b[0;34m(*args, **kwargs)\u001b[0m\n",
            "\u001b[0;32m~/opt/anaconda3/lib/python3.9/site-packages/numpy/lib/shape_base.py\u001b[0m in \u001b[0;36msplit\u001b[0;34m(ary, indices_or_sections, axis)\u001b[0m\n\u001b[1;32m    870\u001b[0m         \u001b[0mN\u001b[0m \u001b[0;34m=\u001b[0m \u001b[0mary\u001b[0m\u001b[0;34m.\u001b[0m\u001b[0mshape\u001b[0m\u001b[0;34m[\u001b[0m\u001b[0maxis\u001b[0m\u001b[0;34m]\u001b[0m\u001b[0;34m\u001b[0m\u001b[0;34m\u001b[0m\u001b[0m\n\u001b[1;32m    871\u001b[0m         \u001b[0;32mif\u001b[0m \u001b[0mN\u001b[0m \u001b[0;34m%\u001b[0m \u001b[0msections\u001b[0m\u001b[0;34m:\u001b[0m\u001b[0;34m\u001b[0m\u001b[0;34m\u001b[0m\u001b[0m\n\u001b[0;32m--> 872\u001b[0;31m             raise ValueError(\n\u001b[0m\u001b[1;32m    873\u001b[0m                 'array split does not result in an equal division') from None\n\u001b[1;32m    874\u001b[0m     \u001b[0;32mreturn\u001b[0m \u001b[0marray_split\u001b[0m\u001b[0;34m(\u001b[0m\u001b[0mary\u001b[0m\u001b[0;34m,\u001b[0m \u001b[0mindices_or_sections\u001b[0m\u001b[0;34m,\u001b[0m \u001b[0maxis\u001b[0m\u001b[0;34m)\u001b[0m\u001b[0;34m\u001b[0m\u001b[0;34m\u001b[0m\u001b[0m\n",
            "\u001b[0;31mValueError\u001b[0m: array split does not result in an equal division"
          ]
        }
      ],
      "source": [
        "np.split(d,2,axis=0)"
      ]
    },
    {
      "cell_type": "code",
      "execution_count": null,
      "id": "621ff818",
      "metadata": {
        "id": "621ff818",
        "outputId": "ea2c73b8-b2df-4d3e-d6c3-539f85e933bc"
      },
      "outputs": [
        {
          "data": {
            "text/plain": [
              "[array([[1, 2, 3, 4]]), array([[5, 6, 7, 8]]), array([[ 9, 10, 11, 12]])]"
            ]
          },
          "execution_count": 87,
          "metadata": {},
          "output_type": "execute_result"
        }
      ],
      "source": [
        "np.split(d,3,axis=0)"
      ]
    },
    {
      "cell_type": "code",
      "execution_count": null,
      "id": "603d5f50",
      "metadata": {
        "id": "603d5f50",
        "outputId": "7053d5a9-9f1e-4f74-b170-c96f9bf0b498"
      },
      "outputs": [
        {
          "data": {
            "text/plain": [
              "[array([[ 1,  2],\n",
              "        [ 5,  6],\n",
              "        [ 9, 10]]),\n",
              " array([[ 3,  4],\n",
              "        [ 7,  8],\n",
              "        [11, 12]])]"
            ]
          },
          "execution_count": 88,
          "metadata": {},
          "output_type": "execute_result"
        }
      ],
      "source": [
        "np.hsplit(d,2)"
      ]
    },
    {
      "cell_type": "code",
      "execution_count": null,
      "id": "4584f740",
      "metadata": {
        "id": "4584f740",
        "outputId": "d19b91b4-a9e3-4c29-f75c-8836fbc4b95e"
      },
      "outputs": [
        {
          "data": {
            "text/plain": [
              "[array([[1, 2, 3, 4]]), array([[5, 6, 7, 8]]), array([[ 9, 10, 11, 12]])]"
            ]
          },
          "execution_count": 89,
          "metadata": {},
          "output_type": "execute_result"
        }
      ],
      "source": [
        "np.vsplit(d,3)"
      ]
    },
    {
      "cell_type": "code",
      "execution_count": null,
      "id": "9533b99d",
      "metadata": {
        "id": "9533b99d",
        "outputId": "1dc17a17-79cd-4017-852c-0cfc93570bca"
      },
      "outputs": [
        {
          "data": {
            "text/plain": [
              "[array([[1],\n",
              "        [5],\n",
              "        [9]]),\n",
              " array([[ 2,  3,  4],\n",
              "        [ 6,  7,  8],\n",
              "        [10, 11, 12]])]"
            ]
          },
          "execution_count": 90,
          "metadata": {},
          "output_type": "execute_result"
        }
      ],
      "source": [
        "np.split(d,[1sss],axis=1)"
      ]
    },
    {
      "cell_type": "code",
      "execution_count": null,
      "id": "be0c5193",
      "metadata": {
        "id": "be0c5193",
        "outputId": "3b413977-e3c1-4cf3-92b3-fbcc965dd6f3"
      },
      "outputs": [
        {
          "data": {
            "text/plain": [
              "[array([[1],\n",
              "        [5],\n",
              "        [9]]),\n",
              " array([[ 2],\n",
              "        [ 6],\n",
              "        [10]]),\n",
              " array([[ 3,  4],\n",
              "        [ 7,  8],\n",
              "        [11, 12]])]"
            ]
          },
          "execution_count": 91,
          "metadata": {},
          "output_type": "execute_result"
        }
      ],
      "source": [
        "np.split(d,[1,2],axis=1)"
      ]
    },
    {
      "cell_type": "code",
      "execution_count": null,
      "id": "26bd1a4f",
      "metadata": {
        "id": "26bd1a4f",
        "outputId": "66658b11-62ae-4bc0-873d-289ffc77e554"
      },
      "outputs": [
        {
          "data": {
            "text/plain": [
              "[array([[1, 2, 3, 4]]),\n",
              " array([[ 5,  6,  7,  8],\n",
              "        [ 9, 10, 11, 12]])]"
            ]
          },
          "execution_count": 92,
          "metadata": {},
          "output_type": "execute_result"
        }
      ],
      "source": [
        "np.split(d,[1],axis=0)"
      ]
    },
    {
      "cell_type": "code",
      "execution_count": null,
      "id": "e9eda656",
      "metadata": {
        "id": "e9eda656",
        "outputId": "0c240284-37f0-42bd-d567-387f3eb27adb"
      },
      "outputs": [
        {
          "data": {
            "text/plain": [
              "[array([[1],\n",
              "        [5],\n",
              "        [9]]),\n",
              " array([[ 2],\n",
              "        [ 6],\n",
              "        [10]]),\n",
              " array([[ 3,  4],\n",
              "        [ 7,  8],\n",
              "        [11, 12]])]"
            ]
          },
          "execution_count": 93,
          "metadata": {},
          "output_type": "execute_result"
        }
      ],
      "source": [
        "np.hsplit(d,[1,2])"
      ]
    },
    {
      "cell_type": "code",
      "execution_count": null,
      "id": "16271149",
      "metadata": {
        "id": "16271149",
        "outputId": "0d781473-229b-47b3-d36d-c51c2db527d8"
      },
      "outputs": [
        {
          "data": {
            "text/plain": [
              "[array([[1, 2, 3, 4]]), array([[5, 6, 7, 8]]), array([[ 9, 10, 11, 12]])]"
            ]
          },
          "execution_count": 94,
          "metadata": {},
          "output_type": "execute_result"
        }
      ],
      "source": [
        "np.vsplit(d,[1,2])"
      ]
    },
    {
      "cell_type": "code",
      "execution_count": null,
      "id": "e00e20b4",
      "metadata": {
        "id": "e00e20b4"
      },
      "outputs": [],
      "source": []
    },
    {
      "cell_type": "code",
      "execution_count": null,
      "id": "b5b60a13",
      "metadata": {
        "id": "b5b60a13"
      },
      "outputs": [],
      "source": [
        "a = np.array([0,1,2,3,4,5])\n",
        "b = a[a%1 == 0]\n",
        "\n",
        "b[0] = 10"
      ]
    },
    {
      "cell_type": "code",
      "execution_count": null,
      "id": "3a6c31dc",
      "metadata": {
        "id": "3a6c31dc",
        "outputId": "92187629-3a32-4fb5-e442-aefe3a3f7f8c",
        "colab": {
          "base_uri": "https://localhost:8080/"
        }
      },
      "outputs": [
        {
          "output_type": "execute_result",
          "data": {
            "text/plain": [
              "array([[1, 2, 5],\n",
              "       [3, 4, 6]])"
            ]
          },
          "metadata": {},
          "execution_count": 11
        }
      ],
      "source": [
        "a = np.array([[1, 2], [3, 4]])\n",
        "b = np.array([[5, 6]])\n",
        "# print(a)\n",
        "# print(b)\n",
        "# print(b.T)\n",
        "np.concatenate((a, b.T), axis=1)"
      ]
    },
    {
      "cell_type": "code",
      "execution_count": null,
      "id": "b1a1147f",
      "metadata": {
        "id": "b1a1147f",
        "outputId": "f5953fd1-2fa0-458c-9a9e-09b78daa1b8d"
      },
      "outputs": [
        {
          "name": "stdout",
          "output_type": "stream",
          "text": [
            "[[1]\n",
            " [2]\n",
            " [3]]\n",
            "(3, 1)\n",
            "--------------------------------------------------\n",
            "[[4]\n",
            " [5]\n",
            " [6]]\n"
          ]
        },
        {
          "data": {
            "text/plain": [
              "array([[1],\n",
              "       [2],\n",
              "       [3],\n",
              "       [4],\n",
              "       [5],\n",
              "       [6]])"
            ]
          },
          "execution_count": 97,
          "metadata": {},
          "output_type": "execute_result"
        }
      ],
      "source": [
        "a = np.array([[1], [2], [3]])\n",
        "print(a)\n",
        "print(a.shape)\n",
        "b = np.array([[4], [5], [6]])\n",
        "print(\"-\"*50)\n",
        "print(b)\n",
        "np.vstack((a, b))"
      ]
    },
    {
      "cell_type": "code",
      "execution_count": null,
      "id": "99047950",
      "metadata": {
        "id": "99047950",
        "outputId": "5c705d52-da3b-49ab-953c-497578bbafba"
      },
      "outputs": [
        {
          "name": "stdout",
          "output_type": "stream",
          "text": [
            "[1 2 3 4 5 6]\n"
          ]
        }
      ],
      "source": [
        "a = np.array([1, 2, 3])\n",
        "b = np.array([4, 5, 6])\n",
        "print(np.hstack((a, b)))"
      ]
    },
    {
      "cell_type": "code",
      "execution_count": null,
      "id": "2bb0997b",
      "metadata": {
        "id": "2bb0997b"
      },
      "outputs": [],
      "source": [
        "# Broadcasting "
      ]
    },
    {
      "cell_type": "markdown",
      "id": "14a4c845",
      "metadata": {
        "id": "14a4c845"
      },
      "source": [
        "# Broadcasting\n",
        "\n",
        "## Rules\n",
        "\n",
        "### For each dimension ( going from right side)\n",
        "#### 1. The size of each dimension should be same OR\n",
        "#### 2. The size of one dimension should be 1\n",
        "\n",
        "\n",
        "##### Rule 1 : If two array differ in the number of dimensions, the shape of one with fewer dimensions is padded with ones on its leading( Left Side).\n",
        "##### Rule 2 : If the shape of two arrays doesnt match in any dimensions, the array with shape equal to 1 is stretched to match the other shape.\n",
        "##### Rule 3 : If in any dimesion the sizes disagree and neither equal to 1 , then Error is raised.\n"
      ]
    },
    {
      "cell_type": "code",
      "execution_count": null,
      "id": "401e90b3",
      "metadata": {
        "id": "401e90b3",
        "outputId": "47b80999-5afb-445b-bf79-8e4c3c1cba08",
        "colab": {
          "base_uri": "https://localhost:8080/",
          "height": 183
        }
      },
      "outputs": [
        {
          "output_type": "error",
          "ename": "NameError",
          "evalue": "ignored",
          "traceback": [
            "\u001b[0;31m---------------------------------------------------------------------------\u001b[0m",
            "\u001b[0;31mNameError\u001b[0m                                 Traceback (most recent call last)",
            "\u001b[0;32m<ipython-input-1-69016f44152f>\u001b[0m in \u001b[0;36m<module>\u001b[0;34m()\u001b[0m\n\u001b[0;32m----> 1\u001b[0;31m \u001b[0ma\u001b[0m\u001b[0;34m=\u001b[0m\u001b[0mnp\u001b[0m\u001b[0;34m.\u001b[0m\u001b[0marange\u001b[0m\u001b[0;34m(\u001b[0m\u001b[0;36m1\u001b[0m\u001b[0;34m,\u001b[0m\u001b[0;36m5\u001b[0m\u001b[0;34m)\u001b[0m\u001b[0;34m\u001b[0m\u001b[0;34m\u001b[0m\u001b[0m\n\u001b[0m\u001b[1;32m      2\u001b[0m \u001b[0ma\u001b[0m\u001b[0;34m+\u001b[0m\u001b[0;36m2\u001b[0m\u001b[0;34m\u001b[0m\u001b[0;34m\u001b[0m\u001b[0m\n",
            "\u001b[0;31mNameError\u001b[0m: name 'np' is not defined"
          ]
        }
      ],
      "source": [
        "a=np.arange(1,5)\n",
        "a+2"
      ]
    },
    {
      "cell_type": "code",
      "execution_count": null,
      "id": "aa070d30",
      "metadata": {
        "id": "aa070d30",
        "colab": {
          "base_uri": "https://localhost:8080/"
        },
        "outputId": "8cb66945-2d74-4618-a5bb-f7cfd6e01a2f"
      },
      "outputs": [
        {
          "output_type": "stream",
          "name": "stdout",
          "text": [
            "[[1 2]\n",
            " [3 4]\n",
            " [5 6]]\n",
            "(3, 2)\n",
            "2\n",
            "--------------------------------------------------\n",
            "[1 2]\n",
            "(2,)\n",
            "1\n"
          ]
        }
      ],
      "source": [
        "b=np.arange(1,7).reshape((3,2))\n",
        "c=np.arange(1,3)\n",
        "\n",
        "print(b)\n",
        "print(b.shape)\n",
        "print(b.ndim)\n",
        "print(\"-\"*50)\n",
        "print(c)\n",
        "print(c.shape)\n",
        "print(c.ndim)"
      ]
    },
    {
      "cell_type": "code",
      "execution_count": null,
      "id": "127715b7",
      "metadata": {
        "id": "127715b7",
        "colab": {
          "base_uri": "https://localhost:8080/"
        },
        "outputId": "06933f02-f4d2-4eb4-fb7b-4c67c2431f76"
      },
      "outputs": [
        {
          "output_type": "execute_result",
          "data": {
            "text/plain": [
              "array([[2, 4],\n",
              "       [4, 6],\n",
              "       [6, 8]])"
            ]
          },
          "metadata": {},
          "execution_count": 13
        }
      ],
      "source": [
        "b+c"
      ]
    },
    {
      "cell_type": "code",
      "execution_count": null,
      "id": "ad613f40",
      "metadata": {
        "id": "ad613f40",
        "colab": {
          "base_uri": "https://localhost:8080/"
        },
        "outputId": "53e0380d-835d-498d-a574-c485dedd4e4e"
      },
      "outputs": [
        {
          "output_type": "stream",
          "name": "stdout",
          "text": [
            "[1 2 3]\n"
          ]
        }
      ],
      "source": [
        "d=np.arange(1,4)\n",
        "print(d)"
      ]
    },
    {
      "cell_type": "code",
      "execution_count": null,
      "id": "37e7c65c",
      "metadata": {
        "id": "37e7c65c",
        "colab": {
          "base_uri": "https://localhost:8080/",
          "height": 166
        },
        "outputId": "325e8ee1-c372-47d9-a26f-e9bcbfe088e4"
      },
      "outputs": [
        {
          "output_type": "error",
          "ename": "ValueError",
          "evalue": "ignored",
          "traceback": [
            "\u001b[0;31m---------------------------------------------------------------------------\u001b[0m",
            "\u001b[0;31mValueError\u001b[0m                                Traceback (most recent call last)",
            "\u001b[0;32m<ipython-input-15-c89d5ab17fd5>\u001b[0m in \u001b[0;36m<module>\u001b[0;34m()\u001b[0m\n\u001b[0;32m----> 1\u001b[0;31m \u001b[0mb\u001b[0m\u001b[0;34m+\u001b[0m\u001b[0md\u001b[0m\u001b[0;34m\u001b[0m\u001b[0;34m\u001b[0m\u001b[0m\n\u001b[0m",
            "\u001b[0;31mValueError\u001b[0m: operands could not be broadcast together with shapes (3,2) (3,) "
          ]
        }
      ],
      "source": [
        "b+d"
      ]
    },
    {
      "cell_type": "code",
      "execution_count": null,
      "id": "86382a3f",
      "metadata": {
        "id": "86382a3f",
        "colab": {
          "base_uri": "https://localhost:8080/"
        },
        "outputId": "3d54db40-2e4d-4b04-ff30-c0bad94e8511"
      },
      "outputs": [
        {
          "output_type": "stream",
          "name": "stdout",
          "text": [
            "[[1 2]\n",
            " [3 4]\n",
            " [5 6]]\n",
            "[[10 20]\n",
            " [30 40]]\n"
          ]
        }
      ],
      "source": [
        "a=np.arange(1,7).reshape((3,2))\n",
        "b=np.array([10,20,30,40]).reshape((2,2))\n",
        "print(a)\n",
        "print(b)"
      ]
    },
    {
      "cell_type": "code",
      "execution_count": null,
      "id": "f2eeaec1",
      "metadata": {
        "id": "f2eeaec1",
        "colab": {
          "base_uri": "https://localhost:8080/",
          "height": 166
        },
        "outputId": "eba71957-e9c9-4287-d14b-4cd850020c80"
      },
      "outputs": [
        {
          "output_type": "error",
          "ename": "ValueError",
          "evalue": "ignored",
          "traceback": [
            "\u001b[0;31m---------------------------------------------------------------------------\u001b[0m",
            "\u001b[0;31mValueError\u001b[0m                                Traceback (most recent call last)",
            "\u001b[0;32m<ipython-input-17-ca730b97bf8a>\u001b[0m in \u001b[0;36m<module>\u001b[0;34m()\u001b[0m\n\u001b[0;32m----> 1\u001b[0;31m \u001b[0ma\u001b[0m\u001b[0;34m+\u001b[0m\u001b[0mb\u001b[0m\u001b[0;34m\u001b[0m\u001b[0;34m\u001b[0m\u001b[0m\n\u001b[0m",
            "\u001b[0;31mValueError\u001b[0m: operands could not be broadcast together with shapes (3,2) (2,2) "
          ]
        }
      ],
      "source": [
        "a+b"
      ]
    },
    {
      "cell_type": "code",
      "execution_count": null,
      "id": "0d852ac4",
      "metadata": {
        "id": "0d852ac4"
      },
      "outputs": [],
      "source": [
        "a=np.array([[1,2,3]])\n",
        "b=np.array([[10],[20],[30]])\n",
        "print(a)\n",
        "print(a.shape)\n",
        "print(a.ndim)\n",
        "print(\"-\"*50)\n",
        "print(b)\n",
        "print(b.shape)\n",
        "print(b.ndim)"
      ]
    },
    {
      "cell_type": "code",
      "execution_count": null,
      "id": "202d11de",
      "metadata": {
        "id": "202d11de"
      },
      "outputs": [],
      "source": [
        "a+b"
      ]
    },
    {
      "cell_type": "code",
      "execution_count": null,
      "id": "482273a4",
      "metadata": {
        "id": "482273a4"
      },
      "outputs": [],
      "source": [
        "a=np.arange(1,5).reshape((1,4))\n",
        "b=np.arange(1,6).reshape((5,1))\n",
        "print(a)\n",
        "print(a.shape)\n",
        "print(a.ndim)\n",
        "print(\"-\"*50)\n",
        "print(b)\n",
        "print(b.shape)\n",
        "print(b.ndim)"
      ]
    },
    {
      "cell_type": "code",
      "execution_count": null,
      "id": "4584ce46",
      "metadata": {
        "id": "4584ce46"
      },
      "outputs": [],
      "source": [
        "a+b"
      ]
    },
    {
      "cell_type": "code",
      "execution_count": null,
      "id": "5ac84366",
      "metadata": {
        "id": "5ac84366"
      },
      "outputs": [],
      "source": [
        "a=np.arange(1,9).reshape((2,4))\n",
        "b=np.arange(1,6).reshape((5,1))\n",
        "print(a)\n",
        "print(a.shape)\n",
        "print(a.ndim)\n",
        "print(\"-\"*50)\n",
        "print(b)\n",
        "print(b.shape)\n",
        "print(b.ndim)"
      ]
    },
    {
      "cell_type": "code",
      "execution_count": null,
      "id": "5a8236c8",
      "metadata": {
        "id": "5a8236c8"
      },
      "outputs": [],
      "source": [
        "a+b"
      ]
    },
    {
      "cell_type": "code",
      "execution_count": null,
      "id": "dc5204fb",
      "metadata": {
        "id": "dc5204fb"
      },
      "outputs": [],
      "source": [
        "a=np.arange(1,7).reshape((3,2))\n",
        "b=np.arange(1,13).reshape((6,2))\n",
        "print(a)\n",
        "print(a.shape)\n",
        "print(a.ndim)\n",
        "print(\"-\"*50)\n",
        "print(b)\n",
        "print(b.shape)\n",
        "print(b.ndim)"
      ]
    },
    {
      "cell_type": "code",
      "execution_count": null,
      "id": "94685e1a",
      "metadata": {
        "id": "94685e1a"
      },
      "outputs": [],
      "source": [
        "a+b"
      ]
    },
    {
      "cell_type": "markdown",
      "id": "d0b18fd2",
      "metadata": {
        "id": "d0b18fd2"
      },
      "source": [
        "![Broadcasting.png](attachment:Broadcasting.png)\n"
      ]
    },
    {
      "cell_type": "code",
      "execution_count": null,
      "id": "cc71f9ad",
      "metadata": {
        "id": "cc71f9ad"
      },
      "outputs": [],
      "source": [
        "A = np.arange(12).reshape(3, 4)\n",
        "B = np.array([1, 2, 3])"
      ]
    },
    {
      "cell_type": "code",
      "execution_count": null,
      "id": "02ec45b6",
      "metadata": {
        "id": "02ec45b6"
      },
      "outputs": [],
      "source": [
        "A+B"
      ]
    },
    {
      "cell_type": "code",
      "execution_count": null,
      "id": "be277975",
      "metadata": {
        "id": "be277975"
      },
      "outputs": [],
      "source": [
        "(2,1) & (1,3)"
      ]
    },
    {
      "cell_type": "code",
      "execution_count": null,
      "id": "24658405",
      "metadata": {
        "id": "24658405"
      },
      "outputs": [],
      "source": [
        "a=np.arange(1,3).reshape((2,1))\n",
        "b=np.arange(1,4).reshape((1,3))\n",
        "print(a)\n",
        "print(a.shape)\n",
        "print(a.ndim)\n",
        "print(\"-\"*50)\n",
        "print(b)\n",
        "print(b.shape)\n",
        "print(b.ndim)"
      ]
    },
    {
      "cell_type": "code",
      "execution_count": null,
      "id": "b835dcb2",
      "metadata": {
        "id": "b835dcb2"
      },
      "outputs": [],
      "source": [
        "a+b"
      ]
    },
    {
      "cell_type": "code",
      "execution_count": null,
      "id": "9739ca8f",
      "metadata": {
        "id": "9739ca8f"
      },
      "outputs": [],
      "source": [
        "a=np.array([4,2,31,15])\n",
        "b=np.array([2,4,15,31])\n",
        "c=np.array([1,0,3,2])\n",
        "d=np.array([8,5,2,7])"
      ]
    },
    {
      "cell_type": "code",
      "execution_count": null,
      "id": "487bbc67",
      "metadata": {
        "id": "487bbc67"
      },
      "outputs": [],
      "source": [
        "d[[1,0,3,2]]"
      ]
    },
    {
      "cell_type": "code",
      "execution_count": null,
      "id": "8aa997a9",
      "metadata": {
        "id": "8aa997a9"
      },
      "outputs": [],
      "source": [
        "a=np.array([[23,54,76],[76,45,12],[56,87,90]])\n",
        "a"
      ]
    },
    {
      "cell_type": "code",
      "execution_count": null,
      "id": "8adb66e2",
      "metadata": {
        "id": "8adb66e2"
      },
      "outputs": [],
      "source": [
        "a.flatten()"
      ]
    },
    {
      "cell_type": "code",
      "execution_count": null,
      "id": "20ba3b1a",
      "metadata": {
        "id": "20ba3b1a"
      },
      "outputs": [],
      "source": [
        "np.sort()"
      ]
    },
    {
      "cell_type": "code",
      "execution_count": null,
      "id": "39fa6f95",
      "metadata": {
        "id": "39fa6f95"
      },
      "outputs": [],
      "source": []
    },
    {
      "cell_type": "code",
      "execution_count": null,
      "id": "d83c60ce",
      "metadata": {
        "id": "d83c60ce"
      },
      "outputs": [],
      "source": []
    },
    {
      "cell_type": "code",
      "execution_count": null,
      "id": "67177d8b",
      "metadata": {
        "id": "67177d8b"
      },
      "outputs": [],
      "source": []
    },
    {
      "cell_type": "code",
      "execution_count": null,
      "id": "1f11107a",
      "metadata": {
        "id": "1f11107a"
      },
      "outputs": [],
      "source": []
    },
    {
      "cell_type": "code",
      "execution_count": null,
      "id": "54fe044f",
      "metadata": {
        "id": "54fe044f"
      },
      "outputs": [],
      "source": []
    },
    {
      "cell_type": "code",
      "execution_count": null,
      "id": "62beda8f",
      "metadata": {
        "id": "62beda8f"
      },
      "outputs": [],
      "source": []
    },
    {
      "cell_type": "code",
      "execution_count": null,
      "id": "3f1f1902",
      "metadata": {
        "id": "3f1f1902"
      },
      "outputs": [],
      "source": []
    },
    {
      "cell_type": "code",
      "execution_count": null,
      "id": "b01508a8",
      "metadata": {
        "id": "b01508a8"
      },
      "outputs": [],
      "source": []
    },
    {
      "cell_type": "code",
      "execution_count": null,
      "id": "2ac034f5",
      "metadata": {
        "id": "2ac034f5"
      },
      "outputs": [],
      "source": []
    },
    {
      "cell_type": "code",
      "execution_count": null,
      "id": "99c991bc",
      "metadata": {
        "id": "99c991bc"
      },
      "outputs": [],
      "source": []
    },
    {
      "cell_type": "code",
      "execution_count": null,
      "id": "730769f0",
      "metadata": {
        "id": "730769f0"
      },
      "outputs": [],
      "source": []
    }
  ],
  "metadata": {
    "kernelspec": {
      "display_name": "Python 3 (ipykernel)",
      "language": "python",
      "name": "python3"
    },
    "language_info": {
      "codemirror_mode": {
        "name": "ipython",
        "version": 3
      },
      "file_extension": ".py",
      "mimetype": "text/x-python",
      "name": "python",
      "nbconvert_exporter": "python",
      "pygments_lexer": "ipython3",
      "version": "3.9.7"
    },
    "colab": {
      "provenance": []
    }
  },
  "nbformat": 4,
  "nbformat_minor": 5
}