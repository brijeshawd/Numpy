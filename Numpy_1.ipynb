{
  "cells": [
    {
      "cell_type": "code",
      "execution_count": null,
      "id": "cfed3e72",
      "metadata": {
        "id": "cfed3e72"
      },
      "outputs": [],
      "source": [
        "import numpy as np"
      ]
    },
    {
      "cell_type": "code",
      "execution_count": null,
      "id": "2866252c",
      "metadata": {
        "id": "2866252c",
        "outputId": "fe262eee-516a-402d-d7fc-5d4eaf30bd09"
      },
      "outputs": [
        {
          "name": "stdout",
          "output_type": "stream",
          "text": [
            "[1, 4, 9, 16, 25]\n"
          ]
        }
      ],
      "source": [
        "a=[1,2,3,4,5]\n",
        "print([i**2 for i in a])"
      ]
    },
    {
      "cell_type": "code",
      "execution_count": null,
      "id": "714fabb5",
      "metadata": {
        "id": "714fabb5",
        "outputId": "1913b923-9310-4c48-cb33-8b34989d3c6c"
      },
      "outputs": [
        {
          "name": "stdout",
          "output_type": "stream",
          "text": [
            "[ 1  4  9 16 25]\n"
          ]
        }
      ],
      "source": [
        "# we can create numpy arrays using np.array\n",
        "b=np.array([1,2,3,4,5])\n",
        "print(b**2)"
      ]
    },
    {
      "cell_type": "code",
      "execution_count": null,
      "id": "55edcc31",
      "metadata": {
        "id": "55edcc31",
        "outputId": "6432fddb-fd2a-421f-90da-47445ff3836e"
      },
      "outputs": [
        {
          "name": "stdout",
          "output_type": "stream",
          "text": [
            "[3 4 5 6 7]\n"
          ]
        }
      ],
      "source": [
        "# numpy supports elementwise operations\n",
        "print(b+2)"
      ]
    },
    {
      "cell_type": "code",
      "execution_count": null,
      "id": "6a51804d",
      "metadata": {
        "id": "6a51804d",
        "outputId": "e97ad7dc-5313-4564-c467-a9ed72c3e92e"
      },
      "outputs": [
        {
          "name": "stdout",
          "output_type": "stream",
          "text": [
            "[1 2 3 4 5]\n"
          ]
        }
      ],
      "source": [
        "c=np.array(a)\n",
        "print(c)"
      ]
    },
    {
      "cell_type": "code",
      "execution_count": null,
      "id": "d303526c",
      "metadata": {
        "id": "d303526c",
        "outputId": "732c8e01-9593-4ef4-f8f7-5391b72a81e7"
      },
      "outputs": [
        {
          "data": {
            "text/plain": [
              "list"
            ]
          },
          "execution_count": 10,
          "metadata": {},
          "output_type": "execute_result"
        }
      ],
      "source": [
        "# type of the entire Numpy array\n",
        "type(a)"
      ]
    },
    {
      "cell_type": "code",
      "execution_count": null,
      "id": "342f0e60",
      "metadata": {
        "id": "342f0e60",
        "outputId": "f7e07ee1-21a5-4c0c-87c5-d0f8989aa4b7"
      },
      "outputs": [
        {
          "data": {
            "text/plain": [
              "numpy.ndarray"
            ]
          },
          "execution_count": 11,
          "metadata": {},
          "output_type": "execute_result"
        }
      ],
      "source": [
        "type(b)"
      ]
    },
    {
      "cell_type": "code",
      "execution_count": null,
      "id": "16d7c778",
      "metadata": {
        "id": "16d7c778"
      },
      "outputs": [],
      "source": [
        "l=range(10000)\n"
      ]
    },
    {
      "cell_type": "code",
      "execution_count": null,
      "id": "c847faf6",
      "metadata": {
        "id": "c847faf6",
        "outputId": "253bb10f-6672-4f26-c4e7-b28eceab43f2"
      },
      "outputs": [
        {
          "name": "stdout",
          "output_type": "stream",
          "text": [
            "2.51 ms ± 46.9 µs per loop (mean ± std. dev. of 7 runs, 100 loops each)\n"
          ]
        }
      ],
      "source": [
        "%timeit [i**2 for i in l]"
      ]
    },
    {
      "cell_type": "code",
      "execution_count": null,
      "id": "922aadf7",
      "metadata": {
        "id": "922aadf7",
        "outputId": "583c6709-faaa-4a55-aff4-30b386a2ab91"
      },
      "outputs": [
        {
          "name": "stdout",
          "output_type": "stream",
          "text": [
            "[   0    1    2 ... 9997 9998 9999]\n"
          ]
        }
      ],
      "source": [
        "m=np.arange(10000)\n",
        "print(m)"
      ]
    },
    {
      "cell_type": "code",
      "execution_count": null,
      "id": "af7b1e01",
      "metadata": {
        "id": "af7b1e01",
        "outputId": "fb6406f6-2f5a-4099-a38f-138c1d5b2c31"
      },
      "outputs": [
        {
          "name": "stdout",
          "output_type": "stream",
          "text": [
            "3.59 µs ± 32.7 ns per loop (mean ± std. dev. of 7 runs, 100000 loops each)\n"
          ]
        }
      ],
      "source": [
        "%timeit m**2"
      ]
    },
    {
      "cell_type": "code",
      "execution_count": null,
      "id": "428c58be",
      "metadata": {
        "id": "428c58be",
        "outputId": "d6c9a78b-58ac-465e-8371-ed79f5b11375"
      },
      "outputs": [
        {
          "name": "stdout",
          "output_type": "stream",
          "text": [
            "<class 'numpy.ndarray'>\n"
          ]
        },
        {
          "data": {
            "text/plain": [
              "dtype('int64')"
            ]
          },
          "execution_count": 20,
          "metadata": {},
          "output_type": "execute_result"
        }
      ],
      "source": [
        "c=np.array([1,2,3])\n",
        "print(type(c))\n",
        "# data type of elements of the numpy array\n",
        "c.dtype"
      ]
    },
    {
      "cell_type": "code",
      "execution_count": null,
      "id": "8ad96282",
      "metadata": {
        "id": "8ad96282",
        "outputId": "a4b589b0-3833-4b43-9ae7-31ebe05708e7"
      },
      "outputs": [
        {
          "name": "stdout",
          "output_type": "stream",
          "text": [
            "<class 'numpy.ndarray'>\n",
            "[1.  2.  3.  4.5]\n"
          ]
        },
        {
          "data": {
            "text/plain": [
              "dtype('float64')"
            ]
          },
          "execution_count": 22,
          "metadata": {},
          "output_type": "execute_result"
        }
      ],
      "source": [
        "# because of one element 4.5 , every element's dtype has been type casted into float\n",
        "c=np.array([1,2,3,4.5])\n",
        "print(type(c))\n",
        "print(c)\n",
        "c.dtype"
      ]
    },
    {
      "cell_type": "code",
      "execution_count": null,
      "id": "bd7520e3",
      "metadata": {
        "id": "bd7520e3",
        "outputId": "f7985b21-85b7-4b6e-8255-49dc4d9bd409"
      },
      "outputs": [
        {
          "name": "stdout",
          "output_type": "stream",
          "text": [
            "<class 'numpy.ndarray'>\n",
            "['1' '2' '3' 'c']\n"
          ]
        },
        {
          "data": {
            "text/plain": [
              "dtype('<U21')"
            ]
          },
          "execution_count": 24,
          "metadata": {},
          "output_type": "execute_result"
        }
      ],
      "source": [
        "# because of one element 4.5 , every element's dtype has been type casted into string\n",
        "c=np.array([1,2,3,\"c\"])\n",
        "print(type(c))\n",
        "print(c)\n",
        "c.dtype"
      ]
    },
    {
      "cell_type": "code",
      "execution_count": null,
      "id": "2db585e2",
      "metadata": {
        "id": "2db585e2",
        "outputId": "ae4d5d47-1b73-44b7-bc68-05b33735cba0"
      },
      "outputs": [
        {
          "name": "stdout",
          "output_type": "stream",
          "text": [
            "<class 'numpy.ndarray'>\n",
            "['1' '2' '3' '4.5' '3.9']\n"
          ]
        },
        {
          "data": {
            "text/plain": [
              "dtype('<U32')"
            ]
          },
          "execution_count": 25,
          "metadata": {},
          "output_type": "execute_result"
        }
      ],
      "source": [
        "c=np.array([1,2,3,\"4.5\",3.9])\n",
        "print(type(c))\n",
        "print(c)\n",
        "c.dtype"
      ]
    },
    {
      "cell_type": "code",
      "execution_count": null,
      "id": "4cc34c25",
      "metadata": {
        "id": "4cc34c25",
        "outputId": "9b8b0d13-20d7-4a6f-aba4-addf309a2fb6"
      },
      "outputs": [
        {
          "name": "stdout",
          "output_type": "stream",
          "text": [
            "<class 'numpy.ndarray'>\n",
            "[1 1 0 1 0]\n"
          ]
        },
        {
          "data": {
            "text/plain": [
              "dtype('int64')"
            ]
          },
          "execution_count": 30,
          "metadata": {},
          "output_type": "execute_result"
        }
      ],
      "source": [
        "# booleans are treated as 1 and 0 for True and False respectively\n",
        "c=np.array([1,1,0,True,False])\n",
        "print(type(c))\n",
        "print(c)\n",
        "c.dtype"
      ]
    },
    {
      "cell_type": "code",
      "execution_count": null,
      "id": "8d158886",
      "metadata": {
        "id": "8d158886",
        "outputId": "c14f302d-2cbc-4e9c-ee5b-86efb76c7422"
      },
      "outputs": [
        {
          "data": {
            "text/plain": [
              "1"
            ]
          },
          "execution_count": 31,
          "metadata": {},
          "output_type": "execute_result"
        }
      ],
      "source": [
        "b=np.array([1,2,3,4,5])\n",
        "# used to find out the dimension of the array\n",
        "b.ndim"
      ]
    },
    {
      "cell_type": "code",
      "execution_count": null,
      "id": "82b0c2a4",
      "metadata": {
        "id": "82b0c2a4",
        "outputId": "1287556b-873b-4d33-c1b0-fb3ef0bdbb06"
      },
      "outputs": [
        {
          "data": {
            "text/plain": [
              "(5,)"
            ]
          },
          "execution_count": 32,
          "metadata": {},
          "output_type": "execute_result"
        }
      ],
      "source": [
        "# used to find out the shape of the numpy array\n",
        "b.shape"
      ]
    },
    {
      "cell_type": "code",
      "execution_count": null,
      "id": "38353488",
      "metadata": {
        "id": "38353488"
      },
      "outputs": [],
      "source": [
        "a = np.array([1,2,3,4,5,6,7,8])\n",
        "print(a.ndim, a.shape)"
      ]
    },
    {
      "cell_type": "code",
      "execution_count": null,
      "id": "6573cc82",
      "metadata": {
        "id": "6573cc82",
        "outputId": "6b0ca0b2-47ff-46fc-be62-f89ce430ba94"
      },
      "outputs": [
        {
          "name": "stdout",
          "output_type": "stream",
          "text": [
            "range(0, 10)\n"
          ]
        }
      ],
      "source": [
        "# range function generates numbers for start to end(excluded) with some step size\n",
        "# range( start, stop,step_size)\n",
        "f=range(0,10,1)\n",
        "print(f)"
      ]
    },
    {
      "cell_type": "code",
      "execution_count": null,
      "id": "705e6602",
      "metadata": {
        "id": "705e6602",
        "outputId": "12138eb4-aff5-4515-c222-34454bf8e9a3"
      },
      "outputs": [
        {
          "name": "stdout",
          "output_type": "stream",
          "text": [
            "[0.   0.67 1.34 2.01 2.68 3.35 4.02 4.69 5.36 6.03 6.7  7.37 8.04 8.71\n",
            " 9.38]\n"
          ]
        }
      ],
      "source": [
        "# arange function in numpy generates numbers for start to end(excluded) with some step size\n",
        "# arange( start, stop,step_size)\n",
        "# arange is different from range --> we can give floats as step size\n",
        "g=np.arange(0,10,0.67)\n",
        "print(g)"
      ]
    },
    {
      "cell_type": "code",
      "execution_count": null,
      "id": "a774f449",
      "metadata": {
        "id": "a774f449",
        "outputId": "ece177e8-5741-4d10-8d4c-ee46e6933e67"
      },
      "outputs": [
        {
          "data": {
            "text/plain": [
              "array([  0.        ,   4.16666667,   8.33333333,  12.5       ,\n",
              "        16.66666667,  20.83333333,  25.        ,  29.16666667,\n",
              "        33.33333333,  37.5       ,  41.66666667,  45.83333333,\n",
              "        50.        ,  54.16666667,  58.33333333,  62.5       ,\n",
              "        66.66666667,  70.83333333,  75.        ,  79.16666667,\n",
              "        83.33333333,  87.5       ,  91.66666667,  95.83333333,\n",
              "       100.        ])"
            ]
          },
          "execution_count": 38,
          "metadata": {},
          "output_type": "execute_result"
        }
      ],
      "source": [
        "# linspace is used to create equally spaced numbers between start and end both included.\n",
        "start,end,flag_count=0,100,25\n",
        "np.linspace(start,end,flag_counts)"
      ]
    },
    {
      "cell_type": "code",
      "execution_count": null,
      "id": "32e5b262",
      "metadata": {
        "id": "32e5b262",
        "outputId": "81fae6b8-9864-4dec-b956-ebd258ee673b"
      },
      "outputs": [
        {
          "data": {
            "text/plain": [
              "array([ 0.        ,  3.33333333,  6.66666667, 10.        ])"
            ]
          },
          "execution_count": 42,
          "metadata": {},
          "output_type": "execute_result"
        }
      ],
      "source": [
        "f=np.linspace(0,10,4)"
      ]
    },
    {
      "cell_type": "code",
      "execution_count": null,
      "id": "eeb456fd",
      "metadata": {
        "id": "eeb456fd",
        "outputId": "33edaf5f-be69-48db-f959-268042ec9a35"
      },
      "outputs": [
        {
          "data": {
            "text/plain": [
              "array([[1, 2, 3],\n",
              "       [4, 5, 6]])"
            ]
          },
          "execution_count": 43,
          "metadata": {},
          "output_type": "execute_result"
        }
      ],
      "source": [
        "# creating a 2d numpy Array\n",
        "m=np.array([[1,2,3],[4,5,6]])\n",
        "m"
      ]
    },
    {
      "cell_type": "code",
      "execution_count": null,
      "id": "f2bbb3a1",
      "metadata": {
        "id": "f2bbb3a1",
        "outputId": "7a97a17b-30ef-4f0d-e0cf-3b9b4e83bcda"
      },
      "outputs": [
        {
          "data": {
            "text/plain": [
              "(2, 3)"
            ]
          },
          "execution_count": 44,
          "metadata": {},
          "output_type": "execute_result"
        }
      ],
      "source": [
        "m.shape"
      ]
    },
    {
      "cell_type": "code",
      "execution_count": null,
      "id": "803c11ef",
      "metadata": {
        "id": "803c11ef",
        "outputId": "4d502b51-53ea-4192-f234-4aedf4a6826f"
      },
      "outputs": [
        {
          "data": {
            "text/plain": [
              "2"
            ]
          },
          "execution_count": 45,
          "metadata": {},
          "output_type": "execute_result"
        }
      ],
      "source": [
        "m.ndim"
      ]
    },
    {
      "cell_type": "code",
      "execution_count": null,
      "id": "9adfcd55",
      "metadata": {
        "id": "9adfcd55",
        "outputId": "9d5d8cf9-b8c5-46ac-9321-95428bded610"
      },
      "outputs": [
        {
          "data": {
            "text/plain": [
              "8"
            ]
          },
          "execution_count": 47,
          "metadata": {},
          "output_type": "execute_result"
        }
      ],
      "source": [
        "a = np.array([1,2,3,4,5,6,7,8])\n",
        "len(a)"
      ]
    },
    {
      "cell_type": "code",
      "execution_count": null,
      "id": "2ca1be4a",
      "metadata": {
        "id": "2ca1be4a",
        "outputId": "0c03cc10-8be6-4803-ed78-d206f0081aef"
      },
      "outputs": [
        {
          "data": {
            "text/plain": [
              "2"
            ]
          },
          "execution_count": 48,
          "metadata": {},
          "output_type": "execute_result"
        }
      ],
      "source": [
        "len(m)"
      ]
    },
    {
      "cell_type": "code",
      "execution_count": null,
      "id": "b306e12f",
      "metadata": {
        "id": "b306e12f",
        "outputId": "555be5ed-df93-4c74-9fa0-a19ce8f778ae"
      },
      "outputs": [
        {
          "data": {
            "text/plain": [
              "array([ 1,  2,  3,  4,  5,  6,  7,  8,  9, 10, 11, 12])"
            ]
          },
          "execution_count": 49,
          "metadata": {},
          "output_type": "execute_result"
        }
      ],
      "source": [
        "m2=np.arange(1,13)\n",
        "m2"
      ]
    },
    {
      "cell_type": "code",
      "execution_count": null,
      "id": "dbcd90c6",
      "metadata": {
        "id": "dbcd90c6",
        "outputId": "5e1e0e28-92d3-4201-840a-5ba3d99669b9"
      },
      "outputs": [
        {
          "data": {
            "text/plain": [
              "array([[ 1,  2,  3,  4],\n",
              "       [ 5,  6,  7,  8],\n",
              "       [ 9, 10, 11, 12]])"
            ]
          },
          "execution_count": 50,
          "metadata": {},
          "output_type": "execute_result"
        }
      ],
      "source": [
        "m2.reshape(3,4)"
      ]
    },
    {
      "cell_type": "code",
      "execution_count": null,
      "id": "150fb4e9",
      "metadata": {
        "id": "150fb4e9",
        "outputId": "00cf7ec5-e824-4a77-e730-6ed564bcfdc3"
      },
      "outputs": [
        {
          "data": {
            "text/plain": [
              "array([[ 1,  2,  3],\n",
              "       [ 4,  5,  6],\n",
              "       [ 7,  8,  9],\n",
              "       [10, 11, 12]])"
            ]
          },
          "execution_count": 51,
          "metadata": {},
          "output_type": "execute_result"
        }
      ],
      "source": [
        "m2.reshape(4,3)"
      ]
    },
    {
      "cell_type": "code",
      "execution_count": null,
      "id": "b212a71b",
      "metadata": {
        "id": "b212a71b",
        "outputId": "f3eb5421-ed80-484c-ab92-01150860b4fd"
      },
      "outputs": [
        {
          "data": {
            "text/plain": [
              "array([[ 1,  2,  3,  4,  5,  6],\n",
              "       [ 7,  8,  9, 10, 11, 12]])"
            ]
          },
          "execution_count": 52,
          "metadata": {},
          "output_type": "execute_result"
        }
      ],
      "source": [
        "# here we knew that we want 2 rows, but not the columns, so we passed -1 as the parameter. \n",
        "# numpy will automatically find out the required number of columns it need to display the data.\n",
        "m2.reshape(2,-1)"
      ]
    },
    {
      "cell_type": "code",
      "execution_count": null,
      "id": "c844cee7",
      "metadata": {
        "id": "c844cee7",
        "outputId": "fa39ebc2-5034-45e8-f8d3-0276ee82899c"
      },
      "outputs": [
        {
          "data": {
            "text/plain": [
              "array([[ 1,  2,  3],\n",
              "       [ 4,  5,  6],\n",
              "       [ 7,  8,  9],\n",
              "       [10, 11, 12]])"
            ]
          },
          "execution_count": 53,
          "metadata": {},
          "output_type": "execute_result"
        }
      ],
      "source": [
        "m2.reshape(-1,3)"
      ]
    },
    {
      "cell_type": "code",
      "execution_count": null,
      "id": "88fbda97",
      "metadata": {
        "id": "88fbda97",
        "outputId": "b92d97ed-75ce-41b1-8265-11fce18c6634"
      },
      "outputs": [
        {
          "ename": "ValueError",
          "evalue": "can only specify one unknown dimension",
          "output_type": "error",
          "traceback": [
            "\u001b[0;31m---------------------------------------------------------------------------\u001b[0m",
            "\u001b[0;31mValueError\u001b[0m                                Traceback (most recent call last)",
            "\u001b[0;32m/var/folders/hd/9z4dczb56dj54lb7q8w7s4zw0000gn/T/ipykernel_41514/3687026781.py\u001b[0m in \u001b[0;36m<module>\u001b[0;34m\u001b[0m\n\u001b[0;32m----> 1\u001b[0;31m \u001b[0mm2\u001b[0m\u001b[0;34m.\u001b[0m\u001b[0mreshape\u001b[0m\u001b[0;34m(\u001b[0m\u001b[0;34m-\u001b[0m\u001b[0;36m1\u001b[0m\u001b[0;34m,\u001b[0m\u001b[0;34m-\u001b[0m\u001b[0;36m1\u001b[0m\u001b[0;34m)\u001b[0m\u001b[0;34m\u001b[0m\u001b[0;34m\u001b[0m\u001b[0m\n\u001b[0m",
            "\u001b[0;31mValueError\u001b[0m: can only specify one unknown dimension"
          ]
        }
      ],
      "source": [
        "# we need to pass atleast one dimension\n",
        "m2.reshape(-1,-1)"
      ]
    },
    {
      "cell_type": "code",
      "execution_count": null,
      "id": "d016cc2e",
      "metadata": {
        "id": "d016cc2e",
        "outputId": "328122de-f0f1-408e-e797-f518d2ba995c"
      },
      "outputs": [
        {
          "ename": "ValueError",
          "evalue": "cannot reshape array of size 12 into shape (5,newaxis)",
          "output_type": "error",
          "traceback": [
            "\u001b[0;31m---------------------------------------------------------------------------\u001b[0m",
            "\u001b[0;31mValueError\u001b[0m                                Traceback (most recent call last)",
            "\u001b[0;32m/var/folders/hd/9z4dczb56dj54lb7q8w7s4zw0000gn/T/ipykernel_41514/561350906.py\u001b[0m in \u001b[0;36m<module>\u001b[0;34m\u001b[0m\n\u001b[0;32m----> 1\u001b[0;31m \u001b[0mm2\u001b[0m\u001b[0;34m.\u001b[0m\u001b[0mreshape\u001b[0m\u001b[0;34m(\u001b[0m\u001b[0;36m5\u001b[0m\u001b[0;34m,\u001b[0m\u001b[0;34m-\u001b[0m\u001b[0;36m1\u001b[0m\u001b[0;34m)\u001b[0m\u001b[0;34m\u001b[0m\u001b[0;34m\u001b[0m\u001b[0m\n\u001b[0m",
            "\u001b[0;31mValueError\u001b[0m: cannot reshape array of size 12 into shape (5,newaxis)"
          ]
        }
      ],
      "source": [
        "m2.reshape(5,-1)"
      ]
    },
    {
      "cell_type": "code",
      "execution_count": null,
      "id": "466fc7c7",
      "metadata": {
        "id": "466fc7c7"
      },
      "outputs": [],
      "source": [
        "m2=np.arange(1,13)\n",
        "#reshape functions reshapes the arrays into the shape of (rows and columns) we define\n",
        "m2=m2.reshape(3,4)\n"
      ]
    },
    {
      "cell_type": "code",
      "execution_count": null,
      "id": "4b2e41b1",
      "metadata": {
        "id": "4b2e41b1",
        "outputId": "19d7ba46-aa4b-4c7c-8a2e-d70a59b40dfb"
      },
      "outputs": [
        {
          "data": {
            "text/plain": [
              "array([[ 1,  2,  3,  4],\n",
              "       [ 5,  6,  7,  8],\n",
              "       [ 9, 10, 11, 12]])"
            ]
          },
          "execution_count": 59,
          "metadata": {},
          "output_type": "execute_result"
        }
      ],
      "source": [
        "m2"
      ]
    },
    {
      "cell_type": "code",
      "execution_count": null,
      "id": "8a5284b4",
      "metadata": {
        "id": "8a5284b4",
        "outputId": "8e0fe954-896a-4a58-ea6a-12ba0fac7dc1"
      },
      "outputs": [
        {
          "data": {
            "text/plain": [
              "array([[ 1,  2,  3],\n",
              "       [ 4,  5,  6],\n",
              "       [ 7,  8,  9],\n",
              "       [10, 11, 12]])"
            ]
          },
          "execution_count": 60,
          "metadata": {},
          "output_type": "execute_result"
        }
      ],
      "source": [
        "m2.reshape(4,3)"
      ]
    },
    {
      "cell_type": "code",
      "execution_count": null,
      "id": "b0c39cf9",
      "metadata": {
        "id": "b0c39cf9",
        "outputId": "87625d08-4530-4816-c921-5d92fde5b5bc"
      },
      "outputs": [
        {
          "data": {
            "text/plain": [
              "array([ 1,  2,  3,  4,  5,  6,  7,  8,  9, 10, 11, 12, 13])"
            ]
          },
          "execution_count": 61,
          "metadata": {},
          "output_type": "execute_result"
        }
      ],
      "source": [
        "m3=np.arange(1,14)\n",
        "m3"
      ]
    },
    {
      "cell_type": "code",
      "execution_count": null,
      "id": "b5974674",
      "metadata": {
        "id": "b5974674",
        "outputId": "953d4e26-5c08-47d2-a46a-b503f66b1137"
      },
      "outputs": [
        {
          "ename": "ValueError",
          "evalue": "cannot reshape array of size 13 into shape (3,4)",
          "output_type": "error",
          "traceback": [
            "\u001b[0;31m---------------------------------------------------------------------------\u001b[0m",
            "\u001b[0;31mValueError\u001b[0m                                Traceback (most recent call last)",
            "\u001b[0;32m/var/folders/hd/9z4dczb56dj54lb7q8w7s4zw0000gn/T/ipykernel_41514/443808852.py\u001b[0m in \u001b[0;36m<module>\u001b[0;34m\u001b[0m\n\u001b[0;32m----> 1\u001b[0;31m \u001b[0mm3\u001b[0m\u001b[0;34m.\u001b[0m\u001b[0mreshape\u001b[0m\u001b[0;34m(\u001b[0m\u001b[0;36m3\u001b[0m\u001b[0;34m,\u001b[0m\u001b[0;36m4\u001b[0m\u001b[0;34m)\u001b[0m\u001b[0;34m\u001b[0m\u001b[0;34m\u001b[0m\u001b[0m\n\u001b[0m",
            "\u001b[0;31mValueError\u001b[0m: cannot reshape array of size 13 into shape (3,4)"
          ]
        }
      ],
      "source": [
        "m3.reshape(3,4)"
      ]
    },
    {
      "cell_type": "code",
      "execution_count": null,
      "id": "fa11b686",
      "metadata": {
        "id": "fa11b686",
        "outputId": "d657bcde-0fcd-40a8-a03f-4f816d5a0195",
        "colab": {
          "base_uri": "https://localhost:8080/"
        }
      },
      "outputs": [
        {
          "output_type": "stream",
          "name": "stdout",
          "text": [
            "[list([1, 2, 3]) list([4, 5, 6, 8, 0, 9])]\n"
          ]
        },
        {
          "output_type": "stream",
          "name": "stderr",
          "text": [
            "/usr/local/lib/python3.7/dist-packages/ipykernel_launcher.py:2: VisibleDeprecationWarning: Creating an ndarray from ragged nested sequences (which is a list-or-tuple of lists-or-tuples-or ndarrays with different lengths or shapes) is deprecated. If you meant to do this, you must specify 'dtype=object' when creating the ndarray.\n",
            "  \n"
          ]
        }
      ],
      "source": [
        "import numpy as np\n",
        "m4=np.array([[1,2,3],[4,5,6,8,0,9]])\n",
        "print(m4)"
      ]
    },
    {
      "cell_type": "code",
      "execution_count": null,
      "id": "f3bb6d45",
      "metadata": {
        "id": "f3bb6d45"
      },
      "outputs": [],
      "source": []
    },
    {
      "cell_type": "code",
      "execution_count": null,
      "id": "fee337d4",
      "metadata": {
        "id": "fee337d4",
        "outputId": "aa9e998d-1122-4cb7-e03b-bec3e79b908b"
      },
      "outputs": [
        {
          "data": {
            "text/plain": [
              "array([ 1,  2,  3,  4,  5,  6,  7,  8,  9, 10, 11, 12, 13])"
            ]
          },
          "execution_count": 65,
          "metadata": {},
          "output_type": "execute_result"
        }
      ],
      "source": [
        "m3=np.arange(1,14)\n",
        "m3"
      ]
    },
    {
      "cell_type": "code",
      "execution_count": null,
      "id": "5c9b0fc7",
      "metadata": {
        "id": "5c9b0fc7",
        "outputId": "2834436e-4325-4c1f-9869-58c9e68a415a"
      },
      "outputs": [
        {
          "data": {
            "text/plain": [
              "array([[ 1,  2,  3,  4,  5,  6,  7,  8,  9, 10, 11, 12, 13]])"
            ]
          },
          "execution_count": 66,
          "metadata": {},
          "output_type": "execute_result"
        }
      ],
      "source": [
        "m3.reshape(1,13)"
      ]
    },
    {
      "cell_type": "code",
      "execution_count": null,
      "id": "862ea67d",
      "metadata": {
        "id": "862ea67d",
        "outputId": "c218bc61-9f0a-4034-e397-8d7c3aa6ce55"
      },
      "outputs": [
        {
          "data": {
            "text/plain": [
              "array([[ 1],\n",
              "       [ 2],\n",
              "       [ 3],\n",
              "       [ 4],\n",
              "       [ 5],\n",
              "       [ 6],\n",
              "       [ 7],\n",
              "       [ 8],\n",
              "       [ 9],\n",
              "       [10],\n",
              "       [11],\n",
              "       [12],\n",
              "       [13]])"
            ]
          },
          "execution_count": 67,
          "metadata": {},
          "output_type": "execute_result"
        }
      ],
      "source": [
        "m3.reshape(13,1)"
      ]
    },
    {
      "cell_type": "code",
      "execution_count": null,
      "id": "fd6547b4",
      "metadata": {
        "id": "fd6547b4",
        "outputId": "c8ccf36f-2298-4b58-d47b-5f07d0de7c6c"
      },
      "outputs": [
        {
          "ename": "ValueError",
          "evalue": "cannot reshape array of size 13 into shape (2,newaxis)",
          "output_type": "error",
          "traceback": [
            "\u001b[0;31m---------------------------------------------------------------------------\u001b[0m",
            "\u001b[0;31mValueError\u001b[0m                                Traceback (most recent call last)",
            "\u001b[0;32m/var/folders/hd/9z4dczb56dj54lb7q8w7s4zw0000gn/T/ipykernel_41514/1475252514.py\u001b[0m in \u001b[0;36m<module>\u001b[0;34m\u001b[0m\n\u001b[0;32m----> 1\u001b[0;31m \u001b[0mm3\u001b[0m\u001b[0;34m.\u001b[0m\u001b[0mreshape\u001b[0m\u001b[0;34m(\u001b[0m\u001b[0;36m2\u001b[0m\u001b[0;34m,\u001b[0m\u001b[0;34m-\u001b[0m\u001b[0;36m1\u001b[0m\u001b[0;34m)\u001b[0m\u001b[0;34m\u001b[0m\u001b[0;34m\u001b[0m\u001b[0m\n\u001b[0m",
            "\u001b[0;31mValueError\u001b[0m: cannot reshape array of size 13 into shape (2,newaxis)"
          ]
        }
      ],
      "source": [
        "m3.reshape(2,-1)"
      ]
    },
    {
      "cell_type": "code",
      "execution_count": null,
      "id": "1c0647b5",
      "metadata": {
        "id": "1c0647b5"
      },
      "outputs": [],
      "source": [
        "\n",
        "a = np.arange(1,17).reshape(-1,2)\n",
        "a.shape"
      ]
    },
    {
      "cell_type": "code",
      "execution_count": null,
      "id": "468bba6d",
      "metadata": {
        "id": "468bba6d",
        "outputId": "6774f29d-a84b-4634-8a79-dbed7d75ba70"
      },
      "outputs": [
        {
          "data": {
            "text/plain": [
              "array([[ 1,  2],\n",
              "       [ 3,  4],\n",
              "       [ 5,  6],\n",
              "       [ 7,  8],\n",
              "       [ 9, 10],\n",
              "       [11, 12],\n",
              "       [13, 14],\n",
              "       [15, 16]])"
            ]
          },
          "execution_count": 70,
          "metadata": {},
          "output_type": "execute_result"
        }
      ],
      "source": [
        "\n",
        "a = np.arange(1,17).reshape(-1,2)\n",
        "a"
      ]
    },
    {
      "cell_type": "code",
      "execution_count": null,
      "id": "9916bf10",
      "metadata": {
        "id": "9916bf10",
        "outputId": "cd26dc59-2b30-4aab-8057-e4da205ac3fe"
      },
      "outputs": [
        {
          "data": {
            "text/plain": [
              "array([1, 2, 3, 4, 5, 6])"
            ]
          },
          "execution_count": 71,
          "metadata": {},
          "output_type": "execute_result"
        }
      ],
      "source": [
        "m4=np.arange(1,7)\n",
        "m4"
      ]
    },
    {
      "cell_type": "code",
      "execution_count": null,
      "id": "afb533a7",
      "metadata": {
        "id": "afb533a7",
        "outputId": "6ffc6be2-0245-4c00-952a-f31e09f3eef5"
      },
      "outputs": [
        {
          "name": "stdout",
          "output_type": "stream",
          "text": [
            "[[1 2 3]\n",
            " [4 5 6]]\n"
          ]
        }
      ],
      "source": [
        "m5=m4.reshape(2,3)\n",
        "print(m5)"
      ]
    },
    {
      "cell_type": "code",
      "execution_count": null,
      "id": "fbad5cf8",
      "metadata": {
        "id": "fbad5cf8",
        "outputId": "87ff7f4f-ba15-4fd4-89a8-0d5662e95c6d"
      },
      "outputs": [
        {
          "data": {
            "text/plain": [
              "array([[1, 4],\n",
              "       [2, 5],\n",
              "       [3, 6]])"
            ]
          },
          "execution_count": 74,
          "metadata": {},
          "output_type": "execute_result"
        }
      ],
      "source": [
        "m5.T"
      ]
    },
    {
      "cell_type": "code",
      "execution_count": null,
      "id": "d0818aa3",
      "metadata": {
        "id": "d0818aa3",
        "outputId": "3f648000-6810-43e0-d51c-a9a89f9af36a"
      },
      "outputs": [
        {
          "name": "stdout",
          "output_type": "stream",
          "text": [
            "[[ 1  2]\n",
            " [ 3  4]\n",
            " [ 5  6]\n",
            " [ 7  8]\n",
            " [ 9 10]\n",
            " [11 12]]\n"
          ]
        },
        {
          "data": {
            "text/plain": [
              "array([[ 1,  3,  5,  7,  9, 11],\n",
              "       [ 2,  4,  6,  8, 10, 12]])"
            ]
          },
          "execution_count": 75,
          "metadata": {},
          "output_type": "execute_result"
        }
      ],
      "source": [
        "m4=np.arange(1,13).reshape(6,2)\n",
        "print(m4)\n",
        "# .T creates a transpose of a matrix rows--> columns, columns--> rows\n",
        "# converting rows into columns.\n",
        "m4.T"
      ]
    },
    {
      "cell_type": "code",
      "execution_count": null,
      "id": "57524c82",
      "metadata": {
        "id": "57524c82",
        "outputId": "3e60e0c0-cf82-4aed-84bc-f4656a10900a"
      },
      "outputs": [
        {
          "data": {
            "text/plain": [
              "2"
            ]
          },
          "execution_count": 76,
          "metadata": {},
          "output_type": "execute_result"
        }
      ],
      "source": [
        "m5=np.arange(3).reshape(1,3)\n",
        "m5.ndim"
      ]
    },
    {
      "cell_type": "code",
      "execution_count": null,
      "id": "76292510",
      "metadata": {
        "id": "76292510",
        "outputId": "7f5338ed-fbc2-43b3-a0ff-43172e9104b4"
      },
      "outputs": [
        {
          "data": {
            "text/plain": [
              "(1, 3)"
            ]
          },
          "execution_count": 77,
          "metadata": {},
          "output_type": "execute_result"
        }
      ],
      "source": [
        "m5.shape"
      ]
    },
    {
      "cell_type": "code",
      "execution_count": null,
      "id": "29112cb4",
      "metadata": {
        "id": "29112cb4",
        "outputId": "902b4e12-db4b-49e1-ce8c-7315122b639d"
      },
      "outputs": [
        {
          "data": {
            "text/plain": [
              "(3, 1)"
            ]
          },
          "execution_count": 79,
          "metadata": {},
          "output_type": "execute_result"
        }
      ],
      "source": [
        "m5.T.shape"
      ]
    },
    {
      "cell_type": "code",
      "execution_count": null,
      "id": "32ede033",
      "metadata": {
        "id": "32ede033",
        "outputId": "929881d2-0717-4ab6-e3e5-f2adbd8bbdef"
      },
      "outputs": [
        {
          "data": {
            "text/plain": [
              "(3,)"
            ]
          },
          "execution_count": 81,
          "metadata": {},
          "output_type": "execute_result"
        }
      ],
      "source": [
        "m6=np.array([1,2,3])\n",
        "m6.shape"
      ]
    },
    {
      "cell_type": "code",
      "execution_count": null,
      "id": "b15a7bdc",
      "metadata": {
        "id": "b15a7bdc",
        "outputId": "6bd055f4-3428-4c29-f405-4eba1e7beb00"
      },
      "outputs": [
        {
          "data": {
            "text/plain": [
              "1"
            ]
          },
          "execution_count": 82,
          "metadata": {},
          "output_type": "execute_result"
        }
      ],
      "source": [
        "m6.ndim"
      ]
    },
    {
      "cell_type": "code",
      "execution_count": null,
      "id": "397d4598",
      "metadata": {
        "id": "397d4598",
        "outputId": "cb83b341-f77c-4f6d-f820-d6e9bbf1db21"
      },
      "outputs": [
        {
          "data": {
            "text/plain": [
              "array([1, 2, 3])"
            ]
          },
          "execution_count": 83,
          "metadata": {},
          "output_type": "execute_result"
        }
      ],
      "source": [
        "m6.T"
      ]
    },
    {
      "cell_type": "code",
      "execution_count": null,
      "id": "046e9f3b",
      "metadata": {
        "id": "046e9f3b",
        "outputId": "daa1dd57-ae94-44c9-bd6d-50a47ba5a55c"
      },
      "outputs": [
        {
          "data": {
            "text/plain": [
              "(1, 3)"
            ]
          },
          "execution_count": 84,
          "metadata": {},
          "output_type": "execute_result"
        }
      ],
      "source": [
        "m6=np.array([[1,2,3]])\n",
        "m6.shape"
      ]
    },
    {
      "cell_type": "code",
      "execution_count": null,
      "id": "f9be07c9",
      "metadata": {
        "id": "f9be07c9",
        "outputId": "98410cb3-6f6f-43e6-971e-b772ce1c4742"
      },
      "outputs": [
        {
          "data": {
            "text/plain": [
              "2"
            ]
          },
          "execution_count": 85,
          "metadata": {},
          "output_type": "execute_result"
        }
      ],
      "source": [
        "m6.ndim"
      ]
    },
    {
      "cell_type": "code",
      "execution_count": null,
      "id": "ed30f7ae",
      "metadata": {
        "id": "ed30f7ae",
        "outputId": "63a79bd2-59ff-47d0-b8c7-5e6c05c93851"
      },
      "outputs": [
        {
          "data": {
            "text/plain": [
              "array([[1],\n",
              "       [2],\n",
              "       [3]])"
            ]
          },
          "execution_count": 86,
          "metadata": {},
          "output_type": "execute_result"
        }
      ],
      "source": [
        "m6.T"
      ]
    },
    {
      "cell_type": "code",
      "execution_count": null,
      "id": "fac31054",
      "metadata": {
        "id": "fac31054",
        "outputId": "ca180400-b81c-4547-8120-e480b8e2adf1"
      },
      "outputs": [
        {
          "data": {
            "text/plain": [
              "array([[ 1,  2,  3,  4],\n",
              "       [ 5,  6,  7,  8],\n",
              "       [ 9, 10, 11, 12]])"
            ]
          },
          "execution_count": 87,
          "metadata": {},
          "output_type": "execute_result"
        }
      ],
      "source": [
        "m7=np.arange(1,13).reshape(3,4)\n",
        "m7"
      ]
    },
    {
      "cell_type": "code",
      "execution_count": null,
      "id": "6d2b8e73",
      "metadata": {
        "id": "6d2b8e73",
        "outputId": "d86bfcbd-6eca-4817-9fff-4b345edbe946"
      },
      "outputs": [
        {
          "data": {
            "text/plain": [
              "array([ 1,  2,  3,  4,  5,  6,  7,  8,  9, 10, 11, 12])"
            ]
          },
          "execution_count": 88,
          "metadata": {},
          "output_type": "execute_result"
        }
      ],
      "source": [
        "m7.flatten()"
      ]
    },
    {
      "cell_type": "code",
      "execution_count": null,
      "id": "1f3e8305",
      "metadata": {
        "id": "1f3e8305"
      },
      "outputs": [],
      "source": [
        "# creating special arrays"
      ]
    },
    {
      "cell_type": "code",
      "execution_count": null,
      "id": "bd7469ee",
      "metadata": {
        "id": "bd7469ee",
        "outputId": "5c4892ea-f9f8-4946-d658-37c5ad68d7d3"
      },
      "outputs": [
        {
          "data": {
            "text/plain": [
              "array([0., 0., 0.])"
            ]
          },
          "execution_count": 89,
          "metadata": {},
          "output_type": "execute_result"
        }
      ],
      "source": [
        "# creating 1D array with all the values as 0\n",
        "np.zeros(3)"
      ]
    },
    {
      "cell_type": "code",
      "execution_count": null,
      "id": "c89bdec3",
      "metadata": {
        "id": "c89bdec3",
        "outputId": "a98217a3-bedc-4b51-e4ee-bf3afc7491c1"
      },
      "outputs": [
        {
          "data": {
            "text/plain": [
              "array([[0., 0., 0.],\n",
              "       [0., 0., 0.],\n",
              "       [0., 0., 0.]])"
            ]
          },
          "execution_count": 90,
          "metadata": {},
          "output_type": "execute_result"
        }
      ],
      "source": [
        "# creating 2D array  of shape (3,3) with all the values as 0\n",
        "np.zeros((3,3))"
      ]
    },
    {
      "cell_type": "code",
      "execution_count": null,
      "id": "d7f142a2",
      "metadata": {
        "id": "d7f142a2",
        "outputId": "bd4874b9-2526-4b49-9b40-672b17ea97ee"
      },
      "outputs": [
        {
          "data": {
            "text/plain": [
              "array([[0., 0., 0., 0.],\n",
              "       [0., 0., 0., 0.],\n",
              "       [0., 0., 0., 0.]])"
            ]
          },
          "execution_count": 91,
          "metadata": {},
          "output_type": "execute_result"
        }
      ],
      "source": [
        "np.zeros((3,4))"
      ]
    },
    {
      "cell_type": "code",
      "execution_count": null,
      "id": "bbcfdc09",
      "metadata": {
        "id": "bbcfdc09",
        "outputId": "0bc55308-cc4f-47b9-ddad-98958d0057e4"
      },
      "outputs": [
        {
          "data": {
            "text/plain": [
              "array([1., 1., 1.])"
            ]
          },
          "execution_count": 92,
          "metadata": {},
          "output_type": "execute_result"
        }
      ],
      "source": [
        "# creating 2D array  of shape (3,) with all the values as 1\n",
        "\n",
        "np.ones(3)"
      ]
    },
    {
      "cell_type": "code",
      "execution_count": null,
      "id": "d3cbba5f",
      "metadata": {
        "id": "d3cbba5f",
        "outputId": "ed37763f-a86e-4e80-d275-d5c61f6e17dd"
      },
      "outputs": [
        {
          "data": {
            "text/plain": [
              "array([[1., 1.],\n",
              "       [1., 1.],\n",
              "       [1., 1.],\n",
              "       [1., 1.],\n",
              "       [1., 1.],\n",
              "       [1., 1.]])"
            ]
          },
          "execution_count": 93,
          "metadata": {},
          "output_type": "execute_result"
        }
      ],
      "source": [
        "# creating 2D array  of shape (6,2) with all the values as 1\n",
        "np.ones((6,2))"
      ]
    },
    {
      "cell_type": "code",
      "execution_count": null,
      "id": "a8a9db76",
      "metadata": {
        "id": "a8a9db76",
        "outputId": "fbec9250-536f-400b-a2cb-a14b5089e58a"
      },
      "outputs": [
        {
          "data": {
            "text/plain": [
              "array([[1., 1., 1.],\n",
              "       [1., 1., 1.],\n",
              "       [1., 1., 1.]])"
            ]
          },
          "execution_count": 97,
          "metadata": {},
          "output_type": "execute_result"
        }
      ],
      "source": [
        "np.ones((3,3))"
      ]
    },
    {
      "cell_type": "code",
      "execution_count": null,
      "id": "183220a2",
      "metadata": {
        "id": "183220a2",
        "outputId": "3bbd2fc6-2946-4b0e-f8aa-d0ec61b6044b"
      },
      "outputs": [
        {
          "name": "stdout",
          "output_type": "stream",
          "text": [
            "[[1. 1. 1.]\n",
            " [1. 1. 1.]\n",
            " [1. 1. 1.]]\n"
          ]
        }
      ],
      "source": [
        "a=np.ones((3,3))\n",
        "print(a)"
      ]
    },
    {
      "cell_type": "code",
      "execution_count": null,
      "id": "929f50a1",
      "metadata": {
        "id": "929f50a1",
        "outputId": "830166b6-31a1-49ed-b98d-bd1db629162f"
      },
      "outputs": [
        {
          "data": {
            "text/plain": [
              "array([[2., 2., 2.],\n",
              "       [2., 2., 2.],\n",
              "       [2., 2., 2.]])"
            ]
          },
          "execution_count": 99,
          "metadata": {},
          "output_type": "execute_result"
        }
      ],
      "source": [
        "a*2"
      ]
    },
    {
      "cell_type": "code",
      "execution_count": null,
      "id": "9c815919",
      "metadata": {
        "id": "9c815919",
        "outputId": "07047544-dc26-471a-f872-e6f95652cfd8"
      },
      "outputs": [
        {
          "data": {
            "text/plain": [
              "array([[1, 1, 1],\n",
              "       [1, 1, 1],\n",
              "       [1, 1, 1]], dtype=int32)"
            ]
          },
          "execution_count": 102,
          "metadata": {},
          "output_type": "execute_result"
        }
      ],
      "source": [
        "a=np.ones((3,3),dtype=np.int32)\n",
        "a"
      ]
    },
    {
      "cell_type": "code",
      "execution_count": null,
      "id": "5d858e44",
      "metadata": {
        "id": "5d858e44",
        "outputId": "1c595267-20b4-4ef2-a892-94320cdc1ac4"
      },
      "outputs": [
        {
          "data": {
            "text/plain": [
              "array([[4., 4., 4.],\n",
              "       [4., 4., 4.],\n",
              "       [4., 4., 4.]])"
            ]
          },
          "execution_count": 104,
          "metadata": {},
          "output_type": "execute_result"
        }
      ],
      "source": [
        "# creating 2D array  of shape (3,3) with all the values as 4.0\n",
        "np.full((3,3),4.0)"
      ]
    },
    {
      "cell_type": "code",
      "execution_count": null,
      "id": "8efe4385",
      "metadata": {
        "id": "8efe4385",
        "outputId": "5416732c-dba3-455a-b6ff-1cea60cf5230"
      },
      "outputs": [
        {
          "data": {
            "text/plain": [
              "array([[1., 0., 0.],\n",
              "       [0., 1., 0.],\n",
              "       [0., 0., 1.]])"
            ]
          },
          "execution_count": 105,
          "metadata": {},
          "output_type": "execute_result"
        }
      ],
      "source": [
        "# creating 2D array  of shape (3,3) with values at main diagonal as 1 and rest as 0\n",
        "np.eye(3)"
      ]
    },
    {
      "cell_type": "code",
      "execution_count": null,
      "id": "3a1e121b",
      "metadata": {
        "id": "3a1e121b",
        "outputId": "7f2af058-ec77-4359-9824-30e5de8c0839"
      },
      "outputs": [
        {
          "data": {
            "text/plain": [
              "array([[1., 0., 0.],\n",
              "       [0., 1., 0.],\n",
              "       [0., 0., 1.]])"
            ]
          },
          "execution_count": 106,
          "metadata": {},
          "output_type": "execute_result"
        }
      ],
      "source": [
        "# creating 2D array  of shape (3,3) with values at main diagonal as 1 and rest as 0\n",
        "np.identity(3)"
      ]
    },
    {
      "cell_type": "code",
      "execution_count": null,
      "id": "78f08570",
      "metadata": {
        "id": "78f08570",
        "outputId": "f84cb9b2-fe61-4c5a-afa2-212fafa518cd"
      },
      "outputs": [
        {
          "data": {
            "text/plain": [
              "array([[1, 0, 0],\n",
              "       [0, 2, 0],\n",
              "       [0, 0, 3]])"
            ]
          },
          "execution_count": 107,
          "metadata": {},
          "output_type": "execute_result"
        }
      ],
      "source": [
        "# creating 2D array  of shape (3,3) with values at main diagonal as 1,2,3 and rest as 0\n",
        "np.diag([1,2,3])"
      ]
    },
    {
      "cell_type": "code",
      "execution_count": null,
      "id": "01b9e7d0",
      "metadata": {
        "id": "01b9e7d0"
      },
      "outputs": [],
      "source": []
    },
    {
      "cell_type": "code",
      "execution_count": null,
      "id": "844347c5",
      "metadata": {
        "id": "844347c5"
      },
      "outputs": [],
      "source": [
        "#indexing"
      ]
    },
    {
      "cell_type": "code",
      "execution_count": null,
      "id": "17d9992f",
      "metadata": {
        "id": "17d9992f",
        "outputId": "6610f622-6c4e-4a95-8997-75f9a816f71d"
      },
      "outputs": [
        {
          "data": {
            "text/plain": [
              "array([3, 4, 5, 6, 7, 8, 9])"
            ]
          },
          "execution_count": 111,
          "metadata": {},
          "output_type": "execute_result"
        }
      ],
      "source": [
        "m1=np.arange(3,10)\n",
        "m1"
      ]
    },
    {
      "cell_type": "code",
      "execution_count": null,
      "id": "5141c7c2",
      "metadata": {
        "id": "5141c7c2",
        "outputId": "ccbca069-404d-4e87-a503-3b48ec1a5822"
      },
      "outputs": [
        {
          "data": {
            "text/plain": [
              "3"
            ]
          },
          "execution_count": 112,
          "metadata": {},
          "output_type": "execute_result"
        }
      ],
      "source": [
        "#accessing the data\n",
        "m1[0]"
      ]
    },
    {
      "cell_type": "code",
      "execution_count": null,
      "id": "92ea95dd",
      "metadata": {
        "id": "92ea95dd",
        "outputId": "71aa4910-8fa1-4416-bc38-3161c52e6424"
      },
      "outputs": [
        {
          "data": {
            "text/plain": [
              "4"
            ]
          },
          "execution_count": 113,
          "metadata": {},
          "output_type": "execute_result"
        }
      ],
      "source": [
        "m1[1]"
      ]
    },
    {
      "cell_type": "code",
      "execution_count": null,
      "id": "3c84d23d",
      "metadata": {
        "id": "3c84d23d",
        "outputId": "6c42474b-356f-45c5-b59b-7067c180d8eb"
      },
      "outputs": [
        {
          "data": {
            "text/plain": [
              "9"
            ]
          },
          "execution_count": 115,
          "metadata": {},
          "output_type": "execute_result"
        }
      ],
      "source": [
        "# we can access using negative indexes\n",
        "m1[-1]"
      ]
    },
    {
      "cell_type": "code",
      "execution_count": null,
      "id": "8788b663",
      "metadata": {
        "id": "8788b663",
        "outputId": "965c6c9f-b94d-4043-9365-84e8b69625ea"
      },
      "outputs": [
        {
          "data": {
            "text/plain": [
              "8"
            ]
          },
          "execution_count": 116,
          "metadata": {},
          "output_type": "execute_result"
        }
      ],
      "source": [
        "m1[-2]"
      ]
    },
    {
      "cell_type": "code",
      "execution_count": null,
      "id": "811ea206",
      "metadata": {
        "id": "811ea206",
        "outputId": "430e8a6c-a3d3-42ff-d90a-9ca2786c55db"
      },
      "outputs": [
        {
          "data": {
            "text/plain": [
              "3"
            ]
          },
          "execution_count": 117,
          "metadata": {},
          "output_type": "execute_result"
        }
      ],
      "source": [
        "m1[-7]"
      ]
    },
    {
      "cell_type": "code",
      "execution_count": null,
      "id": "0f2532ed",
      "metadata": {
        "id": "0f2532ed"
      },
      "outputs": [],
      "source": []
    },
    {
      "cell_type": "code",
      "execution_count": null,
      "id": "b64de168",
      "metadata": {
        "id": "b64de168",
        "outputId": "b8dd1a3b-5217-4070-d76c-2227f07bbb8b"
      },
      "outputs": [
        {
          "data": {
            "text/plain": [
              "array([[ 1,  2,  3,  4],\n",
              "       [ 5,  6,  7,  8],\n",
              "       [ 9, 10, 11, 12]])"
            ]
          },
          "execution_count": 114,
          "metadata": {},
          "output_type": "execute_result"
        }
      ],
      "source": [
        "m2=np.arange(1,13).reshape(3,4)\n",
        "m2"
      ]
    },
    {
      "cell_type": "code",
      "execution_count": null,
      "id": "c45824e4",
      "metadata": {
        "id": "c45824e4",
        "outputId": "558361a0-1978-4ad9-ad3b-24a82fb4a0be"
      },
      "outputs": [
        {
          "data": {
            "text/plain": [
              "6"
            ]
          },
          "execution_count": 118,
          "metadata": {},
          "output_type": "execute_result"
        }
      ],
      "source": [
        "# method - 1, for accessing elements\n",
        "m2[1][1]"
      ]
    },
    {
      "cell_type": "code",
      "execution_count": null,
      "id": "066f64c5",
      "metadata": {
        "id": "066f64c5",
        "outputId": "c7118cea-dba1-4c76-f391-af68bd16b0ed"
      },
      "outputs": [
        {
          "data": {
            "text/plain": [
              "6"
            ]
          },
          "execution_count": 119,
          "metadata": {},
          "output_type": "execute_result"
        }
      ],
      "source": [
        "# method - 2, for accessing elements ( Preferred )\n",
        "m2[1,1]"
      ]
    },
    {
      "cell_type": "code",
      "execution_count": null,
      "id": "510fd888",
      "metadata": {
        "id": "510fd888",
        "outputId": "7f94f7ea-0a59-4345-d29f-563270c0c540"
      },
      "outputs": [
        {
          "data": {
            "text/plain": [
              "array([100, 100, 300, 400, 500, 600])"
            ]
          },
          "execution_count": 121,
          "metadata": {},
          "output_type": "execute_result"
        }
      ],
      "source": [
        "m7=np.array([100,100,300,400,500,600])\n",
        "m7"
      ]
    },
    {
      "cell_type": "code",
      "execution_count": null,
      "id": "5ffc324f",
      "metadata": {
        "id": "5ffc324f",
        "outputId": "fae08f01-569e-48e1-9de0-e78d4083ef03"
      },
      "outputs": [
        {
          "data": {
            "text/plain": [
              "array([300, 500, 600, 500])"
            ]
          },
          "execution_count": 123,
          "metadata": {},
          "output_type": "execute_result"
        }
      ],
      "source": [
        "# We can pass a list of indexes of the elements we want to access \n",
        "m7[[2,4,5,4]]"
      ]
    },
    {
      "cell_type": "code",
      "execution_count": null,
      "id": "97237285",
      "metadata": {
        "id": "97237285",
        "outputId": "3531c5c6-307a-49ea-e406-c0fe37551c4c"
      },
      "outputs": [
        {
          "data": {
            "text/plain": [
              "array([[ 1,  2,  3,  4],\n",
              "       [ 5,  6,  7,  8],\n",
              "       [ 9, 10, 11, 12]])"
            ]
          },
          "execution_count": 124,
          "metadata": {},
          "output_type": "execute_result"
        }
      ],
      "source": [
        "m2=np.arange(1,13).reshape(3,4)\n",
        "m2"
      ]
    },
    {
      "cell_type": "code",
      "execution_count": null,
      "id": "0120adc9",
      "metadata": {
        "id": "0120adc9",
        "outputId": "bc0d86f3-ffe2-474d-9d92-9f8f7abd6b96"
      },
      "outputs": [
        {
          "data": {
            "text/plain": [
              "array([ 6,  8, 12])"
            ]
          },
          "execution_count": 128,
          "metadata": {},
          "output_type": "execute_result"
        }
      ],
      "source": [
        "# to access multiple elements, we need to pass the row and column indexes separately in lists.\n",
        "m2[[1,1,2],[1,3,3]]"
      ]
    },
    {
      "cell_type": "code",
      "execution_count": null,
      "id": "894a5d0f",
      "metadata": {
        "id": "894a5d0f",
        "outputId": "8df8f6de-4ede-4af5-aeb0-828a67cb4a8e"
      },
      "outputs": [
        {
          "ename": "IndexError",
          "evalue": "too many indices for array: array is 2-dimensional, but 3 were indexed",
          "output_type": "error",
          "traceback": [
            "\u001b[0;31m---------------------------------------------------------------------------\u001b[0m",
            "\u001b[0;31mIndexError\u001b[0m                                Traceback (most recent call last)",
            "\u001b[0;32m/var/folders/hd/9z4dczb56dj54lb7q8w7s4zw0000gn/T/ipykernel_41514/256097587.py\u001b[0m in \u001b[0;36m<module>\u001b[0;34m\u001b[0m\n\u001b[0;32m----> 1\u001b[0;31m \u001b[0mm2\u001b[0m\u001b[0;34m[\u001b[0m\u001b[0;34m[\u001b[0m\u001b[0;36m1\u001b[0m\u001b[0;34m,\u001b[0m\u001b[0;36m1\u001b[0m\u001b[0;34m]\u001b[0m\u001b[0;34m,\u001b[0m\u001b[0;34m[\u001b[0m\u001b[0;36m1\u001b[0m\u001b[0;34m,\u001b[0m\u001b[0;36m3\u001b[0m\u001b[0;34m]\u001b[0m\u001b[0;34m,\u001b[0m\u001b[0;34m[\u001b[0m\u001b[0;36m2\u001b[0m\u001b[0;34m,\u001b[0m\u001b[0;36m3\u001b[0m\u001b[0;34m]\u001b[0m\u001b[0;34m]\u001b[0m\u001b[0;34m\u001b[0m\u001b[0;34m\u001b[0m\u001b[0m\n\u001b[0m",
            "\u001b[0;31mIndexError\u001b[0m: too many indices for array: array is 2-dimensional, but 3 were indexed"
          ]
        }
      ],
      "source": [
        "# we cannot pass each elements separately.\n",
        "# m2[[1,1],[1,3],[2,3]]"
      ]
    },
    {
      "cell_type": "code",
      "execution_count": null,
      "id": "ea108990",
      "metadata": {
        "id": "ea108990"
      },
      "outputs": [],
      "source": [
        "m8=np.arange(1,13)"
      ]
    },
    {
      "cell_type": "code",
      "execution_count": null,
      "id": "def11cdb",
      "metadata": {
        "id": "def11cdb",
        "outputId": "4d76d16e-39e8-40c9-8de8-dc12ea58331b"
      },
      "outputs": [
        {
          "data": {
            "text/plain": [
              "array([ 1,  2,  3,  4,  5,  6,  7,  8,  9, 10, 11, 12])"
            ]
          },
          "execution_count": 136,
          "metadata": {},
          "output_type": "execute_result"
        }
      ],
      "source": [
        "m8"
      ]
    },
    {
      "cell_type": "code",
      "execution_count": null,
      "id": "fb00f028",
      "metadata": {
        "id": "fb00f028",
        "outputId": "9343ae48-d7af-4d3b-9470-5d81938e2274"
      },
      "outputs": [
        {
          "data": {
            "text/plain": [
              "array([1, 2, 3, 4, 5])"
            ]
          },
          "execution_count": 137,
          "metadata": {},
          "output_type": "execute_result"
        }
      ],
      "source": [
        "# slicing elements from a numpy array.\n",
        "m8[:5]"
      ]
    },
    {
      "cell_type": "code",
      "execution_count": null,
      "id": "965f116f",
      "metadata": {
        "id": "965f116f",
        "outputId": "c7777d91-da34-4dce-cf0a-a936df818a05"
      },
      "outputs": [
        {
          "data": {
            "text/plain": [
              "array([ 8,  9, 10, 11, 12])"
            ]
          },
          "execution_count": 138,
          "metadata": {},
          "output_type": "execute_result"
        }
      ],
      "source": [
        "m8[7:]"
      ]
    },
    {
      "cell_type": "code",
      "execution_count": null,
      "id": "f79ce76e",
      "metadata": {
        "id": "f79ce76e",
        "outputId": "721f7dcf-172f-48e4-e195-6869cd7abd6c"
      },
      "outputs": [
        {
          "data": {
            "text/plain": [
              "array([ 2,  4,  6,  8, 10, 12])"
            ]
          },
          "execution_count": 139,
          "metadata": {},
          "output_type": "execute_result"
        }
      ],
      "source": [
        "# slicing elements from a numpy array using step size\n",
        "m8[1::2]"
      ]
    },
    {
      "cell_type": "code",
      "execution_count": null,
      "id": "b0baaafa",
      "metadata": {
        "id": "b0baaafa",
        "outputId": "a010348e-0005-4234-d9da-f9cca74b1f15"
      },
      "outputs": [
        {
          "data": {
            "text/plain": [
              "array([ 2,  5,  8, 11])"
            ]
          },
          "execution_count": 140,
          "metadata": {},
          "output_type": "execute_result"
        }
      ],
      "source": [
        "m8[1::3]"
      ]
    },
    {
      "cell_type": "code",
      "execution_count": null,
      "id": "1453b43d",
      "metadata": {
        "id": "1453b43d",
        "outputId": "355fe534-852a-454a-e028-71ce602c312d"
      },
      "outputs": [
        {
          "data": {
            "text/plain": [
              "array([2, 3, 4, 5, 6, 7])"
            ]
          },
          "execution_count": 142,
          "metadata": {},
          "output_type": "execute_result"
        }
      ],
      "source": [
        "# we can pass negative step sizes as well\n",
        "m8[-11:-5]"
      ]
    },
    {
      "cell_type": "code",
      "execution_count": null,
      "id": "15498a0b",
      "metadata": {
        "id": "15498a0b",
        "outputId": "de4e5ab5-abf4-4e05-9095-393f6542ab02"
      },
      "outputs": [
        {
          "data": {
            "text/plain": [
              "array([12, 11, 10,  9,  8,  7,  6,  5,  4,  3,  2,  1])"
            ]
          },
          "execution_count": 143,
          "metadata": {},
          "output_type": "execute_result"
        }
      ],
      "source": [
        "m8[::-1]"
      ]
    },
    {
      "cell_type": "code",
      "execution_count": null,
      "id": "1f7dead8",
      "metadata": {
        "id": "1f7dead8",
        "outputId": "ab7d2726-82ae-4302-e146-ebe4ca5ad559"
      },
      "outputs": [
        {
          "data": {
            "text/plain": [
              "array([], dtype=int64)"
            ]
          },
          "execution_count": 144,
          "metadata": {},
          "output_type": "execute_result"
        }
      ],
      "source": [
        "m8[2:5:-1]"
      ]
    },
    {
      "cell_type": "code",
      "execution_count": null,
      "id": "3ef7544e",
      "metadata": {
        "id": "3ef7544e",
        "outputId": "f9b90298-d7be-4db7-9ecf-ad463c22d064"
      },
      "outputs": [
        {
          "data": {
            "text/plain": [
              "array([6, 5, 4])"
            ]
          },
          "execution_count": 145,
          "metadata": {},
          "output_type": "execute_result"
        }
      ],
      "source": [
        "m8[5:2:-1]"
      ]
    },
    {
      "cell_type": "code",
      "execution_count": null,
      "id": "c434b20a",
      "metadata": {
        "id": "c434b20a"
      },
      "outputs": [],
      "source": [
        "m9=np.arange(1,13).reshape(3,4)"
      ]
    },
    {
      "cell_type": "code",
      "execution_count": null,
      "id": "86bdd259",
      "metadata": {
        "id": "86bdd259",
        "outputId": "d837ab80-35a8-4678-ac6e-e9f31bccda5f"
      },
      "outputs": [
        {
          "data": {
            "text/plain": [
              "array([[ 1,  2,  3,  4],\n",
              "       [ 5,  6,  7,  8],\n",
              "       [ 9, 10, 11, 12]])"
            ]
          },
          "execution_count": 148,
          "metadata": {},
          "output_type": "execute_result"
        }
      ],
      "source": [
        "m9"
      ]
    },
    {
      "cell_type": "code",
      "execution_count": null,
      "id": "32f966a3",
      "metadata": {
        "id": "32f966a3",
        "outputId": "8529615c-791c-4a0c-854c-a52682674323"
      },
      "outputs": [
        {
          "data": {
            "text/plain": [
              "array([1, 2, 3, 4])"
            ]
          },
          "execution_count": 149,
          "metadata": {},
          "output_type": "execute_result"
        }
      ],
      "source": [
        "m9[0]"
      ]
    },
    {
      "cell_type": "code",
      "execution_count": null,
      "id": "c357c083",
      "metadata": {
        "id": "c357c083",
        "outputId": "b9c711c9-286b-42f8-e521-d1eece59f24b"
      },
      "outputs": [
        {
          "data": {
            "text/plain": [
              "array([2, 3])"
            ]
          },
          "execution_count": 150,
          "metadata": {},
          "output_type": "execute_result"
        }
      ],
      "source": [
        "m9[0][1:3]"
      ]
    },
    {
      "cell_type": "code",
      "execution_count": null,
      "id": "373cae7a",
      "metadata": {
        "id": "373cae7a",
        "outputId": "08b24d84-c626-478e-c635-4e9d56966218"
      },
      "outputs": [
        {
          "data": {
            "text/plain": [
              "array([2, 3])"
            ]
          },
          "execution_count": 151,
          "metadata": {},
          "output_type": "execute_result"
        }
      ],
      "source": [
        "# accessing 0th indexed row and columns of indexes 1 and 2\n",
        "m9[0,1:3]"
      ]
    },
    {
      "cell_type": "code",
      "execution_count": null,
      "id": "45567a19",
      "metadata": {
        "id": "45567a19",
        "outputId": "71615ff7-b6e1-4ff1-94a9-18e462c29611"
      },
      "outputs": [
        {
          "data": {
            "text/plain": [
              "array([[ 6,  7],\n",
              "       [10, 11]])"
            ]
          },
          "execution_count": 153,
          "metadata": {},
          "output_type": "execute_result"
        }
      ],
      "source": [
        "\n",
        "# slicing multiple rows and columns\n",
        "m9[1:,1:3]"
      ]
    },
    {
      "cell_type": "code",
      "execution_count": null,
      "id": "26e947f1",
      "metadata": {
        "id": "26e947f1",
        "outputId": "9c929701-914a-4ec8-86bc-3c5f6d222e2f"
      },
      "outputs": [
        {
          "data": {
            "text/plain": [
              "array([[ 5,  6],\n",
              "       [ 9, 10]])"
            ]
          },
          "execution_count": 154,
          "metadata": {},
          "output_type": "execute_result"
        }
      ],
      "source": [
        "m9[1:,:2]"
      ]
    },
    {
      "cell_type": "code",
      "execution_count": null,
      "id": "9102c2e7",
      "metadata": {
        "id": "9102c2e7",
        "outputId": "30b6e0a2-5cb9-430a-89bb-6ab51ad5e8b2"
      },
      "outputs": [
        {
          "data": {
            "text/plain": [
              "array([[ 2,  4],\n",
              "       [ 6,  8],\n",
              "       [10, 12]])"
            ]
          },
          "execution_count": 155,
          "metadata": {},
          "output_type": "execute_result"
        }
      ],
      "source": [
        "m9[:,1::2]"
      ]
    },
    {
      "cell_type": "code",
      "execution_count": null,
      "id": "a368cb8b",
      "metadata": {
        "id": "a368cb8b",
        "outputId": "6155d9ae-17c6-4a5c-e044-e12dc852a751"
      },
      "outputs": [
        {
          "data": {
            "text/plain": [
              "array([[ 1,  2,  3],\n",
              "       [ 5,  6,  7],\n",
              "       [ 9, 10, 11]])"
            ]
          },
          "execution_count": 157,
          "metadata": {},
          "output_type": "execute_result"
        }
      ],
      "source": [
        "# if we want to access specific columns of rows, we pass the index within a list or tuple. both works\n",
        "# m9[:,[0,1,2]] it also works the same way\n",
        "\n",
        "m9[:,(0,1,2)]"
      ]
    },
    {
      "cell_type": "code",
      "execution_count": null,
      "id": "4a1f77e9",
      "metadata": {
        "id": "4a1f77e9"
      },
      "outputs": [],
      "source": [
        "a = [1,2,3,4,5]\n",
        "b = [8,7,6]\n",
        "a[2 : ] = b[ : : -1]\n"
      ]
    },
    {
      "cell_type": "code",
      "execution_count": null,
      "id": "2056bd24",
      "metadata": {
        "id": "2056bd24"
      },
      "outputs": [],
      "source": [
        "a = [1,2,3,4,5]"
      ]
    },
    {
      "cell_type": "code",
      "execution_count": null,
      "id": "1f52104e",
      "metadata": {
        "id": "1f52104e"
      },
      "outputs": [],
      "source": [
        "b = [8,7,6]"
      ]
    },
    {
      "cell_type": "code",
      "execution_count": null,
      "id": "5bee9680",
      "metadata": {
        "id": "5bee9680"
      },
      "outputs": [],
      "source": [
        "a[2 : ] = b[ : : -1]"
      ]
    },
    {
      "cell_type": "code",
      "execution_count": null,
      "id": "1955838a",
      "metadata": {
        "id": "1955838a",
        "outputId": "4fbcac0b-2373-4db1-921c-9f0747573630"
      },
      "outputs": [
        {
          "data": {
            "text/plain": [
              "[1, 2, 6, 7, 8]"
            ]
          },
          "execution_count": 161,
          "metadata": {},
          "output_type": "execute_result"
        }
      ],
      "source": [
        "a"
      ]
    },
    {
      "cell_type": "code",
      "execution_count": null,
      "id": "d0ba9b1d",
      "metadata": {
        "id": "d0ba9b1d"
      },
      "outputs": [],
      "source": [
        "a[3]=100"
      ]
    },
    {
      "cell_type": "code",
      "execution_count": null,
      "id": "18ad996a",
      "metadata": {
        "id": "18ad996a",
        "outputId": "869b15e9-d4d3-4350-89a5-514392017178"
      },
      "outputs": [
        {
          "data": {
            "text/plain": [
              "[1, 2, 6, 100, 8]"
            ]
          },
          "execution_count": 163,
          "metadata": {},
          "output_type": "execute_result"
        }
      ],
      "source": [
        "a"
      ]
    },
    {
      "cell_type": "code",
      "execution_count": null,
      "id": "2f700474",
      "metadata": {
        "id": "2f700474"
      },
      "outputs": [],
      "source": []
    },
    {
      "cell_type": "code",
      "execution_count": null,
      "id": "e94e4749",
      "metadata": {
        "id": "e94e4749",
        "outputId": "c2fb95f8-9c21-411e-cebe-18c348a772c4"
      },
      "outputs": [
        {
          "data": {
            "text/plain": [
              "array([1, 2])"
            ]
          },
          "execution_count": 164,
          "metadata": {},
          "output_type": "execute_result"
        }
      ],
      "source": [
        "m1 = np.array([[0,1,2,3],\n",
        "[4,5,6,7],\n",
        "[8,9,10,11]])\n",
        "\n",
        "m1[0,1:3]"
      ]
    },
    {
      "cell_type": "code",
      "execution_count": null,
      "id": "f6d4f070",
      "metadata": {
        "id": "f6d4f070",
        "outputId": "bc9dda4b-d81c-462d-e2bf-54a60c7dadba"
      },
      "outputs": [
        {
          "data": {
            "text/plain": [
              "array([ 0,  1,  2,  3, 10, 10])"
            ]
          },
          "execution_count": 165,
          "metadata": {},
          "output_type": "execute_result"
        }
      ],
      "source": [
        "a = np.array([0,1,2,3,4,5])\n",
        "a[4:]=10\n",
        "a"
      ]
    },
    {
      "cell_type": "code",
      "execution_count": null,
      "id": "1fd44ea9",
      "metadata": {
        "id": "1fd44ea9",
        "outputId": "9316eb84-a6d5-4fb8-ded2-6de62cce8a06"
      },
      "outputs": [
        {
          "data": {
            "text/plain": [
              "array([[ 1,  2,  3,  4],\n",
              "       [ 5,  6,  7,  8],\n",
              "       [ 9, 10, 11, 12]])"
            ]
          },
          "execution_count": 168,
          "metadata": {},
          "output_type": "execute_result"
        }
      ],
      "source": [
        "m1=np.arange(1,13).reshape(3,4)\n",
        "m1"
      ]
    },
    {
      "cell_type": "code",
      "execution_count": null,
      "id": "c635ce62",
      "metadata": {
        "id": "c635ce62",
        "outputId": "41b47231-10bf-466f-f76c-19f54497c3cb"
      },
      "outputs": [
        {
          "data": {
            "text/plain": [
              "array([[ True,  True,  True,  True],\n",
              "       [ True, False, False, False],\n",
              "       [False, False, False, False]])"
            ]
          },
          "execution_count": 169,
          "metadata": {},
          "output_type": "execute_result"
        }
      ],
      "source": [
        "# numpy also supports elements logical operations.\n",
        "# here we are creating mask of boolean values.\n",
        "mask=m1<6\n",
        "mask"
      ]
    },
    {
      "cell_type": "code",
      "execution_count": null,
      "id": "a0cafd99",
      "metadata": {
        "id": "a0cafd99",
        "outputId": "f203fe48-05df-41b9-c9be-37b5b18441dd"
      },
      "outputs": [
        {
          "data": {
            "text/plain": [
              "array([1, 2, 3, 4, 5])"
            ]
          },
          "execution_count": 170,
          "metadata": {},
          "output_type": "execute_result"
        }
      ],
      "source": [
        "m1[mask]"
      ]
    },
    {
      "cell_type": "code",
      "execution_count": null,
      "id": "c37a2020",
      "metadata": {
        "id": "c37a2020",
        "outputId": "84bd1255-a1d6-4ec2-d5f2-61ea3e9fc6c8"
      },
      "outputs": [
        {
          "data": {
            "text/plain": [
              "array([ 2,  4,  6,  8, 10, 12])"
            ]
          },
          "execution_count": 174,
          "metadata": {},
          "output_type": "execute_result"
        }
      ],
      "source": [
        "# filtering out the values that satisfies the condition or the values where we have True as value.\n",
        "m1[m1%2==0]"
      ]
    },
    {
      "cell_type": "code",
      "execution_count": null,
      "id": "043f06b3",
      "metadata": {
        "id": "043f06b3"
      },
      "outputs": [],
      "source": [
        "# creating multiple conditions.\n",
        "mask=(m1%2==0)|(m1%5==0) "
      ]
    },
    {
      "cell_type": "code",
      "execution_count": null,
      "id": "aa5bdf31",
      "metadata": {
        "id": "aa5bdf31",
        "outputId": "047d4b66-2a85-4b88-cb58-8d7aec11cbac"
      },
      "outputs": [
        {
          "data": {
            "text/plain": [
              "array([[False,  True, False,  True],\n",
              "       [ True,  True, False,  True],\n",
              "       [False,  True, False,  True]])"
            ]
          },
          "execution_count": 176,
          "metadata": {},
          "output_type": "execute_result"
        }
      ],
      "source": [
        "mask"
      ]
    },
    {
      "cell_type": "code",
      "execution_count": null,
      "id": "f6a1df2b",
      "metadata": {
        "id": "f6a1df2b",
        "outputId": "793de486-0144-4b9b-cdc8-ba5e3909c6a8"
      },
      "outputs": [
        {
          "data": {
            "text/plain": [
              "array([ 2,  4,  5,  6,  8, 10, 12])"
            ]
          },
          "execution_count": 177,
          "metadata": {},
          "output_type": "execute_result"
        }
      ],
      "source": [
        "m1[mask]"
      ]
    },
    {
      "cell_type": "code",
      "execution_count": null,
      "id": "a1421ab0",
      "metadata": {
        "id": "a1421ab0",
        "outputId": "1b5d9c13-28bd-4d39-febb-0e360a11aba8"
      },
      "outputs": [
        {
          "data": {
            "text/plain": [
              "array([[False,  True, False,  True],\n",
              "       [False,  True, False,  True],\n",
              "       [False,  True, False,  True]])"
            ]
          },
          "execution_count": 178,
          "metadata": {},
          "output_type": "execute_result"
        }
      ],
      "source": [
        "m1%2==0"
      ]
    },
    {
      "cell_type": "code",
      "execution_count": null,
      "id": "8af59d80",
      "metadata": {
        "id": "8af59d80",
        "outputId": "514a7afc-9f96-4eb1-b42c-7054954f3554"
      },
      "outputs": [
        {
          "data": {
            "text/plain": [
              "array([[False, False, False, False],\n",
              "       [ True, False, False, False],\n",
              "       [False,  True, False, False]])"
            ]
          },
          "execution_count": 179,
          "metadata": {},
          "output_type": "execute_result"
        }
      ],
      "source": [
        "m1%5==0"
      ]
    },
    {
      "cell_type": "code",
      "execution_count": null,
      "id": "56e5f37b",
      "metadata": {
        "id": "56e5f37b"
      },
      "outputs": [],
      "source": [
        "a = np.array([0,1,2,3,4,5])\n",
        "mask = (a%2 == 0)\n",
        "mask\n",
        "a[mask] = -1\n",
        "# What'll be the values of a?"
      ]
    },
    {
      "cell_type": "code",
      "execution_count": null,
      "id": "ae280cca",
      "metadata": {
        "id": "ae280cca",
        "outputId": "073538bf-fa8b-4e90-e30d-9858f07120dc"
      },
      "outputs": [
        {
          "data": {
            "text/plain": [
              "array([-1,  1, -1,  3, -1,  5])"
            ]
          },
          "execution_count": 182,
          "metadata": {},
          "output_type": "execute_result"
        }
      ],
      "source": [
        "a"
      ]
    },
    {
      "cell_type": "code",
      "execution_count": null,
      "id": "6b5caa66",
      "metadata": {
        "id": "6b5caa66"
      },
      "outputs": [],
      "source": [
        "np.eye?"
      ]
    },
    {
      "cell_type": "code",
      "execution_count": null,
      "id": "3251bbde",
      "metadata": {
        "id": "3251bbde",
        "outputId": "8def5573-b03b-4c3f-de8c-187a25c78d74"
      },
      "outputs": [
        {
          "data": {
            "text/plain": [
              "array([[1., 0., 0., 0.],\n",
              "       [0., 1., 0., 0.],\n",
              "       [0., 0., 1., 0.],\n",
              "       [0., 0., 0., 1.],\n",
              "       [0., 0., 0., 0.],\n",
              "       [0., 0., 0., 0.],\n",
              "       [0., 0., 0., 0.],\n",
              "       [0., 0., 0., 0.],\n",
              "       [0., 0., 0., 0.],\n",
              "       [0., 0., 0., 0.]])"
            ]
          },
          "execution_count": 190,
          "metadata": {},
          "output_type": "execute_result"
        }
      ],
      "source": [
        "np.eye(10,4)"
      ]
    },
    {
      "cell_type": "code",
      "execution_count": null,
      "id": "7e247250",
      "metadata": {
        "id": "7e247250",
        "outputId": "6367e505-5d25-40ed-a46b-727a4e59d626"
      },
      "outputs": [
        {
          "data": {
            "text/plain": [
              "array([[1., 0., 0., 0.],\n",
              "       [0., 1., 0., 0.],\n",
              "       [0., 0., 1., 0.],\n",
              "       [0., 0., 0., 1.]])"
            ]
          },
          "execution_count": 189,
          "metadata": {},
          "output_type": "execute_result"
        }
      ],
      "source": [
        "np.identity(4)"
      ]
    },
    {
      "cell_type": "code",
      "execution_count": null,
      "id": "f15e810c",
      "metadata": {
        "id": "f15e810c",
        "outputId": "2d090d27-a051-43c9-8089-5c147b2086e0"
      },
      "outputs": [
        {
          "data": {
            "text/plain": [
              "array([[1., 0., 0., 0.],\n",
              "       [0., 1., 0., 0.],\n",
              "       [0., 0., 1., 0.],\n",
              "       [0., 0., 0., 1.]])"
            ]
          },
          "execution_count": 191,
          "metadata": {},
          "output_type": "execute_result"
        }
      ],
      "source": [
        "np.eye(4)"
      ]
    },
    {
      "cell_type": "code",
      "execution_count": null,
      "id": "df7f7e1d",
      "metadata": {
        "id": "df7f7e1d"
      },
      "outputs": [],
      "source": []
    },
    {
      "cell_type": "code",
      "execution_count": null,
      "id": "1fbe82a1",
      "metadata": {
        "id": "1fbe82a1"
      },
      "outputs": [],
      "source": []
    },
    {
      "cell_type": "code",
      "execution_count": null,
      "id": "49aa5c9d",
      "metadata": {
        "id": "49aa5c9d"
      },
      "outputs": [],
      "source": []
    },
    {
      "cell_type": "code",
      "execution_count": null,
      "id": "4a8e12b8",
      "metadata": {
        "id": "4a8e12b8"
      },
      "outputs": [],
      "source": []
    },
    {
      "cell_type": "code",
      "execution_count": null,
      "id": "fbebea25",
      "metadata": {
        "id": "fbebea25"
      },
      "outputs": [],
      "source": []
    },
    {
      "cell_type": "code",
      "execution_count": null,
      "id": "bf47c412",
      "metadata": {
        "id": "bf47c412"
      },
      "outputs": [],
      "source": []
    },
    {
      "cell_type": "code",
      "execution_count": null,
      "id": "b8da28b1",
      "metadata": {
        "id": "b8da28b1"
      },
      "outputs": [],
      "source": []
    },
    {
      "cell_type": "code",
      "execution_count": null,
      "id": "85a96e32",
      "metadata": {
        "id": "85a96e32"
      },
      "outputs": [],
      "source": []
    }
  ],
  "metadata": {
    "kernelspec": {
      "display_name": "Python 3 (ipykernel)",
      "language": "python",
      "name": "python3"
    },
    "language_info": {
      "codemirror_mode": {
        "name": "ipython",
        "version": 3
      },
      "file_extension": ".py",
      "mimetype": "text/x-python",
      "name": "python",
      "nbconvert_exporter": "python",
      "pygments_lexer": "ipython3",
      "version": "3.9.7"
    },
    "colab": {
      "provenance": []
    }
  },
  "nbformat": 4,
  "nbformat_minor": 5
}